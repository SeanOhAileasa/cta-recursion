{
 "cells": [
  {
   "cell_type": "markdown",
   "metadata": {},
   "source": [
    "# recursion-iteration-types-binary-fibonacci\n",
    "> [TABLE OF CONTENTS](https://nbviewer.jupyter.org/github/SeanOhAileasa/cta-recursion/blob/main/cta-recursion.ipynb)\n",
    "***"
   ]
  },
  {
   "cell_type": "markdown",
   "metadata": {},
   "source": [
    "- **sequence** of numbers - **appear** **random** at first - simple pattern underlying how the next number in the sequence is generated - any number in the sequence is the **sum** of the **previous** **two** numbers - **first** **two** numbers - $n$ - 1 - $n$ - 2 - **special** **cases** - every number after follows the rule - sum of the two previous numbers [6]"
   ]
  },
  {
   "cell_type": "markdown",
   "metadata": {},
   "source": [
    "- **series** - evident in **nature** - used to **model** the **growth** **rate** of **organisms** - growth rate of **any** **living** **thing** - extends into many areas of the natural world - includes the arrangement of leaves on plants - bracts of a pinecone - the scales of a pineapple - proportions of the human body - ratio of certain measurements in the human body in relation to each other - **conform** to the - **fibonacci** **series** [6]"
   ]
  },
  {
   "cell_type": "markdown",
   "metadata": {},
   "source": [
    "- petals which appear in a flower - spirals seen in nature - snail shells - seashells - $1$ - $2$ - $3$ - $5$ - $8$ - $13$ - $21$ - first numbers - fibonacci series - **plotted** on a **grid** - drawing a spiral which grows outward using the fibonacci numbers - **growth** - could be used to **model** how **shells** **grow** - **branches** forming on a **tree** [6]"
   ]
  },
  {
   "cell_type": "markdown",
   "metadata": {},
   "source": [
    "<img src=\"img/fibspiral.png\" />"
   ]
  },
  {
   "cell_type": "markdown",
   "metadata": {},
   "source": [
    "- Italian mathematician - Leonardo of Pisa - known as Fibonacci - 1202 - published book - **Liber** **Abaci** - introduced - fibonacci sequence - to the Western world - Western mathematicians - albeit already known to mathematicians in the East - Indian mathematicians especially had studied this sequence [6]"
   ]
  },
  {
   "cell_type": "markdown",
   "metadata": {},
   "source": [
    "- **convention** - number - **zero** - **included** in the **series** - assigned to position - **index** - **one** - function - fib - parameter - $n$ - is the - $nth$ number in the series [6]\n",
    "\n",
    "$fib(1)$ $=$ $0$, $fib(2)$ $=$ $1$, $fib(3)$ $=$ $1$, $fib(4)$ $=$ $2$, $fib(5)$ $=$ $3$, $fib(6)$ $=$ $5$, $fib(7)$ $=$ $8$, $...$\n",
    "\n",
    "- item - element - in the - fibonacci series - number - 5 - would be the sum of items - elements - number - 4 - item - element - number - 3 [6]\n",
    "\n",
    "$fib(n)$ = $fib(n-1)$ + $fib(n-2)$"
   ]
  },
  {
   "cell_type": "markdown",
   "metadata": {},
   "source": [
    "- **numbers** - **one** - **two** - $fib(1)$ - $fib(2)$ - **not** **conform** to this **rule** - **serve** as **base** **cases** in **recursive** **implementation** for calculating the - $nth$ - number in the fibonacci series [6]"
   ]
  },
  {
   "cell_type": "markdown",
   "metadata": {},
   "source": [
    "***\n",
    "# END"
   ]
  }
 ],
 "metadata": {
  "kernelspec": {
   "display_name": "Python 3",
   "language": "python",
   "name": "python3"
  },
  "language_info": {
   "codemirror_mode": {
    "name": "ipython",
    "version": 3
   },
   "file_extension": ".py",
   "mimetype": "text/x-python",
   "name": "python",
   "nbconvert_exporter": "python",
   "pygments_lexer": "ipython3",
   "version": "3.8.8"
  }
 },
 "nbformat": 4,
 "nbformat_minor": 4
}
