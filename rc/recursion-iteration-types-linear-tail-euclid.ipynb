{
 "cells": [
  {
   "cell_type": "markdown",
   "metadata": {},
   "source": [
    "# recursion-iteration-types-linear-tail-euclid\n",
    "> [TABLE OF CONTENTS](https://nbviewer.jupyter.org/github/SeanOhAileasa/cta-recursion/blob/main/cta-recursion.ipynb)\n",
    "***"
   ]
  },
  {
   "cell_type": "markdown",
   "metadata": {},
   "source": [
    "- **greatest** **common** **divisor** - gcd - of **two** **postive* **integers** is the **largest** which **divides** into **both** numbers **without** leaving a **remainder** - gcd - 30 - 35 - is five - euclids algorithm - proposed circa 300 BC - may be used to determine the - gcd - of two integers - inherently a recursion algorithm - an algorithm that repeats the same process over and over [6]"
   ]
  },
  {
   "cell_type": "markdown",
   "metadata": {},
   "source": [
    "- **find** **largest** **square** tile which can be used to **cover** the **floor** of a room without using partial or cut tiles - cuts down on labour costs - the larger the tile the more quickly laid - in addition no requirement for tile cutting [6]"
   ]
  },
  {
   "cell_type": "code",
   "execution_count": 1,
   "metadata": {},
   "outputs": [],
   "source": [
    "nFloorWidth,nFloorHeight=15,21"
   ]
  },
  {
   "cell_type": "markdown",
   "metadata": {},
   "source": [
    "<img src=\"img/04-2-04.png\" />"
   ]
  },
  {
   "cell_type": "code",
   "execution_count": 2,
   "metadata": {},
   "outputs": [
    {
     "data": {
      "text/plain": [
       "'<FLOOR> <width> 15 <height> 21'"
      ]
     },
     "execution_count": 2,
     "metadata": {},
     "output_type": "execute_result"
    }
   ],
   "source": [
    "\"<FLOOR> <width> {} <height> {}\".format(\n",
    "    nFloorWidth,nFloorHeight)"
   ]
  },
  {
   "cell_type": "markdown",
   "metadata": {},
   "source": [
    "<img src=\"img/04-2-05.png\" />"
   ]
  },
  {
   "cell_type": "code",
   "execution_count": 3,
   "metadata": {},
   "outputs": [
    {
     "data": {
      "text/plain": [
       "'<AREA> 315 <rotate> 90 deg.'"
      ]
     },
     "execution_count": 3,
     "metadata": {},
     "output_type": "execute_result"
    }
   ],
   "source": [
    "nFloorArea=nFloorWidth*nFloorHeight\n",
    "\"<AREA> {} <rotate> {} deg.\".format(nFloorArea,90)"
   ]
  },
  {
   "cell_type": "code",
   "execution_count": 4,
   "metadata": {},
   "outputs": [
    {
     "data": {
      "text/plain": [
       "'<FLOOR> <width> 21 <height> 15'"
      ]
     },
     "execution_count": 4,
     "metadata": {},
     "output_type": "execute_result"
    }
   ],
   "source": [
    "if nFloorWidth<nFloorHeight: nFloorWidth,nFloorHeight=nFloorHeight,nFloorWidth\n",
    "\"<FLOOR> <width> {} <height> {}\".format(\n",
    "    nFloorWidth,nFloorHeight)"
   ]
  },
  {
   "cell_type": "markdown",
   "metadata": {},
   "source": [
    "<img src=\"img/04-2-05-1.png\" />"
   ]
  },
  {
   "cell_type": "code",
   "execution_count": 5,
   "metadata": {},
   "outputs": [
    {
     "data": {
      "text/plain": [
       "'<GCD> <check> 15'"
      ]
     },
     "execution_count": 5,
     "metadata": {},
     "output_type": "execute_result"
    }
   ],
   "source": [
    "\"<GCD> <check> {}\".format(nFloorHeight)"
   ]
  },
  {
   "cell_type": "code",
   "execution_count": 6,
   "metadata": {},
   "outputs": [
    {
     "data": {
      "text/plain": [
       "'<FLOOR> <tile(s)> 1 <AREA> <outstanding> 90'"
      ]
     },
     "execution_count": 6,
     "metadata": {},
     "output_type": "execute_result"
    }
   ],
   "source": [
    "nTile=nFloorWidth//nFloorHeight\n",
    "nFloorArea-=(nFloorHeight**2)*nTile\n",
    "\"<FLOOR> <tile(s)> {} <AREA> <outstanding> {}\".format(nTile,nFloorArea)"
   ]
  },
  {
   "cell_type": "code",
   "execution_count": 7,
   "metadata": {},
   "outputs": [
    {
     "data": {
      "text/plain": [
       "'<GCD> <15> False'"
      ]
     },
     "execution_count": 7,
     "metadata": {},
     "output_type": "execute_result"
    }
   ],
   "source": [
    "nRemainder=nFloorWidth%nFloorHeight\n",
    "\"<GCD> <{}> {}\".format(nFloorHeight,nRemainder==0)"
   ]
  },
  {
   "cell_type": "markdown",
   "metadata": {},
   "source": [
    "<img src=\"img/04-2-05-2.png\" />"
   ]
  },
  {
   "cell_type": "code",
   "execution_count": 8,
   "metadata": {},
   "outputs": [
    {
     "data": {
      "text/plain": [
       "'<AREA> 90 <rotate> 90 deg.'"
      ]
     },
     "execution_count": 8,
     "metadata": {},
     "output_type": "execute_result"
    }
   ],
   "source": [
    "\"<AREA> {} <rotate> {} deg.\".format(nFloorArea,90)"
   ]
  },
  {
   "cell_type": "code",
   "execution_count": 9,
   "metadata": {},
   "outputs": [
    {
     "data": {
      "text/plain": [
       "'<FLOOR> <width> 15 <height> 6'"
      ]
     },
     "execution_count": 9,
     "metadata": {},
     "output_type": "execute_result"
    }
   ],
   "source": [
    "nFloorWidth=nFloorHeight\n",
    "nFloorHeight=nRemainder\n",
    "\"<FLOOR> <width> {} <height> {}\".format(\n",
    "    nFloorWidth,nFloorHeight)"
   ]
  },
  {
   "cell_type": "markdown",
   "metadata": {},
   "source": [
    "<img src=\"img/04-2-05-3.png\" />"
   ]
  },
  {
   "cell_type": "code",
   "execution_count": 10,
   "metadata": {},
   "outputs": [
    {
     "data": {
      "text/plain": [
       "'<GCD> <check> 6'"
      ]
     },
     "execution_count": 10,
     "metadata": {},
     "output_type": "execute_result"
    }
   ],
   "source": [
    "\"<GCD> <check> {}\".format(nFloorHeight)"
   ]
  },
  {
   "cell_type": "code",
   "execution_count": 11,
   "metadata": {},
   "outputs": [
    {
     "data": {
      "text/plain": [
       "'<FLOOR> <tile(s)> 2 <AREA> <outstanding> 18'"
      ]
     },
     "execution_count": 11,
     "metadata": {},
     "output_type": "execute_result"
    }
   ],
   "source": [
    "nTile=nFloorWidth//nFloorHeight\n",
    "nFloorArea-=(nFloorHeight**2)*nTile\n",
    "\"<FLOOR> <tile(s)> {} <AREA> <outstanding> {}\".format(nTile,nFloorArea)"
   ]
  },
  {
   "cell_type": "code",
   "execution_count": 12,
   "metadata": {},
   "outputs": [
    {
     "data": {
      "text/plain": [
       "'<GCD> <6> False'"
      ]
     },
     "execution_count": 12,
     "metadata": {},
     "output_type": "execute_result"
    }
   ],
   "source": [
    "nRemainder=nFloorWidth%nFloorHeight\n",
    "\"<GCD> <{}> {}\".format(nFloorHeight,nRemainder==0)"
   ]
  },
  {
   "cell_type": "markdown",
   "metadata": {},
   "source": [
    "<img src=\"img/04-2-05-4.png\" />"
   ]
  },
  {
   "cell_type": "code",
   "execution_count": 13,
   "metadata": {},
   "outputs": [
    {
     "data": {
      "text/plain": [
       "'<AREA> 18 <rotate> 90 deg.'"
      ]
     },
     "execution_count": 13,
     "metadata": {},
     "output_type": "execute_result"
    }
   ],
   "source": [
    "\"<AREA> {} <rotate> {} deg.\".format(nFloorArea,90)"
   ]
  },
  {
   "cell_type": "code",
   "execution_count": 14,
   "metadata": {},
   "outputs": [
    {
     "data": {
      "text/plain": [
       "'<FLOOR> <width> 6 <height> 3'"
      ]
     },
     "execution_count": 14,
     "metadata": {},
     "output_type": "execute_result"
    }
   ],
   "source": [
    "nFloorWidth=nFloorHeight\n",
    "nFloorHeight=nRemainder\n",
    "\"<FLOOR> <width> {} <height> {}\".format(\n",
    "    nFloorWidth,nFloorHeight)"
   ]
  },
  {
   "cell_type": "markdown",
   "metadata": {},
   "source": [
    "<img src=\"img/04-2-05-5.png\" />"
   ]
  },
  {
   "cell_type": "code",
   "execution_count": 15,
   "metadata": {},
   "outputs": [
    {
     "data": {
      "text/plain": [
       "'<GCD> <3> True'"
      ]
     },
     "execution_count": 15,
     "metadata": {},
     "output_type": "execute_result"
    }
   ],
   "source": [
    "nRemainder=nFloorWidth%nFloorHeight\n",
    "\"<GCD> <{}> {}\".format(nFloorHeight,nRemainder==0)"
   ]
  },
  {
   "cell_type": "markdown",
   "metadata": {},
   "source": [
    "<img src=\"img/04-2-03.png\" />"
   ]
  },
  {
   "cell_type": "markdown",
   "metadata": {},
   "source": [
    "***\n",
    "# END"
   ]
  }
 ],
 "metadata": {
  "kernelspec": {
   "display_name": "Python 3",
   "language": "python",
   "name": "python3"
  },
  "language_info": {
   "codemirror_mode": {
    "name": "ipython",
    "version": 3
   },
   "file_extension": ".py",
   "mimetype": "text/x-python",
   "name": "python",
   "nbconvert_exporter": "python",
   "pygments_lexer": "ipython3",
   "version": "3.8.8"
  }
 },
 "nbformat": 4,
 "nbformat_minor": 4
}
