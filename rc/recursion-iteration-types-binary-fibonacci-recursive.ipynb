{
 "cells": [
  {
   "cell_type": "markdown",
   "metadata": {},
   "source": [
    "# recursion-iteration-types-binary-fibonacci-recursive\n",
    "> [TABLE OF CONTENTS](https://nbviewer.jupyter.org/github/SeanOhAileasa/cta-recursion/blob/main/cta-recursion.ipynb)\n",
    "***"
   ]
  },
  {
   "cell_type": "code",
   "execution_count": 1,
   "metadata": {},
   "outputs": [],
   "source": [
    "nStackActivationFrame=\"Empty Stack\"\n",
    "nStackTime=0"
   ]
  },
  {
   "cell_type": "markdown",
   "metadata": {},
   "source": [
    "- **binary** **recursion** - recursive method - within the method body makes two recursive calls to itself - $fib(3)$ - two recursive calls - $fib(2)$ - $fib(1)$ [6]"
   ]
  },
  {
   "cell_type": "markdown",
   "metadata": {},
   "source": [
    "- **technically** **not** - **tail** recursion - **last** **operation** completed will be the **addition** of the values returned by the two recursive calls [6]"
   ]
  },
  {
   "cell_type": "code",
   "execution_count": 2,
   "metadata": {},
   "outputs": [],
   "source": [
    "# define function - fib\n",
    "def fib(nPar):\n",
    "    if nPar==1:\n",
    "        return 0\n",
    "    elif nPar==2:\n",
    "        return 1\n",
    "    return fib(nPar-1)+fib(nPar-2)"
   ]
  },
  {
   "cell_type": "markdown",
   "metadata": {},
   "source": [
    "$fib(1)$ $=$ $0$, $fib(2)$ $=$ $1$, $fib(3)$"
   ]
  },
  {
   "cell_type": "code",
   "execution_count": 3,
   "metadata": {},
   "outputs": [],
   "source": [
    "nArgument=3"
   ]
  },
  {
   "cell_type": "code",
   "execution_count": 4,
   "metadata": {},
   "outputs": [],
   "source": [
    "nFunctionMethodSignature=__name__\n",
    "nUserDefinedFunction=fib.__name__\n",
    "nParameter=nArgument\n",
    "nReturn=-1"
   ]
  },
  {
   "cell_type": "markdown",
   "metadata": {},
   "source": [
    "<img src=\"img/04-1-04.png\" />"
   ]
  },
  {
   "cell_type": "code",
   "execution_count": 5,
   "metadata": {},
   "outputs": [
    {
     "data": {
      "text/plain": [
       "'<STACK> <activation frame(s)> Empty Stack <time/active> 0'"
      ]
     },
     "execution_count": 5,
     "metadata": {},
     "output_type": "execute_result"
    }
   ],
   "source": [
    "\"<STACK> <activation frame(s)> {} <time/active> {}\".format(\n",
    "    nStackActivationFrame,nStackTime)"
   ]
  },
  {
   "cell_type": "markdown",
   "metadata": {},
   "source": [
    "<img src=\"img/04-1-05.png\" />"
   ]
  },
  {
   "cell_type": "code",
   "execution_count": 6,
   "metadata": {},
   "outputs": [
    {
     "data": {
      "text/plain": [
       "'<FUNCTION/METHOD> <invoke> __main__'"
      ]
     },
     "execution_count": 6,
     "metadata": {},
     "output_type": "execute_result"
    }
   ],
   "source": [
    "\"<FUNCTION/METHOD> <invoke> {}\".format(\n",
    "    nFunctionMethodSignature)"
   ]
  },
  {
   "cell_type": "code",
   "execution_count": 7,
   "metadata": {},
   "outputs": [
    {
     "data": {
      "text/plain": [
       "'<STACK> <push> __main__ <activation frame(s)> __main__ <time/active> 1'"
      ]
     },
     "execution_count": 7,
     "metadata": {},
     "output_type": "execute_result"
    }
   ],
   "source": [
    "nStackTime+=1\n",
    "nStackActivationFrame=nFunctionMethodSignature\n",
    "\"<STACK> <push> {} <activation frame(s)> {} <time/active> {}\".format(\n",
    "    nFunctionMethodSignature,nStackActivationFrame,nStackTime)"
   ]
  },
  {
   "cell_type": "code",
   "execution_count": 8,
   "metadata": {},
   "outputs": [
    {
     "data": {
      "text/plain": [
       "'<CONDITIONAL> <FUNCTION/METHOD> <base case> False'"
      ]
     },
     "execution_count": 8,
     "metadata": {},
     "output_type": "execute_result"
    }
   ],
   "source": [
    "\"<CONDITIONAL> <FUNCTION/METHOD> <base case> {}\".format(\n",
    "    nParameter==1)"
   ]
  },
  {
   "cell_type": "code",
   "execution_count": 9,
   "metadata": {},
   "outputs": [
    {
     "data": {
      "text/plain": [
       "'<CONDITIONAL> <else> <FUNCTION/METHOD> <base case> False'"
      ]
     },
     "execution_count": 9,
     "metadata": {},
     "output_type": "execute_result"
    }
   ],
   "source": [
    "\"<CONDITIONAL> <else> <FUNCTION/METHOD> <base case> {}\".format(\n",
    "    nParameter==2)"
   ]
  },
  {
   "cell_type": "code",
   "execution_count": 10,
   "metadata": {},
   "outputs": [
    {
     "data": {
      "text/plain": [
       "'<FUNCTION/METHOD> <invoke> fib'"
      ]
     },
     "execution_count": 10,
     "metadata": {},
     "output_type": "execute_result"
    }
   ],
   "source": [
    "\"<FUNCTION/METHOD> <invoke> {}\".format(\n",
    "    nUserDefinedFunction)"
   ]
  },
  {
   "cell_type": "code",
   "execution_count": 11,
   "metadata": {},
   "outputs": [
    {
     "data": {
      "text/plain": [
       "'<FUNCTION/METHOD> <signature> fib(3)'"
      ]
     },
     "execution_count": 11,
     "metadata": {},
     "output_type": "execute_result"
    }
   ],
   "source": [
    "nFunctionMethodSignature_0=nUserDefinedFunction+\"(\"+str(nParameter)+\")\"\n",
    "\"<FUNCTION/METHOD> <signature> {}\".format(\n",
    "    nFunctionMethodSignature_0)"
   ]
  },
  {
   "cell_type": "code",
   "execution_count": 12,
   "metadata": {},
   "outputs": [
    {
     "data": {
      "text/plain": [
       "'<STACK> <push> fib(3) <activation frame(s)> __main__, fib(3) <time/active> 2'"
      ]
     },
     "execution_count": 12,
     "metadata": {},
     "output_type": "execute_result"
    }
   ],
   "source": [
    "nStackTime+=1\n",
    "nStackActivationFrame+=\", \"+nFunctionMethodSignature_0\n",
    "\"<STACK> <push> {} <activation frame(s)> {} <time/active> {}\".format(\n",
    "    nFunctionMethodSignature_0,nStackActivationFrame,nStackTime)"
   ]
  },
  {
   "cell_type": "code",
   "execution_count": 13,
   "metadata": {},
   "outputs": [
    {
     "data": {
      "text/plain": [
       "'<CONDITIONAL> <RECURSION> <base case> False'"
      ]
     },
     "execution_count": 13,
     "metadata": {},
     "output_type": "execute_result"
    }
   ],
   "source": [
    "\"<CONDITIONAL> <RECURSION> <base case> {}\".format(\n",
    "    nParameter==1)"
   ]
  },
  {
   "cell_type": "code",
   "execution_count": 14,
   "metadata": {},
   "outputs": [
    {
     "data": {
      "text/plain": [
       "'<CONDITIONAL> <else> <RECURSION> <base case> False'"
      ]
     },
     "execution_count": 14,
     "metadata": {},
     "output_type": "execute_result"
    }
   ],
   "source": [
    "\"<CONDITIONAL> <else> <RECURSION> <base case> {}\".format(\n",
    "    nParameter==2)"
   ]
  },
  {
   "cell_type": "code",
   "execution_count": 15,
   "metadata": {},
   "outputs": [
    {
     "data": {
      "text/plain": [
       "'<FUNCTION/METHOD> <invoke> fib'"
      ]
     },
     "execution_count": 15,
     "metadata": {},
     "output_type": "execute_result"
    }
   ],
   "source": [
    "nLocTemp=nParameter\n",
    "nParameter-=1\n",
    "\"<FUNCTION/METHOD> <invoke> {}\".format(\n",
    "    nUserDefinedFunction)"
   ]
  },
  {
   "cell_type": "code",
   "execution_count": 16,
   "metadata": {},
   "outputs": [
    {
     "data": {
      "text/plain": [
       "'<FUNCTION/METHOD> <signature> fib(2)'"
      ]
     },
     "execution_count": 16,
     "metadata": {},
     "output_type": "execute_result"
    }
   ],
   "source": [
    "nFunctionMethodSignature_1=nUserDefinedFunction+\"(\"+str(nParameter)+\")\"\n",
    "\"<FUNCTION/METHOD> <signature> {}\".format(\n",
    "    nFunctionMethodSignature_1)"
   ]
  },
  {
   "cell_type": "code",
   "execution_count": 17,
   "metadata": {},
   "outputs": [
    {
     "data": {
      "text/plain": [
       "'<STACK> <push> fib(2) <activation frame(s)> __main__, fib(3), fib(2) <time/active> 3'"
      ]
     },
     "execution_count": 17,
     "metadata": {},
     "output_type": "execute_result"
    }
   ],
   "source": [
    "nStackTime+=1\n",
    "nStackActivationFrame+=\", \"+nFunctionMethodSignature_1\n",
    "\"<STACK> <push> {} <activation frame(s)> {} <time/active> {}\".format(\n",
    "    nFunctionMethodSignature_1,nStackActivationFrame,nStackTime)"
   ]
  },
  {
   "cell_type": "code",
   "execution_count": 18,
   "metadata": {},
   "outputs": [
    {
     "data": {
      "text/plain": [
       "'<CONDITIONAL> <RECURSION> <base case> False'"
      ]
     },
     "execution_count": 18,
     "metadata": {},
     "output_type": "execute_result"
    }
   ],
   "source": [
    "\"<CONDITIONAL> <RECURSION> <base case> {}\".format(\n",
    "    nParameter==1)"
   ]
  },
  {
   "cell_type": "code",
   "execution_count": 19,
   "metadata": {},
   "outputs": [
    {
     "data": {
      "text/plain": [
       "'<CONDITIONAL> <else> <RECURSION> <base case> True'"
      ]
     },
     "execution_count": 19,
     "metadata": {},
     "output_type": "execute_result"
    }
   ],
   "source": [
    "\"<CONDITIONAL> <else> <RECURSION> <base case> {}\".format(\n",
    "    nParameter==2)"
   ]
  },
  {
   "cell_type": "code",
   "execution_count": 20,
   "metadata": {},
   "outputs": [
    {
     "data": {
      "text/plain": [
       "'<RECURSION> <FUNCTION/METHOD> <signature> fib(2) <RETURN> value 1'"
      ]
     },
     "execution_count": 20,
     "metadata": {},
     "output_type": "execute_result"
    }
   ],
   "source": [
    "nLocReturn_1=1\n",
    "\"<RECURSION> <FUNCTION/METHOD> <signature> {} <RETURN> value {}\".format(\n",
    "    nFunctionMethodSignature_1,nLocReturn_1)"
   ]
  },
  {
   "cell_type": "code",
   "execution_count": 21,
   "metadata": {},
   "outputs": [
    {
     "data": {
      "text/plain": [
       "'<RECURSION> <FUNCTION/METHOD> <invoke> fib'"
      ]
     },
     "execution_count": 21,
     "metadata": {},
     "output_type": "execute_result"
    }
   ],
   "source": [
    "nStackActivationFrames=__name__\n",
    "\"<RECURSION> <FUNCTION/METHOD> <invoke> {}\".format(\n",
    "    nUserDefinedFunction)"
   ]
  },
  {
   "cell_type": "code",
   "execution_count": 22,
   "metadata": {},
   "outputs": [
    {
     "data": {
      "text/plain": [
       "'<RECURSION> <FUNCTION/METHOD> <signature> fib(1))'"
      ]
     },
     "execution_count": 22,
     "metadata": {},
     "output_type": "execute_result"
    }
   ],
   "source": [
    "nLocTemp-=2\n",
    "nFunctionMethodSignature_2=nUserDefinedFunction+\"(\"+str(nLocTemp)+\")\"\n",
    "\"<RECURSION> <FUNCTION/METHOD> <signature> {})\".format(\n",
    "    nFunctionMethodSignature_2)"
   ]
  },
  {
   "cell_type": "code",
   "execution_count": 23,
   "metadata": {},
   "outputs": [
    {
     "data": {
      "text/plain": [
       "'<STACK> <push> fib(1) <activation frame(s)> __main__, fib(3), fib(2), fib(1) <time/active> 4'"
      ]
     },
     "execution_count": 23,
     "metadata": {},
     "output_type": "execute_result"
    }
   ],
   "source": [
    "nStackTime+=1\n",
    "nStackActivationFrame+=\", \"+nFunctionMethodSignature_2\n",
    "\"<STACK> <push> {} <activation frame(s)> {} <time/active> {}\".format(\n",
    "    nFunctionMethodSignature_2,nStackActivationFrame,nStackTime)"
   ]
  },
  {
   "cell_type": "code",
   "execution_count": 24,
   "metadata": {},
   "outputs": [
    {
     "data": {
      "text/plain": [
       "'<CONDITIONAL> <RECURSION> <base case> True'"
      ]
     },
     "execution_count": 24,
     "metadata": {},
     "output_type": "execute_result"
    }
   ],
   "source": [
    "\"<CONDITIONAL> <RECURSION> <base case> {}\".format(\n",
    "    nLocTemp==1)"
   ]
  },
  {
   "cell_type": "code",
   "execution_count": 25,
   "metadata": {},
   "outputs": [
    {
     "data": {
      "text/plain": [
       "'<RECURSION> <FUNCTION/METHOD> <signature> fib(1) <RETURN> value 0'"
      ]
     },
     "execution_count": 25,
     "metadata": {},
     "output_type": "execute_result"
    }
   ],
   "source": [
    "nLocReturn_2=0\n",
    "\"<RECURSION> <FUNCTION/METHOD> <signature> {} <RETURN> value {}\".format(\n",
    "    nFunctionMethodSignature_2,nLocReturn_2)"
   ]
  },
  {
   "cell_type": "code",
   "execution_count": 26,
   "metadata": {},
   "outputs": [
    {
     "data": {
      "text/plain": [
       "'<STACK> <pop> fib(1) <activation frame> fib(1) <RETURN> <value> 0'"
      ]
     },
     "execution_count": 26,
     "metadata": {},
     "output_type": "execute_result"
    }
   ],
   "source": [
    "\"<STACK> <pop> {} <activation frame> {} <RETURN> <value> {}\".format(\n",
    "    nFunctionMethodSignature_2,nFunctionMethodSignature_2,nLocReturn_2)"
   ]
  },
  {
   "cell_type": "code",
   "execution_count": 27,
   "metadata": {},
   "outputs": [
    {
     "data": {
      "text/plain": [
       "'<STACK> <pop> fib(2) <activation frame> fib(2) <RETURN> <value> 1'"
      ]
     },
     "execution_count": 27,
     "metadata": {},
     "output_type": "execute_result"
    }
   ],
   "source": [
    "\"<STACK> <pop> {} <activation frame> {} <RETURN> <value> {}\".format(\n",
    "    nFunctionMethodSignature_1,nFunctionMethodSignature_1,nLocReturn_1)"
   ]
  },
  {
   "cell_type": "code",
   "execution_count": 28,
   "metadata": {},
   "outputs": [
    {
     "data": {
      "text/plain": [
       "'<STACK> <pop> fib(3) <activation frame> fib(3) <RETURN> <value> 1 ...fib(2) <value> 1 + fib(1) <value> 0>'"
      ]
     },
     "execution_count": 28,
     "metadata": {},
     "output_type": "execute_result"
    }
   ],
   "source": [
    "nReturn=nLocReturn_1+nLocReturn_2\n",
    "\"<STACK> <pop> {} <activation frame> {} <RETURN> <value> {} ...{} <value> {} + {} <value> {}>\".format(\n",
    "    nFunctionMethodSignature_0,nFunctionMethodSignature_0,nReturn,nFunctionMethodSignature_1,\n",
    "    nLocReturn_1,nFunctionMethodSignature_2,nLocReturn_2)"
   ]
  },
  {
   "cell_type": "code",
   "execution_count": 29,
   "metadata": {},
   "outputs": [
    {
     "data": {
      "text/plain": [
       "1"
      ]
     },
     "execution_count": 29,
     "metadata": {},
     "output_type": "execute_result"
    }
   ],
   "source": [
    "nReturn"
   ]
  },
  {
   "cell_type": "markdown",
   "metadata": {},
   "source": [
    "<img src=\"img/04-02-05.png\" />"
   ]
  },
  {
   "cell_type": "code",
   "execution_count": 30,
   "metadata": {},
   "outputs": [
    {
     "data": {
      "text/plain": [
       "1"
      ]
     },
     "execution_count": 30,
     "metadata": {},
     "output_type": "execute_result"
    }
   ],
   "source": [
    "# function euclid - fib\n",
    "fib(nArgument)"
   ]
  },
  {
   "cell_type": "markdown",
   "metadata": {},
   "source": [
    "- $fib(4)$ - solves - $fib(3)$ - subproblem of - $fib(4)$ - recursive implementations relate to tree like structures - initially call - $fib(4)$ - check for the two base cases - False [6]\n",
    "\n",
    "```python\n",
    "return fib(nPar-1)+fib(nPar-2)\n",
    "```\n",
    "\n",
    "- call made up of - $fib(3)$ - $fib(2)$ - two calls branching out from the call - $fib(4)$ - with - $fib(3)$ - making two recursive calls - $fib(2)$ - $fib(1)$ - return from - $fib(1)$ - 1 - return from $fib(1)$ - 0 - both returned back to $fib(3)$ - then summed up - one plus zero - one - returned up to the call - $fib(4)$ [6] "
   ]
  },
  {
   "cell_type": "markdown",
   "metadata": {},
   "source": [
    "<img src=\"img/04-02-05-1.png\" />"
   ]
  },
  {
   "cell_type": "code",
   "execution_count": 31,
   "metadata": {},
   "outputs": [
    {
     "data": {
      "text/plain": [
       "2"
      ]
     },
     "execution_count": 31,
     "metadata": {},
     "output_type": "execute_result"
    }
   ],
   "source": [
    "nArgument=4\n",
    "# function euclid - fib\n",
    "fib(nArgument)"
   ]
  },
  {
   "cell_type": "markdown",
   "metadata": {},
   "source": [
    "<img src=\"img/04-02-05-2.png\" />"
   ]
  },
  {
   "cell_type": "code",
   "execution_count": 32,
   "metadata": {},
   "outputs": [
    {
     "data": {
      "text/plain": [
       "3"
      ]
     },
     "execution_count": 32,
     "metadata": {},
     "output_type": "execute_result"
    }
   ],
   "source": [
    "nArgument=5\n",
    "# function euclid - fib\n",
    "fib(nArgument)"
   ]
  },
  {
   "cell_type": "markdown",
   "metadata": {},
   "source": [
    "<img src=\"img/04-1-09.png\" />"
   ]
  },
  {
   "cell_type": "code",
   "execution_count": 33,
   "metadata": {},
   "outputs": [
    {
     "data": {
      "text/plain": [
       "'<STACK> <pop> __main__'"
      ]
     },
     "execution_count": 33,
     "metadata": {},
     "output_type": "execute_result"
    }
   ],
   "source": [
    "\"<STACK> <pop> {}\".format(\n",
    "    __name__,)"
   ]
  },
  {
   "cell_type": "markdown",
   "metadata": {},
   "source": [
    "***\n",
    "# END"
   ]
  }
 ],
 "metadata": {
  "kernelspec": {
   "display_name": "Python 3",
   "language": "python",
   "name": "python3"
  },
  "language_info": {
   "codemirror_mode": {
    "name": "ipython",
    "version": 3
   },
   "file_extension": ".py",
   "mimetype": "text/x-python",
   "name": "python",
   "nbconvert_exporter": "python",
   "pygments_lexer": "ipython3",
   "version": "3.8.8"
  }
 },
 "nbformat": 4,
 "nbformat_minor": 4
}
