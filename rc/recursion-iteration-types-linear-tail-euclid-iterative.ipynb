{
 "cells": [
  {
   "cell_type": "markdown",
   "metadata": {},
   "source": [
    "# recursion-iteration-types-linear-tail-euclid-iterative\n",
    "> [TABLE OF CONTENTS](https://nbviewer.jupyter.org/github/SeanOhAileasa/cta-recursion/blob/main/cta-recursion.ipynb)\n",
    "***"
   ]
  },
  {
   "cell_type": "code",
   "execution_count": 1,
   "metadata": {},
   "outputs": [],
   "source": [
    "nStackActivationFrame=\"Empty Stack\"\n",
    "nStackTime=0"
   ]
  },
  {
   "cell_type": "code",
   "execution_count": 2,
   "metadata": {},
   "outputs": [],
   "source": [
    "# define function - euclid\n",
    "def euclid(nParA,nParB):\n",
    "    while nParB!=0:\n",
    "        nLocTemp=nParB\n",
    "        nParB=nParA%nParB\n",
    "        nParA=nLocTemp\n",
    "    return nParA"
   ]
  },
  {
   "cell_type": "code",
   "execution_count": 3,
   "metadata": {},
   "outputs": [],
   "source": [
    "nFloorWidth,nFloorHeight=15,21"
   ]
  },
  {
   "cell_type": "code",
   "execution_count": 4,
   "metadata": {},
   "outputs": [],
   "source": [
    "nFunctionMethodSignature=__name__\n",
    "nUserDefinedFunction=euclid.__name__\n",
    "nParA=nFloorWidth\n",
    "nParB=nFloorHeight"
   ]
  },
  {
   "cell_type": "markdown",
   "metadata": {},
   "source": [
    "<img src=\"img/04-2-04.png\" />"
   ]
  },
  {
   "cell_type": "code",
   "execution_count": 5,
   "metadata": {},
   "outputs": [
    {
     "data": {
      "text/plain": [
       "'<FLOOR> <width> 15 <height> 21'"
      ]
     },
     "execution_count": 5,
     "metadata": {},
     "output_type": "execute_result"
    }
   ],
   "source": [
    "\"<FLOOR> <width> {} <height> {}\".format(\n",
    "    nFloorWidth,nFloorHeight)"
   ]
  },
  {
   "cell_type": "markdown",
   "metadata": {},
   "source": [
    "<img src=\"img/04-1-04.png\" />"
   ]
  },
  {
   "cell_type": "code",
   "execution_count": 6,
   "metadata": {},
   "outputs": [
    {
     "data": {
      "text/plain": [
       "'<STACK> <activation frame(s)> Empty Stack <time/active> 0'"
      ]
     },
     "execution_count": 6,
     "metadata": {},
     "output_type": "execute_result"
    }
   ],
   "source": [
    "\"<STACK> <activation frame(s)> {} <time/active> {}\".format(\n",
    "    nStackActivationFrame,nStackTime)"
   ]
  },
  {
   "cell_type": "markdown",
   "metadata": {},
   "source": [
    "<img src=\"img/04-1-05.png\" />"
   ]
  },
  {
   "cell_type": "code",
   "execution_count": 7,
   "metadata": {},
   "outputs": [
    {
     "data": {
      "text/plain": [
       "'<FUNCTION/METHOD> <invoke> __main__'"
      ]
     },
     "execution_count": 7,
     "metadata": {},
     "output_type": "execute_result"
    }
   ],
   "source": [
    "\"<FUNCTION/METHOD> <invoke> {}\".format(\n",
    "    nFunctionMethodSignature)"
   ]
  },
  {
   "cell_type": "code",
   "execution_count": 8,
   "metadata": {},
   "outputs": [
    {
     "data": {
      "text/plain": [
       "'<STACK> <push> __main__ <activation frame(s)> __main__ <time/active> 1'"
      ]
     },
     "execution_count": 8,
     "metadata": {},
     "output_type": "execute_result"
    }
   ],
   "source": [
    "nStackTime+=1\n",
    "nStackActivationFrame=nFunctionMethodSignature\n",
    "\"<STACK> <push> {} <activation frame(s)> {} <time/active> {}\".format(\n",
    "    nFunctionMethodSignature,nStackActivationFrame,nStackTime)"
   ]
  },
  {
   "cell_type": "code",
   "execution_count": 9,
   "metadata": {},
   "outputs": [
    {
     "data": {
      "text/plain": [
       "'<FUNCTION/METHOD> <invoke> euclid'"
      ]
     },
     "execution_count": 9,
     "metadata": {},
     "output_type": "execute_result"
    }
   ],
   "source": [
    "\"<FUNCTION/METHOD> <invoke> {}\".format(\n",
    "    nUserDefinedFunction)"
   ]
  },
  {
   "cell_type": "code",
   "execution_count": 10,
   "metadata": {},
   "outputs": [
    {
     "data": {
      "text/plain": [
       "'<FUNCTION/METHOD> <signature> euclid(15,21)'"
      ]
     },
     "execution_count": 10,
     "metadata": {},
     "output_type": "execute_result"
    }
   ],
   "source": [
    "nFunctionMethodSignature=nUserDefinedFunction+\"(\"+str(nParA)+\",\"+str(nParB)+\")\"\n",
    "\"<FUNCTION/METHOD> <signature> {}\".format(\n",
    "    nFunctionMethodSignature)"
   ]
  },
  {
   "cell_type": "code",
   "execution_count": 11,
   "metadata": {},
   "outputs": [
    {
     "data": {
      "text/plain": [
       "'<STACK> <push> euclid(15,21) <activation frame(s)> __main__, euclid(15,21) <time/active> 2'"
      ]
     },
     "execution_count": 11,
     "metadata": {},
     "output_type": "execute_result"
    }
   ],
   "source": [
    "nStackTime+=1\n",
    "nStackActivationFrame+=\", \"+nFunctionMethodSignature\n",
    "\"<STACK> <push> {} <activation frame(s)> {} <time/active> {}\".format(\n",
    "    nFunctionMethodSignature,nStackActivationFrame,nStackTime)"
   ]
  },
  {
   "cell_type": "markdown",
   "metadata": {},
   "source": [
    "<img src=\"img/04-2-05.png\" />"
   ]
  },
  {
   "cell_type": "code",
   "execution_count": 12,
   "metadata": {},
   "outputs": [
    {
     "data": {
      "text/plain": [
       "'<AREA> 315 <rotate> 90 deg.'"
      ]
     },
     "execution_count": 12,
     "metadata": {},
     "output_type": "execute_result"
    }
   ],
   "source": [
    "nFloorArea=nFloorWidth*nFloorHeight\n",
    "\"<AREA> {} <rotate> {} deg.\".format(nFloorArea,90)"
   ]
  },
  {
   "cell_type": "markdown",
   "metadata": {},
   "source": [
    "<img src=\"img/04-2-05-1.png\" />"
   ]
  },
  {
   "cell_type": "code",
   "execution_count": 13,
   "metadata": {},
   "outputs": [
    {
     "data": {
      "text/plain": [
       "'<LOOP> <ITERATION> <base case> True <start>'"
      ]
     },
     "execution_count": 13,
     "metadata": {},
     "output_type": "execute_result"
    }
   ],
   "source": [
    "\"<LOOP> <ITERATION> <base case> {} <start>\".format(\n",
    "    nParB!=0)"
   ]
  },
  {
   "cell_type": "code",
   "execution_count": 14,
   "metadata": {},
   "outputs": [
    {
     "data": {
      "text/plain": [
       "'<PLACEHOLDER> <FLOOR> <height> 21'"
      ]
     },
     "execution_count": 14,
     "metadata": {},
     "output_type": "execute_result"
    }
   ],
   "source": [
    "nLocTemp=nParB\n",
    "\"<PLACEHOLDER> <FLOOR> <height> {}\".format(nLocTemp)"
   ]
  },
  {
   "cell_type": "code",
   "execution_count": 15,
   "metadata": {},
   "outputs": [
    {
     "data": {
      "text/plain": [
       "'<FLOOR> <height> 15'"
      ]
     },
     "execution_count": 15,
     "metadata": {},
     "output_type": "execute_result"
    }
   ],
   "source": [
    "nParB=nParA%nParB\n",
    "\"<FLOOR> <height> {}\".format(\n",
    "    nParB)"
   ]
  },
  {
   "cell_type": "code",
   "execution_count": 16,
   "metadata": {},
   "outputs": [
    {
     "data": {
      "text/plain": [
       "'<FLOOR> <width> 21'"
      ]
     },
     "execution_count": 16,
     "metadata": {},
     "output_type": "execute_result"
    }
   ],
   "source": [
    "nParA=nLocTemp\n",
    "\"<FLOOR> <width> {}\".format(\n",
    "    nParA)"
   ]
  },
  {
   "cell_type": "markdown",
   "metadata": {},
   "source": [
    "<img src=\"img/04-2-05-2.png\" />"
   ]
  },
  {
   "cell_type": "code",
   "execution_count": 17,
   "metadata": {},
   "outputs": [
    {
     "data": {
      "text/plain": [
       "'<FLOOR> <tile(s)> 1 <AREA> <outstanding> 90'"
      ]
     },
     "execution_count": 17,
     "metadata": {},
     "output_type": "execute_result"
    }
   ],
   "source": [
    "nLocTile=nParA//nParB\n",
    "nFloorArea-=(nParB**2)*nLocTile\n",
    "\"<FLOOR> <tile(s)> {} <AREA> <outstanding> {}\".format(nLocTile,nFloorArea)"
   ]
  },
  {
   "cell_type": "code",
   "execution_count": 18,
   "metadata": {},
   "outputs": [
    {
     "data": {
      "text/plain": [
       "'<AREA> 90 <rotate> 90 deg.'"
      ]
     },
     "execution_count": 18,
     "metadata": {},
     "output_type": "execute_result"
    }
   ],
   "source": [
    "\"<AREA> {} <rotate> {} deg.\".format(nFloorArea,90)"
   ]
  },
  {
   "cell_type": "markdown",
   "metadata": {},
   "source": [
    "<img src=\"img/04-2-05-3.png\" />"
   ]
  },
  {
   "cell_type": "code",
   "execution_count": 19,
   "metadata": {},
   "outputs": [
    {
     "data": {
      "text/plain": [
       "'<LOOP> <ITERATION> <base case> True <re-start>'"
      ]
     },
     "execution_count": 19,
     "metadata": {},
     "output_type": "execute_result"
    }
   ],
   "source": [
    "\"<LOOP> <ITERATION> <base case> {} <re-start>\".format(\n",
    "    nParB!=0)"
   ]
  },
  {
   "cell_type": "code",
   "execution_count": 20,
   "metadata": {},
   "outputs": [
    {
     "data": {
      "text/plain": [
       "'<PLACEHOLDER> <FLOOR> <height> 15'"
      ]
     },
     "execution_count": 20,
     "metadata": {},
     "output_type": "execute_result"
    }
   ],
   "source": [
    "nLocTemp=nParB\n",
    "\"<PLACEHOLDER> <FLOOR> <height> {}\".format(nLocTemp)"
   ]
  },
  {
   "cell_type": "code",
   "execution_count": 21,
   "metadata": {},
   "outputs": [
    {
     "data": {
      "text/plain": [
       "'<FLOOR> <height> 6'"
      ]
     },
     "execution_count": 21,
     "metadata": {},
     "output_type": "execute_result"
    }
   ],
   "source": [
    "nParB=nParA%nParB\n",
    "\"<FLOOR> <height> {}\".format(\n",
    "    nParB)"
   ]
  },
  {
   "cell_type": "code",
   "execution_count": 22,
   "metadata": {},
   "outputs": [
    {
     "data": {
      "text/plain": [
       "'<FLOOR> <width> 15'"
      ]
     },
     "execution_count": 22,
     "metadata": {},
     "output_type": "execute_result"
    }
   ],
   "source": [
    "nParA=nLocTemp\n",
    "\"<FLOOR> <width> {}\".format(\n",
    "    nParA)"
   ]
  },
  {
   "cell_type": "markdown",
   "metadata": {},
   "source": [
    "<img src=\"img/04-2-05-4.png\" />"
   ]
  },
  {
   "cell_type": "code",
   "execution_count": 23,
   "metadata": {},
   "outputs": [
    {
     "data": {
      "text/plain": [
       "'<FLOOR> <tile(s)> 2 <AREA> <outstanding> 18'"
      ]
     },
     "execution_count": 23,
     "metadata": {},
     "output_type": "execute_result"
    }
   ],
   "source": [
    "nLocTile=nParA//nParB\n",
    "nFloorArea-=(nParB**2)*nLocTile\n",
    "\"<FLOOR> <tile(s)> {} <AREA> <outstanding> {}\".format(nLocTile,nFloorArea)"
   ]
  },
  {
   "cell_type": "code",
   "execution_count": 24,
   "metadata": {},
   "outputs": [
    {
     "data": {
      "text/plain": [
       "'<AREA> 18 <rotate> 90 deg.'"
      ]
     },
     "execution_count": 24,
     "metadata": {},
     "output_type": "execute_result"
    }
   ],
   "source": [
    "\"<AREA> {} <rotate> {} deg.\".format(nFloorArea,90)"
   ]
  },
  {
   "cell_type": "markdown",
   "metadata": {},
   "source": [
    "<img src=\"img/04-2-05-5.png\" />`"
   ]
  },
  {
   "cell_type": "code",
   "execution_count": 25,
   "metadata": {},
   "outputs": [
    {
     "data": {
      "text/plain": [
       "'<LOOP> <ITERATION> <base case> True <re-start>'"
      ]
     },
     "execution_count": 25,
     "metadata": {},
     "output_type": "execute_result"
    }
   ],
   "source": [
    "\"<LOOP> <ITERATION> <base case> {} <re-start>\".format(\n",
    "    nParB!=0)"
   ]
  },
  {
   "cell_type": "code",
   "execution_count": 26,
   "metadata": {},
   "outputs": [
    {
     "data": {
      "text/plain": [
       "'<PLACEHOLDER> <FLOOR> <height> 6'"
      ]
     },
     "execution_count": 26,
     "metadata": {},
     "output_type": "execute_result"
    }
   ],
   "source": [
    "nLocTemp=nParB\n",
    "\"<PLACEHOLDER> <FLOOR> <height> {}\".format(nLocTemp)"
   ]
  },
  {
   "cell_type": "code",
   "execution_count": 27,
   "metadata": {},
   "outputs": [
    {
     "data": {
      "text/plain": [
       "'<FLOOR> <height> 3'"
      ]
     },
     "execution_count": 27,
     "metadata": {},
     "output_type": "execute_result"
    }
   ],
   "source": [
    "nParB=nParA%nParB\n",
    "\"<FLOOR> <height> {}\".format(\n",
    "    nParB)"
   ]
  },
  {
   "cell_type": "code",
   "execution_count": 28,
   "metadata": {},
   "outputs": [
    {
     "data": {
      "text/plain": [
       "'<FLOOR> <width> 6'"
      ]
     },
     "execution_count": 28,
     "metadata": {},
     "output_type": "execute_result"
    }
   ],
   "source": [
    "nParA=nLocTemp\n",
    "\"<FLOOR> <width> {}\".format(\n",
    "    nParA)"
   ]
  },
  {
   "cell_type": "markdown",
   "metadata": {},
   "source": [
    "<img src=\"img/04-2-03.png\" />"
   ]
  },
  {
   "cell_type": "code",
   "execution_count": 29,
   "metadata": {},
   "outputs": [
    {
     "data": {
      "text/plain": [
       "'<FLOOR> <tile(s)> 2 <AREA> <outstanding> 0'"
      ]
     },
     "execution_count": 29,
     "metadata": {},
     "output_type": "execute_result"
    }
   ],
   "source": [
    "nLocTile=nParA//nParB\n",
    "nFloorArea-=(nParB**2)*nLocTile\n",
    "\"<FLOOR> <tile(s)> {} <AREA> <outstanding> {}\".format(nLocTile,nFloorArea)"
   ]
  },
  {
   "cell_type": "code",
   "execution_count": 30,
   "metadata": {},
   "outputs": [
    {
     "data": {
      "text/plain": [
       "'<LOOP> <ITERATION> <base case> True <re-start>'"
      ]
     },
     "execution_count": 30,
     "metadata": {},
     "output_type": "execute_result"
    }
   ],
   "source": [
    "\"<LOOP> <ITERATION> <base case> {} <re-start>\".format(\n",
    "    nParB!=0)"
   ]
  },
  {
   "cell_type": "code",
   "execution_count": 31,
   "metadata": {},
   "outputs": [
    {
     "data": {
      "text/plain": [
       "'<PLACEHOLDER> <FLOOR> <height> 3'"
      ]
     },
     "execution_count": 31,
     "metadata": {},
     "output_type": "execute_result"
    }
   ],
   "source": [
    "nLocTemp=nParB\n",
    "\"<PLACEHOLDER> <FLOOR> <height> {}\".format(nLocTemp)"
   ]
  },
  {
   "cell_type": "code",
   "execution_count": 32,
   "metadata": {},
   "outputs": [
    {
     "data": {
      "text/plain": [
       "'<FLOOR> <height> 0'"
      ]
     },
     "execution_count": 32,
     "metadata": {},
     "output_type": "execute_result"
    }
   ],
   "source": [
    "nParB=nParA%nParB\n",
    "\"<FLOOR> <height> {}\".format(\n",
    "    nParB)"
   ]
  },
  {
   "cell_type": "code",
   "execution_count": 33,
   "metadata": {},
   "outputs": [
    {
     "data": {
      "text/plain": [
       "'<FLOOR> <width> 3'"
      ]
     },
     "execution_count": 33,
     "metadata": {},
     "output_type": "execute_result"
    }
   ],
   "source": [
    "nParA=nLocTemp\n",
    "\"<FLOOR> <width> {}\".format(\n",
    "    nParA)"
   ]
  },
  {
   "cell_type": "code",
   "execution_count": 34,
   "metadata": {},
   "outputs": [
    {
     "data": {
      "text/plain": [
       "'<LOOP> <ITERATION> <base case> False <finish>'"
      ]
     },
     "execution_count": 34,
     "metadata": {},
     "output_type": "execute_result"
    }
   ],
   "source": [
    "\"<LOOP> <ITERATION> <base case> {} <finish>\".format(\n",
    "    nParB!=0)"
   ]
  },
  {
   "cell_type": "code",
   "execution_count": 35,
   "metadata": {},
   "outputs": [
    {
     "data": {
      "text/plain": [
       "'<FUNCTION/METHOD> <signature> euclid(15,21) <RETURN> value 3'"
      ]
     },
     "execution_count": 35,
     "metadata": {},
     "output_type": "execute_result"
    }
   ],
   "source": [
    "\"<FUNCTION/METHOD> <signature> {} <RETURN> value {}\".format(\n",
    "    nFunctionMethodSignature,nParA)"
   ]
  },
  {
   "cell_type": "code",
   "execution_count": 36,
   "metadata": {},
   "outputs": [
    {
     "data": {
      "text/plain": [
       "'<STACK> <pop> euclid(15,21) <activation frame> euclid(15,21) <RETURN> <value> 3'"
      ]
     },
     "execution_count": 36,
     "metadata": {},
     "output_type": "execute_result"
    }
   ],
   "source": [
    "\"<STACK> <pop> {} <activation frame> {} <RETURN> <value> {}\".format(\n",
    "    nFunctionMethodSignature,nFunctionMethodSignature,nParA)"
   ]
  },
  {
   "cell_type": "code",
   "execution_count": 37,
   "metadata": {},
   "outputs": [
    {
     "data": {
      "text/plain": [
       "3"
      ]
     },
     "execution_count": 37,
     "metadata": {},
     "output_type": "execute_result"
    }
   ],
   "source": [
    "nParA"
   ]
  },
  {
   "cell_type": "markdown",
   "metadata": {},
   "source": [
    "<img src=\"img/04-1-05-t.png\" />"
   ]
  },
  {
   "cell_type": "code",
   "execution_count": 38,
   "metadata": {},
   "outputs": [
    {
     "data": {
      "text/plain": [
       "3"
      ]
     },
     "execution_count": 38,
     "metadata": {},
     "output_type": "execute_result"
    }
   ],
   "source": [
    "# function euclid - call\n",
    "euclid(nFloorWidth,nFloorHeight)"
   ]
  },
  {
   "cell_type": "markdown",
   "metadata": {},
   "source": [
    "<img src=\"img/04-1-09.png\" />"
   ]
  },
  {
   "cell_type": "code",
   "execution_count": 39,
   "metadata": {},
   "outputs": [
    {
     "data": {
      "text/plain": [
       "'<STACK> <pop> __main__'"
      ]
     },
     "execution_count": 39,
     "metadata": {},
     "output_type": "execute_result"
    }
   ],
   "source": [
    "\"<STACK> <pop> {}\".format(\n",
    "    __name__,)"
   ]
  },
  {
   "cell_type": "markdown",
   "metadata": {},
   "source": [
    "***\n",
    "# END"
   ]
  }
 ],
 "metadata": {
  "kernelspec": {
   "display_name": "Python 3",
   "language": "python",
   "name": "python3"
  },
  "language_info": {
   "codemirror_mode": {
    "name": "ipython",
    "version": 3
   },
   "file_extension": ".py",
   "mimetype": "text/x-python",
   "name": "python",
   "nbconvert_exporter": "python",
   "pygments_lexer": "ipython3",
   "version": "3.8.8"
  }
 },
 "nbformat": 4,
 "nbformat_minor": 4
}
