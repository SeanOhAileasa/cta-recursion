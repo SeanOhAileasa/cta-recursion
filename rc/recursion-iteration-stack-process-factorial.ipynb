{
 "cells": [
  {
   "cell_type": "markdown",
   "metadata": {},
   "source": [
    "# recursion-iteration-stack-process-factorial\n",
    "> [TABLE OF CONTENTS](https://nbviewer.jupyter.org/github/SeanOhAileasa/cta-recursion/blob/main/cta-recursion.ipynb)\n",
    "***"
   ]
  },
  {
   "cell_type": "markdown",
   "metadata": {},
   "source": [
    "- in mathematics the factorial of a non-negative integer input $n$ may be computed as the product of all positive integers which are less than or equal to $n$ (denoted by $n!$) [2]"
   ]
  },
  {
   "cell_type": "markdown",
   "metadata": {},
   "source": [
    "- computed by multiplying the number itself $n$ with the next integer (number itself minus one) until the value is one [2]"
   ]
  },
  {
   "cell_type": "markdown",
   "metadata": {},
   "source": [
    "- algorithm may be implemented and used to calculate the factorial for any $n>0$ [2] \n",
    "\n",
    "$$n! = n\\times(n-1)\\times(n-2)\\times(n-3)\\times\\space ...\\space\\times1$$"
   ]
  },
  {
   "cell_type": "markdown",
   "metadata": {},
   "source": [
    "- two base cases: i) $1!=1$ and; ii) $0!$ is defined as ``1`` also (follows the empty product convention in mathematics) [2]"
   ]
  },
  {
   "cell_type": "markdown",
   "metadata": {},
   "source": [
    "- inputs: i) $n=1$ and; ii) $n=0$ both serve as the base case in the recursive implementation [2]"
   ]
  },
  {
   "cell_type": "markdown",
   "metadata": {},
   "source": [
    "- factorial operations are commonly used in many areas of mathematics; combinatorics; algebra; computation of functions such as sin and cos and; the binonmial theorem [2]"
   ]
  },
  {
   "cell_type": "markdown",
   "metadata": {},
   "source": [
    "- to arrange input $n$ distinct objects into a sequence there are $n!$ ways to arrange said distinct objects [2]"
   ]
  },
  {
   "cell_type": "markdown",
   "metadata": {},
   "source": [
    "- factorial calculation $5!$ [2]\n",
    "\n",
    "$$5! = 5\\ x \\ 4\\ x\\ 3\\ x\\ 2\\ x\\ 1\\ =\\ 120$$"
   ]
  },
  {
   "cell_type": "markdown",
   "metadata": {},
   "source": [
    "***\n",
    "# END"
   ]
  }
 ],
 "metadata": {
  "kernelspec": {
   "display_name": "Python 3",
   "language": "python",
   "name": "python3"
  },
  "language_info": {
   "codemirror_mode": {
    "name": "ipython",
    "version": 3
   },
   "file_extension": ".py",
   "mimetype": "text/x-python",
   "name": "python",
   "nbconvert_exporter": "python",
   "pygments_lexer": "ipython3",
   "version": "3.8.8"
  }
 },
 "nbformat": 4,
 "nbformat_minor": 4
}
