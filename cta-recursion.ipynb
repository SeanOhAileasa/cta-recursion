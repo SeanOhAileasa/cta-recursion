{
 "cells": [
  {
   "cell_type": "code",
   "execution_count": null,
   "id": "intellectual-spain",
   "metadata": {},
   "outputs": [
    {
     "data": {
      "text/html": [
       "<script>Jupyter.notebook.kernel.restart()</script>"
      ]
     },
     "metadata": {},
     "output_type": "display_data"
    }
   ],
   "source": [
    "from IPython.core.display import display_html\n",
    "display_html(\"<script>Jupyter.notebook.kernel.restart()</script>\",raw=True)"
   ]
  },
  {
   "cell_type": "code",
   "execution_count": 1,
   "id": "pointed-basic",
   "metadata": {},
   "outputs": [
    {
     "data": {
      "text/html": [
       "<style>.container { width:100% !important; }</style>"
      ],
      "text/plain": [
       "<IPython.core.display.HTML object>"
      ]
     },
     "metadata": {},
     "output_type": "display_data"
    },
    {
     "data": {
      "text/html": [
       "<style>.container { width:100% !important; }</style>"
      ],
      "text/plain": [
       "<IPython.core.display.HTML object>"
      ]
     },
     "metadata": {},
     "output_type": "display_data"
    }
   ],
   "source": [
    "from sys import path; path.insert(1,\"../src\");\n",
    "import fubar; from importlib import reload; reload(fubar);"
   ]
  },
  {
   "cell_type": "markdown",
   "id": "necessary-conducting",
   "metadata": {},
   "source": [
    "***\n",
    "< [GMIT Data Analytics](https://web.archive.org/web/20201029063153/https://www.gmit.ie/computer-science-and-applied-physics/higher-diploma-science-computing-data-analytics-ict) | [Home](https://github.com/SeanOhAileasa) | [README](https://github.com/SeanOhAileasa/cta-recursion/blob/main/README.md) >\n",
    "\n",
    "[![GMIT](https://github.com/SeanOhAileasa/SeanOhAileasa/blob/master/img/gmit.png?raw=true)](https://web.archive.org/web/20201029063153/https://www.gmit.ie/computer-science-and-applied-physics/higher-diploma-science-computing-data-analytics-ict)\n",
    "\n",
    "## Computational Thinking with Algorithms - Course Material 2021\n",
    "### Topic: [Recursion](https://nbviewer.jupyter.org/github/SeanOhAileasa/cta-recursion/blob/main/cta-recursion.ipynb)\n",
    "\n",
    "***"
   ]
  },
  {
   "cell_type": "markdown",
   "id": "dimensional-crazy",
   "metadata": {},
   "source": [
    "Course material for the ``Computational Thinking with Algorithms`` module (5 Credits) of the ``Higher Diploma in Science in Computing (Data Analytics) (H.Dip)`` programme (75 Credits) at **Galway-Mayo Institute of Technology (GMIT)**."
   ]
  },
  {
   "cell_type": "code",
   "execution_count": 2,
   "id": "transparent-directory",
   "metadata": {},
   "outputs": [],
   "source": [
    "exit()"
   ]
  },
  {
   "cell_type": "code",
   "execution_count": 1,
   "id": "automated-order",
   "metadata": {
    "scrolled": false
   },
   "outputs": [
    {
     "data": {
      "text/html": [
       "<video src=\"./hide/05-Recursive-Algorithms-Part 1-Java +Python-12-02-2019.mp4\" controls  >\n",
       "      Your browser does not support the <code>video</code> element.\n",
       "    </video>"
      ],
      "text/plain": [
       "<IPython.core.display.Video object>"
      ]
     },
     "execution_count": 1,
     "metadata": {},
     "output_type": "execute_result"
    }
   ],
   "source": [
    "from IPython.display import Video; Video(\"./hide/05-Recursive-Algorithms-Part 1-Java +Python-12-02-2019.mp4\")"
   ]
  },
  {
   "cell_type": "markdown",
   "id": "looking-wholesale",
   "metadata": {},
   "source": [
    "<a id=\"top\"></a>\n",
    "***\n",
    "## Table of Contents\n",
    "***\n",
    "\n",
    "## [Abstract](#abstract)\n",
    "\n",
    "\n",
    "## [Introduction](#introduction)\n",
    "\n",
    "* [Trace](#Trace)\n",
    "\n",
    "* [Types](#Types)\n",
    "    * [Linear](#Linear)\n",
    "        * [Tail](#Tail)\n",
    "    * [Binary](#Binary)\n",
    "    * [Exponential](#Exponential)\n",
    "    \n",
    "* [Error](#Error)\n",
    "    * [Infinite](#Infinite)\n",
    "    * [Circular](#Circular)\n",
    "\n",
    "* [Rules](#Rules)\n",
    "    * [Base Case](#Base-Case)\n",
    "    * [Make Progress](#Make-Progress)\n",
    "    * [Design Rule](#Design-Rule)\n",
    "    * [Compound Interest Rule](#Compound-Interest-Rule)\n",
    "    \n",
    "## [Solution](#solution)\n",
    "\n",
    "* [Stack](#Stack)\n",
    "\n",
    "## [Conclusion](#conclusion)"
   ]
  },
  {
   "cell_type": "markdown",
   "id": "suitable-footwear",
   "metadata": {},
   "source": [
    "***\n",
    "## END"
   ]
  },
  {
   "cell_type": "markdown",
   "id": "removed-document",
   "metadata": {},
   "source": [
    "< [Table of Contents](#top) | [Introduction](#introduction) | [Solution](#solution) | [Conclusion](#conclusion) | [References](#references) >\n",
    "<a id=\"abstract\"></a>\n",
    "***\n",
    "## Abstract\n",
    "***"
   ]
  },
  {
   "cell_type": "markdown",
   "id": "rural-curtis",
   "metadata": {},
   "source": [
    "- iteration is a process that allows some sequence of steps or some block of code to be executed repeatedly (for/while loop) - it is very common that iterative approaches are used in algorithms [1]"
   ]
  },
  {
   "cell_type": "markdown",
   "id": "requested-cleveland",
   "metadata": {},
   "source": [
    "- recursion is a technique which may be applied to complete tasks which are repetitive in nature - consider how a procedure/function/method (hereafter called **\"process\"**) is normally called in a program - ``main`` calls ``alpha`` (note the arrow denotes the call) [1]"
   ]
  },
  {
   "cell_type": "markdown",
   "id": "frequent-stake",
   "metadata": {},
   "source": [
    "![main-call-alpha](https://github.com/SeanOhAileasa/SeanOhAileasa/blob/master/img/cta/recursion/abstract/main-call-alpha.png?raw=true)\n",
    "\n",
    "***(Image) P. Mannion, \"05 Recursive Algorithms Part 1 (Java +Python),\" GMIT, February 2019.***"
   ]
  },
  {
   "cell_type": "markdown",
   "id": "adapted-bidder",
   "metadata": {},
   "source": [
    "- recursion is a technique which may be applied to complete tasks which are repetitive in nature - a recursive process is one which calls itself within its body [1]"
   ]
  },
  {
   "cell_type": "markdown",
   "id": "pacific-youth",
   "metadata": {},
   "source": [
    "- within ``beta`` there is another call to ``beta`` [1]"
   ]
  },
  {
   "cell_type": "markdown",
   "id": "latest-amateur",
   "metadata": {},
   "source": [
    "![main-call-alpha](https://github.com/SeanOhAileasa/SeanOhAileasa/blob/master/img/cta/recursion/abstract/beta.png?raw=true)\n",
    "\n",
    "***(Image) P. Mannion, \"05 Recursive Algorithms Part 1 (Java +Python),\" GMIT, February 2019.***"
   ]
  },
  {
   "cell_type": "markdown",
   "id": "involved-lecture",
   "metadata": {},
   "source": [
    "- the technique of recursion allows the solving of a problem by breaking it up into smaller instances of the same problem [1]"
   ]
  },
  {
   "cell_type": "markdown",
   "id": "substantial-jaguar",
   "metadata": {},
   "source": [
    "- semantically powerful way to tackle a programming problem as there are many problems which are more concisely solved by using a recursive approach [1]"
   ]
  },
  {
   "cell_type": "markdown",
   "id": "specified-wagon",
   "metadata": {},
   "source": [
    "- file directory traversal problem - operation of traversing through directories of a file system such as a c drive with a folder called program-files and within another folder called java and within yet another folder called java-development-kit and within yet another folder called binary (javac compiler stored within the binary folder [1]"
   ]
  },
  {
   "cell_type": "markdown",
   "id": "patent-contact",
   "metadata": {},
   "source": [
    " - to get from the root of the c drive and down through all the directories in turn and search for a specific file is a recursive problelm given movement through a directory and looking at everything in the directory (moving down the next step and so forth) - this problem is naturally recursive [1]"
   ]
  },
  {
   "cell_type": "markdown",
   "id": "liquid-crest",
   "metadata": {},
   "source": [
    "- other operations include traversing through a tree of search results [1]"
   ]
  },
  {
   "cell_type": "markdown",
   "id": "organic-stability",
   "metadata": {},
   "source": [
    "- some sorting algorithms are recursive in nature (Merge Sort algorithm) [1]"
   ]
  },
  {
   "cell_type": "markdown",
   "id": "wrapped-macintosh",
   "metadata": {},
   "source": [
    "- so with problems that have these kind of features where they can be broken down into smaller instances of this same problem essentially recursion is very useful because it often leads to cleaner and more concise code and that leads to easier maintainability and it becomes easier to understand once the principles of recursion are understood and how it works [1]"
   ]
  },
  {
   "cell_type": "markdown",
   "id": "formal-reduction",
   "metadata": {},
   "source": [
    "- recursive processes can quite succinctly do the work of an iterative approach with a lot less code in a lot cleaner manner [1]"
   ]
  },
  {
   "cell_type": "code",
   "execution_count": 1,
   "id": "possible-embassy",
   "metadata": {},
   "outputs": [],
   "source": [
    "exit()"
   ]
  },
  {
   "cell_type": "markdown",
   "id": "important-sampling",
   "metadata": {},
   "source": [
    "<!-- print(fGetModuleType(___x___),fDocumentation(___x___)) -->\n",
    "***\n",
    "## END"
   ]
  },
  {
   "cell_type": "markdown",
   "id": "electrical-trust",
   "metadata": {},
   "source": [
    "< [Table of Contents](#top) | [Abstract](#abstract) | [Solution](#solution) | [Conclusion](#conclusion) | [References](#references) >\n",
    "<a id=\"introduction\"></a>\n",
    "***\n",
    "## Introduction\n",
    "***"
   ]
  },
  {
   "cell_type": "markdown",
   "id": "strange-wisdom",
   "metadata": {},
   "source": [
    "- ``fCount`` passing the value ``0`` - conditional statement checks if ``nParIndex<0`` then call ``fCount`` again passing in the value ``nParIndex+1`` [1]"
   ]
  },
  {
   "cell_type": "markdown",
   "id": "changed-junction",
   "metadata": {},
   "source": [
    "- ``fCount`` calls itself within its own body - this is the step where the recursion occurs - the step whereby ``fCount(nParIndex+1)`` is called [1]"
   ]
  },
  {
   "cell_type": "code",
   "execution_count": 1,
   "id": "decent-produce",
   "metadata": {},
   "outputs": [
    {
     "name": "stdout",
     "output_type": "stream",
     "text": [
      "# repository ./fubar-python\r\n",
      "def fCount(nParIndex):\r\n",
      "    \"\"\"Recursive process.\r\n",
      "\r\n",
      "Input: nParIndex\r\n",
      "Process: print Input; if Input<2 then call fCount passing Input+1\r\n",
      "Output: sequence 0, 1, 2\r\n",
      "\"\"\"\r\n",
      "    print(nParIndex)\r\n",
      "    if nParIndex<2:\r\n",
      "        fCount(nParIndex+1)\r\n",
      "# -- END ---\r\n"
     ]
    }
   ],
   "source": [
    "%%script bash\n",
    "grep -1 \"def fCount\" ../src/fubar.py -A 10"
   ]
  },
  {
   "cell_type": "code",
   "execution_count": 2,
   "id": "applied-combination",
   "metadata": {},
   "outputs": [],
   "source": [
    "from sys import path; path.insert(1,\"../src\")"
   ]
  },
  {
   "cell_type": "code",
   "execution_count": 3,
   "id": "center-chassis",
   "metadata": {},
   "outputs": [
    {
     "data": {
      "text/html": [
       "<style>.container { width:100% !important; }</style>"
      ],
      "text/plain": [
       "<IPython.core.display.HTML object>"
      ]
     },
     "metadata": {},
     "output_type": "display_data"
    }
   ],
   "source": [
    "from fubar import fCount"
   ]
  },
  {
   "cell_type": "markdown",
   "id": "scheduled-freedom",
   "metadata": {},
   "source": [
    "- ``main`` calling ``fCount(0)`` - current value of ``nParIndex`` is printed [1]\n",
    "\n",
    "```python\n",
    "print(nParIndex) # 0\n",
    "```"
   ]
  },
  {
   "cell_type": "markdown",
   "id": "anticipated-statement",
   "metadata": {},
   "source": [
    "- if ``nParIndex<2`` then at this point another copy of ``fCount`` is activated and the value ``1`` is passed in the next call [1] \n",
    "\n",
    "```python\n",
    "if nParIndex<2:\n",
    "    fCount(nParIndex+1) # nParIndex==1\n",
    "```"
   ]
  },
  {
   "cell_type": "markdown",
   "id": "casual-topic",
   "metadata": {},
   "source": [
    "- ``1st recursive call`` - current value of ``nParIndex`` is printed [1]\n",
    "\n",
    "```python\n",
    "print(nParIndex) # 1\n",
    "```"
   ]
  },
  {
   "cell_type": "markdown",
   "id": "olympic-doctor",
   "metadata": {},
   "source": [
    "- if ``nParIndex<2`` then at this point another copy of ``fCount`` is activated and the value ``2`` is passed in the next call [1] \n",
    "\n",
    "```python\n",
    "if nParIndex<2:\n",
    "    fCount(nParIndex+1) # nParIndex==2\n",
    "```"
   ]
  },
  {
   "cell_type": "markdown",
   "id": "essential-booth",
   "metadata": {},
   "source": [
    "- ``2nd recursive call`` - current value of ``nParIndex`` is printed [1]\n",
    "\n",
    "```python\n",
    "print(nParIndex) # 2\n",
    "```"
   ]
  },
  {
   "cell_type": "markdown",
   "id": "flush-roberts",
   "metadata": {},
   "source": [
    "- conditional statement ``nParIndex<2`` returns ``False`` - does not reach the end of the ``2nd recursive call`` of ``fCount`` therefore returning control to the previous instance of ``fCount`` (via ``1st recursive call``) and then that will return control to the first instance of the ``fCount`` (via ``main``) [1]"
   ]
  },
  {
   "cell_type": "markdown",
   "id": "hourly-scholarship",
   "metadata": {},
   "source": [
    "- sequence ``0, 1, 2`` is complete [1]"
   ]
  },
  {
   "cell_type": "code",
   "execution_count": 4,
   "id": "lasting-upset",
   "metadata": {},
   "outputs": [
    {
     "name": "stdout",
     "output_type": "stream",
     "text": [
      "0\n",
      "1\n",
      "2\n"
     ]
    }
   ],
   "source": [
    "fCount(0)"
   ]
  },
  {
   "cell_type": "code",
   "execution_count": 5,
   "id": "fallen-shaft",
   "metadata": {},
   "outputs": [],
   "source": [
    "exit()"
   ]
  },
  {
   "cell_type": "markdown",
   "id": "checked-fundamental",
   "metadata": {},
   "source": [
    "< [Table of Contents](#top) | [References](#references) >\n",
    "<a id=\"Trace\"></a>\n",
    "### Trace\n",
    "***"
   ]
  },
  {
   "cell_type": "markdown",
   "id": "dependent-spotlight",
   "metadata": {},
   "source": [
    "- visualising calls to a recursive process via recursion trace - way of tracing the call from the caller all the way down through the nested levels of recursion and then all the way back to the caller again (convention: black arrow will represent a call / green arrow will represent a return with the value returned printed beside the green arrow) [1]"
   ]
  },
  {
   "cell_type": "markdown",
   "id": "prime-tyler",
   "metadata": {},
   "source": [
    "![main-call-alpha](https://github.com/SeanOhAileasa/SeanOhAileasa/blob/master/img/cta/recursion/stack/04-1-03.png?raw=true)\n",
    "\n",
    "***(Image) P. Mannion, \"05 Recursive Algorithms Part 1 (Java +Python),\" GMIT, February 2019.***"
   ]
  },
  {
   "cell_type": "code",
   "execution_count": 1,
   "id": "social-singles",
   "metadata": {},
   "outputs": [],
   "source": [
    "exit()"
   ]
  },
  {
   "cell_type": "markdown",
   "id": "verified-basin",
   "metadata": {},
   "source": [
    "< [Table of Contents](#top) | [References](#references) >\n",
    "<a id=\"Types\"></a>\n",
    "### Types\n",
    "***"
   ]
  },
  {
   "cell_type": "markdown",
   "id": "labeled-tomorrow",
   "metadata": {},
   "source": [
    "&#x1F6A7;"
   ]
  },
  {
   "cell_type": "code",
   "execution_count": 1,
   "id": "mysterious-thumb",
   "metadata": {},
   "outputs": [],
   "source": [
    "exit()"
   ]
  },
  {
   "cell_type": "markdown",
   "id": "adjacent-frontier",
   "metadata": {},
   "source": [
    "< [Table of Contents](#top) | [References](#references) >\n",
    "<a id=\"Linear\"></a>\n",
    "###### Linear\n",
    "***"
   ]
  },
  {
   "cell_type": "markdown",
   "id": "bottom-health",
   "metadata": {},
   "source": [
    "- most simple type [1]"
   ]
  },
  {
   "cell_type": "markdown",
   "id": "buried-dallas",
   "metadata": {},
   "source": [
    "- the number of activation frames (records - number of calls in the recursion) grows in a linear manner [1]"
   ]
  },
  {
   "cell_type": "markdown",
   "id": "medical-lecture",
   "metadata": {},
   "source": [
    "- a process that is linearly recursive makes a single call to itself [1]"
   ]
  },
  {
   "cell_type": "code",
   "execution_count": 1,
   "id": "dimensional-orientation",
   "metadata": {},
   "outputs": [],
   "source": [
    "exit()"
   ]
  },
  {
   "cell_type": "markdown",
   "id": "accredited-season",
   "metadata": {},
   "source": [
    "< [Table of Contents](#top) | [References](#references) >\n",
    "<a id=\"Tail\"></a>\n",
    "###### Tail\n",
    "***"
   ]
  },
  {
   "cell_type": "markdown",
   "id": "occasional-hierarchy",
   "metadata": {},
   "source": [
    "- a specific type of linear recursion [1]"
   ]
  },
  {
   "cell_type": "markdown",
   "id": "representative-richards",
   "metadata": {},
   "source": [
    "- single call to itself and is the very last operation in the process [1]"
   ]
  },
  {
   "cell_type": "markdown",
   "id": "animal-zambia",
   "metadata": {},
   "source": [
    "- every time a process is invoked its activation frame (record) will be placed on top of the program stack - this is something to avoid given multiple active stack frames are unnecessary even thought the process has finished its work [1]"
   ]
  },
  {
   "cell_type": "markdown",
   "id": "hungry-january",
   "metadata": {},
   "source": [
    "- appropriate to use sometimes but can be expensive and inefficient because all these activation frames (records) are still taking up space on the stack even though the process has completed its work (task) right at the end of its body [1]"
   ]
  },
  {
   "cell_type": "markdown",
   "id": "precise-australia",
   "metadata": {},
   "source": [
    "- should really use tail recursion sparingly and carefully [1]"
   ]
  },
  {
   "cell_type": "markdown",
   "id": "capable-gabriel",
   "metadata": {},
   "source": [
    "- ``fCount`` is an example of linear recursion and also tail recursion because the very last operation within the its body is a recursive call to itself [1]"
   ]
  },
  {
   "cell_type": "code",
   "execution_count": 1,
   "id": "controversial-france",
   "metadata": {},
   "outputs": [],
   "source": [
    "exit()"
   ]
  },
  {
   "cell_type": "markdown",
   "id": "other-sampling",
   "metadata": {},
   "source": [
    "< [Table of Contents](#top) | [References](#references) >\n",
    "<a id=\"Binary\"></a>\n",
    "###### Binary\n",
    "***"
   ]
  },
  {
   "cell_type": "markdown",
   "id": "living-nightmare",
   "metadata": {},
   "source": [
    "- binary (opposed to linear recursion) is a recursive process making two calls to itself within its body [1]"
   ]
  },
  {
   "cell_type": "markdown",
   "id": "portable-project",
   "metadata": {},
   "source": [
    "- obviously leads to a much larger growth rate getting to different nested levels of recursion when compared to an implementation that only uses linear recursion [1]"
   ]
  },
  {
   "cell_type": "code",
   "execution_count": 1,
   "id": "acute-louisville",
   "metadata": {},
   "outputs": [],
   "source": [
    "exit()"
   ]
  },
  {
   "cell_type": "markdown",
   "id": "sublime-cartridge",
   "metadata": {},
   "source": [
    "< [Table of Contents](#top) | [References](#references) >\n",
    "<a id=\"Exponential\"></a>\n",
    "###### Exponential\n",
    "***"
   ]
  },
  {
   "cell_type": "markdown",
   "id": "interpreted-deployment",
   "metadata": {},
   "source": [
    "- process that makes more than two recursive calls within its body [1] "
   ]
  },
  {
   "cell_type": "markdown",
   "id": "english-palace",
   "metadata": {},
   "source": [
    "- want to try to avoid binary/exponential recursion as much as possible given that just a few nested levels of recursion will end up with exponential growth in the number of process activation frames (becomes inefficient) [1] "
   ]
  },
  {
   "cell_type": "code",
   "execution_count": 1,
   "id": "opening-programming",
   "metadata": {},
   "outputs": [],
   "source": [
    "exit()"
   ]
  },
  {
   "cell_type": "markdown",
   "id": "narrow-opportunity",
   "metadata": {},
   "source": [
    "< [Table of Contents](#top) | [References](#references) >\n",
    "<a id=\"Error\"></a>\n",
    "### Error\n",
    "***"
   ]
  },
  {
   "cell_type": "markdown",
   "id": "accompanied-manchester",
   "metadata": {},
   "source": [
    "- some common problems (errors) which crop up when designing/implementing recursive implementations (algorithms) include: i) infinite and; circular [1]"
   ]
  },
  {
   "cell_type": "code",
   "execution_count": 1,
   "id": "adjustable-keeping",
   "metadata": {},
   "outputs": [],
   "source": [
    "exit()"
   ]
  },
  {
   "cell_type": "markdown",
   "id": "corporate-nelson",
   "metadata": {},
   "source": [
    "< [Table of Contents](#top) | [References](#references) >\n",
    "<a id=\"Infinite\"></a>\n",
    "###### Infinite\n",
    "***"
   ]
  },
  {
   "cell_type": "markdown",
   "id": "matched-wayne",
   "metadata": {},
   "source": [
    "- recursive process that does not have a base case [1]"
   ]
  },
  {
   "cell_type": "code",
   "execution_count": 1,
   "id": "systematic-loading",
   "metadata": {},
   "outputs": [
    {
     "name": "stdout",
     "output_type": "stream",
     "text": [
      "# repository ./fubar-python\r\n",
      "def fInfinite(nParInteger):\r\n",
      "    \"\"\"Recursive process without a base case.\r\n",
      "\r\n",
      "Input: nParInteger\r\n",
      "Process: Input-1\r\n",
      "Output: never stops making recursive calls regardless of Input\r\n",
      "\"\"\"\r\n",
      "    fInfinite(nParInteger-1)\r\n",
      "# -- END ---\r\n"
     ]
    }
   ],
   "source": [
    "%%script bash\n",
    "grep -1 \"def fInfinite\" ../src/fubar.py -A 8"
   ]
  },
  {
   "cell_type": "markdown",
   "id": "preceding-ratio",
   "metadata": {},
   "source": [
    "- ``fInfinite`` passing ``n`` and within its body calling ``fInfinite`` with parameter ``nParInteger-1`` [1]"
   ]
  },
  {
   "cell_type": "code",
   "execution_count": 2,
   "id": "billion-quebec",
   "metadata": {},
   "outputs": [],
   "source": [
    "n=1"
   ]
  },
  {
   "cell_type": "markdown",
   "id": "brazilian-expense",
   "metadata": {},
   "source": [
    "- next call ``infinite(0)`` and next call ``infinite(-1)`` and so on such that the process would never stop making recursive calls [1]"
   ]
  },
  {
   "cell_type": "code",
   "execution_count": 3,
   "id": "polyphonic-piano",
   "metadata": {},
   "outputs": [],
   "source": [
    "from sys import path; path.insert(1,\"../src\")"
   ]
  },
  {
   "cell_type": "code",
   "execution_count": 4,
   "id": "identified-house",
   "metadata": {},
   "outputs": [
    {
     "data": {
      "text/html": [
       "<style>.container { width:100% !important; }</style>"
      ],
      "text/plain": [
       "<IPython.core.display.HTML object>"
      ]
     },
     "metadata": {},
     "output_type": "display_data"
    }
   ],
   "source": [
    "from fubar import fInfinite"
   ]
  },
  {
   "cell_type": "markdown",
   "id": "bearing-polish",
   "metadata": {},
   "source": [
    "- the value the input parameter does not matter - ``fInfinite`` will keep making recursive calls to itself [1]"
   ]
  },
  {
   "cell_type": "markdown",
   "id": "shaped-kansas",
   "metadata": {},
   "source": [
    "- implementing an iterative design paradigm and not having conditions set up in the right way such as a ``while`` loop with a condition that never becomes ``False`` therefore never exits is an infinite loop [1]"
   ]
  },
  {
   "cell_type": "markdown",
   "id": "sustained-powell",
   "metadata": {},
   "source": [
    "- implementing a recursive design paradigm and experiencing infinite recursion is similar in a way but a little more informative (noticeable) when it goes wrong than experiencing an infinite loop [1]"
   ]
  },
  {
   "cell_type": "markdown",
   "id": "swedish-keyboard",
   "metadata": {},
   "source": [
    "- in terms of the activation frames (records) of recursive calls being kept on the stack - the implemented in Java will experience a ``StackOverflowError`` eventually and how long this takes to reach would depend on how much memory is available to the Java Virtual Machine and by extension how much memory is available on the computer but in a nutshell that process would keep making recursive calls to itself and would keep adding activation frames (records) to the stack until the  ``StackOverflowError`` occurs (recursive calls having taken up all the available memory in the JVM) [1]"
   ]
  },
  {
   "cell_type": "code",
   "execution_count": 5,
   "id": "packed-lloyd",
   "metadata": {},
   "outputs": [],
   "source": [
    "from sys import getrecursionlimit"
   ]
  },
  {
   "cell_type": "code",
   "execution_count": 6,
   "id": "necessary-plane",
   "metadata": {},
   "outputs": [
    {
     "name": "stdout",
     "output_type": "stream",
     "text": [
      "maximum recursion depth (3000) exceeded\n"
     ]
    }
   ],
   "source": [
    "try:\n",
    "    fInfinite(n)\n",
    "except RecursionError:\n",
    "    print(\"maximum recursion depth ({}) exceeded\".format(getrecursionlimit()))"
   ]
  },
  {
   "cell_type": "markdown",
   "id": "greenhouse-blackberry",
   "metadata": {},
   "source": [
    "- to protect against this need a base case [1]"
   ]
  },
  {
   "cell_type": "markdown",
   "id": "after-moses",
   "metadata": {},
   "source": [
    "- a base case very simply is a case or input parameters for the recursive process which can be solved without recursion [1]"
   ]
  },
  {
   "cell_type": "markdown",
   "id": "focused-found",
   "metadata": {},
   "source": [
    "- ``fCount`` increments the value of the input value ``nParIndex`` then the next call would call ``nParIndex+1`` and so on having a condition ``if nParIndex<2`` such that when ``nParIndex=2`` or greater then ``2`` is the base case for that particular algorithm [1]"
   ]
  },
  {
   "cell_type": "code",
   "execution_count": 7,
   "id": "stupid-disaster",
   "metadata": {},
   "outputs": [],
   "source": [
    "exit()"
   ]
  },
  {
   "cell_type": "markdown",
   "id": "worldwide-grace",
   "metadata": {},
   "source": [
    "< [Table of Contents](#top) | [References](#references) >\n",
    "<a id=\"Circular\"></a>\n",
    "###### Circular\n",
    "***"
   ]
  },
  {
   "cell_type": "markdown",
   "id": "different-mozambique",
   "metadata": {},
   "source": [
    "- specific form of infinite recursion whereby recursive calls stop making progress towards the base case or not make progress towards a case which can actually be solved without recursion [1]"
   ]
  },
  {
   "cell_type": "code",
   "execution_count": 1,
   "id": "modified-deposit",
   "metadata": {},
   "outputs": [
    {
     "name": "stdout",
     "output_type": "stream",
     "text": [
      "# repository ./cta-recursion\r\n",
      "def fCircular(nParInteger):\r\n",
      "    \"\"\"Recursive process not making progress toward a base case.\r\n",
      "\r\n",
      "Input: nParInteger\r\n",
      "Process: if Input==1 then call fCircular passing Input+1;\r\n",
      "    otherwise make call to fCircular passing Input-1\r\n",
      "Output: keeps going back and forth when Input==1\r\n",
      "\"\"\"\r\n",
      "    if nParInteger==1:\r\n",
      "        fCircular(nParInteger+1)\r\n",
      "    fCircular(nParInteger-1)\r\n",
      "# -- END ---\r\n"
     ]
    }
   ],
   "source": [
    "%%script bash\n",
    "grep -1 \"def fCircular\" ../src/fubar.py -A 11"
   ]
  },
  {
   "cell_type": "markdown",
   "id": "micro-statistics",
   "metadata": {},
   "source": [
    "- ``fCircular`` passing ``n`` and within its body calling ``fCircular`` with parameter ``nParInteger+1`` if ``nParInteger==1`` otherwise calling ``fCircular`` with parameter ``nParInteger-1`` [1]"
   ]
  },
  {
   "cell_type": "code",
   "execution_count": 2,
   "id": "weekly-suggestion",
   "metadata": {},
   "outputs": [],
   "source": [
    "n=1"
   ]
  },
  {
   "cell_type": "code",
   "execution_count": 3,
   "id": "neural-support",
   "metadata": {},
   "outputs": [],
   "source": [
    "from sys import path; path.insert(1,\"../src/\")"
   ]
  },
  {
   "cell_type": "code",
   "execution_count": 4,
   "id": "beneficial-capacity",
   "metadata": {},
   "outputs": [
    {
     "data": {
      "text/html": [
       "<style>.container { width:100% !important; }</style>"
      ],
      "text/plain": [
       "<IPython.core.display.HTML object>"
      ]
     },
     "metadata": {},
     "output_type": "display_data"
    }
   ],
   "source": [
    "from fubar import fCircular"
   ]
  },
  {
   "cell_type": "markdown",
   "id": "sunset-cedar",
   "metadata": {},
   "source": [
    "- next call ``fCircular(2)`` and next call ``fCircular(1)`` and so on such that the process would keep going back and forth [1]"
   ]
  },
  {
   "cell_type": "markdown",
   "id": "periodic-fence",
   "metadata": {},
   "source": [
    "- similar to ``fInfinite`` the process would keep making recursive calls to itself until the memory available ran out or until a ``StackOverflowError`` occurs because multiple activation frames (records) are added [1]"
   ]
  },
  {
   "cell_type": "markdown",
   "id": "republican-experience",
   "metadata": {},
   "source": [
    "- a new activation frame (record) is added with every recursive call but none of the actual recursive calls would ever return (taking up all available memory) [1]"
   ]
  },
  {
   "cell_type": "code",
   "execution_count": 5,
   "id": "ideal-tobacco",
   "metadata": {},
   "outputs": [
    {
     "name": "stdout",
     "output_type": "stream",
     "text": [
      "maximum recursion depth exceeded in comparison\n"
     ]
    }
   ],
   "source": [
    "try:\n",
    "    fCircular(n)\n",
    "except RecursionError:\n",
    "    print(\"maximum recursion depth exceeded in comparison\")"
   ]
  },
  {
   "cell_type": "markdown",
   "id": "immune-aurora",
   "metadata": {},
   "source": [
    "- like infinite recursion circular recursion is something to watch out for when designing and implementing recursive algorithms [1]"
   ]
  },
  {
   "cell_type": "code",
   "execution_count": 6,
   "id": "crucial-pontiac",
   "metadata": {},
   "outputs": [],
   "source": [
    "exit()"
   ]
  },
  {
   "cell_type": "markdown",
   "id": "alien-thesaurus",
   "metadata": {},
   "source": [
    "< [Table of Contents](#top) | [References](#references) >\n",
    "<a id=\"Rules\"></a>\n",
    "### Rules\n",
    "***"
   ]
  },
  {
   "cell_type": "markdown",
   "id": "empty-reviewer",
   "metadata": {},
   "source": [
    "- basic rules to consider when were implementing recursive algorithms [1]"
   ]
  },
  {
   "cell_type": "code",
   "execution_count": 1,
   "id": "permanent-vegetarian",
   "metadata": {},
   "outputs": [],
   "source": [
    "exit()"
   ]
  },
  {
   "cell_type": "markdown",
   "id": "mysterious-filter",
   "metadata": {},
   "source": [
    "< [Table of Contents](#top) | [References](#references) >\n",
    "<a id=\"Base-Case\"></a>\n",
    "###### Base Case\n",
    "***"
   ]
  },
  {
   "cell_type": "markdown",
   "id": "embedded-consultation",
   "metadata": {},
   "source": [
    "- a recursive algorithm must always have a base case which can be solved without recursion [1]"
   ]
  },
  {
   "cell_type": "markdown",
   "id": "graphic-factory",
   "metadata": {},
   "source": [
    "- ``fCount`` base case is if the value passed to ``fCount`` reached ``2`` - could be solved without recursion [1] "
   ]
  },
  {
   "cell_type": "markdown",
   "id": "public-pastor",
   "metadata": {},
   "source": [
    "- so any call to ``fCount`` with a value of ``2`` or above can be solved without recursion meaning the process has a base case [1]"
   ]
  },
  {
   "cell_type": "markdown",
   "id": "located-acoustic",
   "metadata": {},
   "source": [
    "- a process without a base case would result in infinite recursion when run [1]"
   ]
  },
  {
   "cell_type": "markdown",
   "id": "unavailable-criticism",
   "metadata": {},
   "source": [
    "- important to consider a base case or a simple instance of the problem which can be solved without recursion [1]"
   ]
  },
  {
   "cell_type": "code",
   "execution_count": 1,
   "id": "golden-rendering",
   "metadata": {},
   "outputs": [],
   "source": [
    "exit()"
   ]
  },
  {
   "cell_type": "markdown",
   "id": "prescription-rough",
   "metadata": {},
   "source": [
    "< [Table of Contents](#top) | [References](#references) >\n",
    "<a id=\"Make-Progress\"></a>\n",
    "###### Make Progress\n",
    "***"
   ]
  },
  {
   "cell_type": "markdown",
   "id": "returning-migration",
   "metadata": {},
   "source": [
    "- every recursive call must make progress towards the base case or base cases (could have more than one base case) [1]"
   ]
  },
  {
   "cell_type": "markdown",
   "id": "animal-share",
   "metadata": {},
   "source": [
    "- must make progress towards the base case in each recursive call so for cases that are to be solved recursively the next call must be a case that makes progress towards that base case [1]"
   ]
  },
  {
   "cell_type": "markdown",
   "id": "cheap-notice",
   "metadata": {},
   "source": [
    "- processes that do not follow this rule (do not make progress towards the base case) would result in circular recursion [1]"
   ]
  },
  {
   "cell_type": "code",
   "execution_count": 1,
   "id": "aware-divorce",
   "metadata": {},
   "outputs": [],
   "source": [
    "exit()"
   ]
  },
  {
   "cell_type": "markdown",
   "id": "immune-possible",
   "metadata": {},
   "source": [
    "< [Table of Contents](#top) | [References](#references) >\n",
    "<a id=\"Design-Rule\"></a>\n",
    "###### Design Rule\n",
    "***"
   ]
  },
  {
   "cell_type": "markdown",
   "id": "suburban-attitude",
   "metadata": {},
   "source": [
    "- assume that all recursive calls will work [1]"
   ]
  },
  {
   "cell_type": "markdown",
   "id": "annoying-portable",
   "metadata": {},
   "source": [
    "- at a higher level in recursion must assume that the next recursive call made will carry out its task as expected and will return [1]"
   ]
  },
  {
   "cell_type": "markdown",
   "id": "historic-pulse",
   "metadata": {},
   "source": [
    "- assume any recursive call made will follow the previous two rules: i) making progress towards the base case and; ii) will reach that base case eventually [1]"
   ]
  },
  {
   "cell_type": "markdown",
   "id": "lesbian-whole",
   "metadata": {},
   "source": [
    "- all the nested levels of recursion will return one by one and work as expected [1]"
   ]
  },
  {
   "cell_type": "code",
   "execution_count": 1,
   "id": "mechanical-virus",
   "metadata": {},
   "outputs": [],
   "source": [
    "exit()"
   ]
  },
  {
   "cell_type": "markdown",
   "id": "amino-pathology",
   "metadata": {},
   "source": [
    "< [Table of Contents](#top) | [References](#references) >\n",
    "<a id=\"Compound-Interest-Rule\"></a>\n",
    "###### Compound Interest Rule\n",
    "***"
   ]
  },
  {
   "cell_type": "markdown",
   "id": "affecting-monkey",
   "metadata": {},
   "source": [
    "- relates to efficiency (efficient use of computational resources) [1]"
   ]
  },
  {
   "cell_type": "markdown",
   "id": "decent-siemens",
   "metadata": {},
   "source": [
    "- never duplicate work by solving the same instance of a problem in separate recursive calls [1]"
   ]
  },
  {
   "cell_type": "markdown",
   "id": "leading-venture",
   "metadata": {},
   "source": [
    "- should structure the recursive algorithm in such a way as to not repeat the same work or the same call over and over again in separate recursive instances (not a good use of computation resources) [1]"
   ]
  },
  {
   "cell_type": "markdown",
   "id": "removed-jerusalem",
   "metadata": {},
   "source": [
    "- if duplicating a lot of the same types of calls or the same problem instances then in that case should probably look at an iterative approach (iterative implementation) instead of using recursion [1]"
   ]
  },
  {
   "cell_type": "code",
   "execution_count": 1,
   "id": "brown-parcel",
   "metadata": {},
   "outputs": [],
   "source": [
    "exit()"
   ]
  },
  {
   "cell_type": "markdown",
   "id": "split-booth",
   "metadata": {},
   "source": [
    "<!-- print(fGetModuleType(___x___),fDocumentation(___x___)) -->\n",
    "***\n",
    "## END"
   ]
  },
  {
   "cell_type": "markdown",
   "id": "realistic-egypt",
   "metadata": {},
   "source": [
    "< [Table of Contents](#top) | [Abstract](#abstract) | [Introduction](#introduction) | [Conclusion](#conclusion) | [References](#references) >\n",
    "<a id=\"solution\"></a>\n",
    "***\n",
    "## Solution\n",
    "***\n",
    "\n",
    "<!--\n",
    "\n",
    "- so taking all of that together as a whole all the issues weve talked about so far in relation to recursive algorithms how would we actually go about designing and implementing recursive algorithm? [1]\n",
    "\n",
    "- well the very first and most fundamental step which we must take is to just think about the task which you wish to accomplish and we try to identify any recurring patterns or any patterns that we will see again [1]\n",
    " \n",
    "- so basically we look out for similar operations that must be conducted for example the traversing through nested directories on a file system problem thats a problem that naturally lends itself to recursion or to a recursive solution [1]\n",
    "\n",
    "- so that process of looking through every file in the directory and see if we want to search for a file and then going into the directory below it or etc that is a fundamentally recursive process [1]\n",
    "\n",
    "- so we want to maybe divide that problem up using these recurring operations so the idea of maybe looking at every file in a folder and then moving on to the next four folder below - would be the most fundamental recurring operation that happens when were traversing through directories in a file system [1]\n",
    "\n",
    "- so after weve broken our larger problem up into the smallest i guess instance that we can the smallest recurring instance and then we need to identify those cases which we know could be solved without recursion so that could be a single base case or you could have multiple base cases and in the example of traversing through directories on a file system that would be the deepest nested directory on the file system for example would be the recursive case because no more recursive calls would happen below that or nested deeper within [1]\n",
    " \n",
    "- so once weve divided the problem up we need to identify those cases which could be solved without recursion and so a good or well designed recursive algorithm would not end in a multitude of special cases rather the goal for us is to identify just one simple base case are just a very few very simple base cases that could be solved without recursion and those will actually act as a stop or prevent infinite recursion [1]\n",
    "\n",
    "- then we need to design our algorithm in such a way that will invoke a new copy of the function/method with each recursive step and will modify the input parameters [1]\n",
    " \n",
    "- so each recursive call would have like a different initialisation conditions or a different input and each recursive step will then actually resemble the original larger problem [1]\n",
    "\n",
    "- and then finally with each recursive step or each recursive call we want to ensure that were going to make progress towards the base case or base cases with each successive call [1]\n",
    "\n",
    "- taking that all information that that how one would divide a problem up and begin to think about how to solve it in a recursive fashion so just to recap quickly on the material we covered today the main takeaway concept here is that recursion allows us to solve some problem by breaking it up into smaller instances of the same problem and therefore a recursive function/method is a function/method which calls itself within its own function/method body so we may want to use recursion versus an iterative approach because it allows for cleaner code and intuitively some problems may be more easily solved by taking a recursive approach so it quite often leads to cleaner code that is more maintainable and easier to understand we also examined some of the main design rules for recursive algorithms and we illustrate the importance of a base case in recursion where we said that a base case is a case which can be solved without recursion so it is an input instance for the algorithm or for the function/method which may be solved without making a recursive call so in the next lecture were going to consider some example problems which may be solved using recursion\n",
    "-->"
   ]
  },
  {
   "cell_type": "markdown",
   "id": "diverse-interface",
   "metadata": {},
   "source": [
    "< [Table of Contents](#top) | [References](#references) >\n",
    "<a id=\"Stack\"></a>\n",
    "### Stack\n",
    "***"
   ]
  },
  {
   "cell_type": "markdown",
   "id": "pointed-nightlife",
   "metadata": {},
   "source": [
    "- program stack operates like a container of trays in a cafeteria: i) add a tray on the top and/or; ii) remove a tray off the top [1]"
   ]
  },
  {
   "cell_type": "markdown",
   "id": "adolescent-holiday",
   "metadata": {},
   "source": [
    "- stack operations: i) ``push`` pushes something onto the stack (always placed on the top of the stack) and ii)``pop`` pops something off the top of the stack (last item added to the top will be popped off when pop is called) [1]"
   ]
  },
  {
   "cell_type": "markdown",
   "id": "contained-barbados",
   "metadata": {},
   "source": [
    "- each time a process is invoked (``push``) its activation frame (record) is placed on top of the stack - the activation frame is just a record of: i) the process called; ii) parameters passed and; iii) its flow of control it is in [1]"
   ]
  },
  {
   "cell_type": "markdown",
   "id": "analyzed-cliff",
   "metadata": {},
   "source": [
    "- when a process returns/exits (``pop``) its activation frame (record) is taken off the stack [1]"
   ]
  },
  {
   "cell_type": "markdown",
   "id": "juvenile-mouth",
   "metadata": {},
   "source": [
    "- the stack is way to visualise which process activation frames (records) are active at any one time [1]"
   ]
  },
  {
   "cell_type": "code",
   "execution_count": 1,
   "id": "handy-excess",
   "metadata": {},
   "outputs": [],
   "source": [
    "nProcess=None"
   ]
  },
  {
   "cell_type": "code",
   "execution_count": 2,
   "id": "spectacular-claim",
   "metadata": {},
   "outputs": [
    {
     "data": {
      "text/plain": [
       "'<PROCESS> <invoke> None'"
      ]
     },
     "execution_count": 2,
     "metadata": {},
     "output_type": "execute_result"
    }
   ],
   "source": [
    "\"<PROCESS> <invoke> {}\".format(nProcess)"
   ]
  },
  {
   "cell_type": "code",
   "execution_count": 3,
   "id": "healthy-beads",
   "metadata": {},
   "outputs": [],
   "source": [
    "nRecord=[]; nRecord.append(\"Empty Stack\"); nTime=0"
   ]
  },
  {
   "cell_type": "code",
   "execution_count": 4,
   "id": "together-yacht",
   "metadata": {},
   "outputs": [
    {
     "data": {
      "text/plain": [
       "'<STACK> <activation frame(s)> Empty Stack <time/active> 0'"
      ]
     },
     "execution_count": 4,
     "metadata": {},
     "output_type": "execute_result"
    }
   ],
   "source": [
    "\"<STACK> <activation frame(s)> {} <time/active> {}\".format(nRecord[0],nTime)"
   ]
  },
  {
   "cell_type": "markdown",
   "id": "twelve-camera",
   "metadata": {},
   "source": [
    "![main-call-alpha](https://github.com/SeanOhAileasa/SeanOhAileasa/blob/master/img/cta/recursion/stack/04-1-04.png?raw=true)\n",
    "\n",
    "***(Image) P. Mannion, \"05 Recursive Algorithms Part 1 (Java +Python),\" GMIT, February 2019.***"
   ]
  },
  {
   "cell_type": "code",
   "execution_count": 5,
   "id": "compact-threshold",
   "metadata": {},
   "outputs": [],
   "source": [
    "nRecord=[]; nProcess=__name__"
   ]
  },
  {
   "cell_type": "code",
   "execution_count": 6,
   "id": "laden-bottle",
   "metadata": {},
   "outputs": [
    {
     "data": {
      "text/plain": [
       "'<PROCESS> <invoke> __main__'"
      ]
     },
     "execution_count": 6,
     "metadata": {},
     "output_type": "execute_result"
    }
   ],
   "source": [
    "\"<PROCESS> <invoke> {}\".format(nProcess)"
   ]
  },
  {
   "cell_type": "code",
   "execution_count": 7,
   "id": "traditional-instrument",
   "metadata": {},
   "outputs": [],
   "source": [
    "nRecord.append(nProcess); nTime+=1"
   ]
  },
  {
   "cell_type": "code",
   "execution_count": 8,
   "id": "subsequent-panel",
   "metadata": {},
   "outputs": [
    {
     "data": {
      "text/plain": [
       "'<STACK> <push> __main__ <activation frame(s)> __main__ <time/active> 1'"
      ]
     },
     "execution_count": 8,
     "metadata": {},
     "output_type": "execute_result"
    }
   ],
   "source": [
    "\"<STACK> <push> {} <activation frame(s)> {} <time/active> {}\".format(nProcess,nRecord[0],nTime)"
   ]
  },
  {
   "cell_type": "markdown",
   "id": "suspected-tragedy",
   "metadata": {},
   "source": [
    "![main-call-alpha](https://github.com/SeanOhAileasa/SeanOhAileasa/blob/master/img/cta/recursion/stack/04-1-05.png?raw=true)\n",
    "\n",
    "***(Image) P. Mannion, \"05 Recursive Algorithms Part 1 (Java +Python),\" GMIT, February 2019.***"
   ]
  },
  {
   "cell_type": "code",
   "execution_count": 9,
   "id": "southeast-papua",
   "metadata": {},
   "outputs": [
    {
     "name": "stdout",
     "output_type": "stream",
     "text": [
      "# repository ./fubar-python\r\n",
      "def fCount(nParIndex):\r\n",
      "    \"\"\"Recursive process.\r\n",
      "\r\n",
      "Input: nParIndex\r\n",
      "Process: print Input; if Input<2 then call fCount passing Input+1\r\n",
      "Output: sequence 0, 1, 2\r\n",
      "\"\"\"\r\n",
      "    print(nParIndex)\r\n",
      "    if nParIndex<2:\r\n",
      "        fCount(nParIndex+1)\r\n",
      "# -- END ---\r\n"
     ]
    }
   ],
   "source": [
    "%%script bash\n",
    "grep -1 \"def fCount\" ../src/fubar.py -A 10"
   ]
  },
  {
   "cell_type": "code",
   "execution_count": 10,
   "id": "ultimate-workshop",
   "metadata": {},
   "outputs": [],
   "source": [
    "from sys import path; path.insert(1,\"../src\")"
   ]
  },
  {
   "cell_type": "code",
   "execution_count": 11,
   "id": "loose-maldives",
   "metadata": {},
   "outputs": [
    {
     "data": {
      "text/html": [
       "<style>.container { width:100% !important; }</style>"
      ],
      "text/plain": [
       "<IPython.core.display.HTML object>"
      ]
     },
     "metadata": {},
     "output_type": "display_data"
    }
   ],
   "source": [
    "from fubar import fCount"
   ]
  },
  {
   "cell_type": "code",
   "execution_count": 12,
   "id": "collected-weapon",
   "metadata": {},
   "outputs": [],
   "source": [
    "nArgument=0; nParameter=nArgument; nProcess=fCount.__name__+\"(\"+str(nParameter)+\")\""
   ]
  },
  {
   "cell_type": "code",
   "execution_count": 13,
   "id": "variable-overall",
   "metadata": {},
   "outputs": [
    {
     "data": {
      "text/plain": [
       "'__main__ <PROCESS> <invoke> fCount(0)'"
      ]
     },
     "execution_count": 13,
     "metadata": {},
     "output_type": "execute_result"
    }
   ],
   "source": [
    "\"{} <PROCESS> <invoke> {}\".format(__name__,nProcess)"
   ]
  },
  {
   "cell_type": "code",
   "execution_count": 14,
   "id": "grateful-pollution",
   "metadata": {},
   "outputs": [],
   "source": [
    "nRecord.append(nProcess); nTime+=1"
   ]
  },
  {
   "cell_type": "code",
   "execution_count": 15,
   "id": "durable-cosmetic",
   "metadata": {},
   "outputs": [
    {
     "data": {
      "text/plain": [
       "\"<STACK> <push> fCount(0) <activation frame(s)> ['__main__', 'fCount(0)'] <time/active> 2\""
      ]
     },
     "execution_count": 15,
     "metadata": {},
     "output_type": "execute_result"
    }
   ],
   "source": [
    "\"<STACK> <push> {} <activation frame(s)> {} <time/active> {}\".format(nProcess,nRecord,nTime)"
   ]
  },
  {
   "cell_type": "markdown",
   "id": "above-plant",
   "metadata": {},
   "source": [
    "![main-call-alpha](https://github.com/SeanOhAileasa/SeanOhAileasa/blob/master/img/cta/recursion/stack/04-1-06.png?raw=true)\n",
    "\n",
    "***(Image) P. Mannion, \"05 Recursive Algorithms Part 1 (Java +Python),\" GMIT, February 2019.***"
   ]
  },
  {
   "cell_type": "code",
   "execution_count": 16,
   "id": "hybrid-stage",
   "metadata": {},
   "outputs": [
    {
     "data": {
      "text/plain": [
       "'<PROCESS> <invoke> print(0)'"
      ]
     },
     "execution_count": 16,
     "metadata": {},
     "output_type": "execute_result"
    }
   ],
   "source": [
    "\"<PROCESS> <invoke> {}\".format(print.__name__+\"(\"+str(nParameter)+\")\")"
   ]
  },
  {
   "cell_type": "code",
   "execution_count": 17,
   "id": "derived-architect",
   "metadata": {},
   "outputs": [
    {
     "data": {
      "text/plain": [
       "'<RECURSION> <base case> True'"
      ]
     },
     "execution_count": 17,
     "metadata": {},
     "output_type": "execute_result"
    }
   ],
   "source": [
    "\"<RECURSION> <base case> {}\".format(nParameter<2)"
   ]
  },
  {
   "cell_type": "code",
   "execution_count": 18,
   "id": "approved-proportion",
   "metadata": {},
   "outputs": [],
   "source": [
    "nParameter+=1; nProcess=fCount.__name__+\"(\"+str(nParameter)+\")\""
   ]
  },
  {
   "cell_type": "code",
   "execution_count": 19,
   "id": "acquired-gates",
   "metadata": {},
   "outputs": [
    {
     "data": {
      "text/plain": [
       "'<PROCESS> <invoke> fCount(1)'"
      ]
     },
     "execution_count": 19,
     "metadata": {},
     "output_type": "execute_result"
    }
   ],
   "source": [
    "\"<PROCESS> <invoke> {}\".format(nProcess)"
   ]
  },
  {
   "cell_type": "code",
   "execution_count": 20,
   "id": "tropical-importance",
   "metadata": {},
   "outputs": [],
   "source": [
    "nRecord.append(nProcess); nTime+=1"
   ]
  },
  {
   "cell_type": "code",
   "execution_count": 21,
   "id": "popular-feelings",
   "metadata": {},
   "outputs": [
    {
     "data": {
      "text/plain": [
       "\"<STACK> <push> fCount(1) <activation frame(s)> ['__main__', 'fCount(0)', 'fCount(1)'] <time/active> 3\""
      ]
     },
     "execution_count": 21,
     "metadata": {},
     "output_type": "execute_result"
    }
   ],
   "source": [
    "\"<STACK> <push> {} <activation frame(s)> {} <time/active> {}\".format(nProcess,nRecord,nTime)"
   ]
  },
  {
   "cell_type": "markdown",
   "id": "nervous-filing",
   "metadata": {},
   "source": [
    "![main-call-alpha](https://github.com/SeanOhAileasa/SeanOhAileasa/blob/master/img/cta/recursion/stack/04-1-07.png?raw=true)\n",
    "\n",
    "***(Image) P. Mannion, \"05 Recursive Algorithms Part 1 (Java +Python),\" GMIT, February 2019.***"
   ]
  },
  {
   "cell_type": "code",
   "execution_count": 22,
   "id": "entitled-accessory",
   "metadata": {},
   "outputs": [
    {
     "data": {
      "text/plain": [
       "'<PROCESS> <invoke> print(1)'"
      ]
     },
     "execution_count": 22,
     "metadata": {},
     "output_type": "execute_result"
    }
   ],
   "source": [
    "\"<PROCESS> <invoke> {}\".format(print.__name__+\"(\"+str(nParameter)+\")\")"
   ]
  },
  {
   "cell_type": "code",
   "execution_count": 23,
   "id": "subject-accountability",
   "metadata": {},
   "outputs": [
    {
     "data": {
      "text/plain": [
       "'<RECURSION> <base case> True'"
      ]
     },
     "execution_count": 23,
     "metadata": {},
     "output_type": "execute_result"
    }
   ],
   "source": [
    "\"<RECURSION> <base case> {}\".format(nParameter<2)"
   ]
  },
  {
   "cell_type": "code",
   "execution_count": 24,
   "id": "forbidden-administration",
   "metadata": {},
   "outputs": [],
   "source": [
    "nParameter+=1; nProcess=fCount.__name__+\"(\"+str(nParameter)+\")\""
   ]
  },
  {
   "cell_type": "code",
   "execution_count": 25,
   "id": "expressed-tumor",
   "metadata": {},
   "outputs": [
    {
     "data": {
      "text/plain": [
       "'<PROCESS> <invoke> fCount(2)'"
      ]
     },
     "execution_count": 25,
     "metadata": {},
     "output_type": "execute_result"
    }
   ],
   "source": [
    "\"<PROCESS> <invoke> {}\".format(nProcess)"
   ]
  },
  {
   "cell_type": "code",
   "execution_count": 26,
   "id": "statutory-rachel",
   "metadata": {},
   "outputs": [],
   "source": [
    "nRecord.append(nProcess); nTime+=1"
   ]
  },
  {
   "cell_type": "code",
   "execution_count": 27,
   "id": "floppy-design",
   "metadata": {},
   "outputs": [
    {
     "data": {
      "text/plain": [
       "\"<STACK> <push> fCount(2) <activation frame(s)> ['__main__', 'fCount(0)', 'fCount(1)', 'fCount(2)'] <time/active> 4\""
      ]
     },
     "execution_count": 27,
     "metadata": {},
     "output_type": "execute_result"
    }
   ],
   "source": [
    "\"<STACK> <push> {} <activation frame(s)> {} <time/active> {}\".format(nProcess,nRecord,nTime)"
   ]
  },
  {
   "cell_type": "markdown",
   "id": "norman-shadow",
   "metadata": {},
   "source": [
    "![main-call-alpha](https://github.com/SeanOhAileasa/SeanOhAileasa/blob/master/img/cta/recursion/stack/04-1-08.png?raw=true)\n",
    "\n",
    "***(Image) P. Mannion, \"05 Recursive Algorithms Part 1 (Java +Python),\" GMIT, February 2019.***"
   ]
  },
  {
   "cell_type": "code",
   "execution_count": 28,
   "id": "going-sustainability",
   "metadata": {
    "scrolled": true
   },
   "outputs": [
    {
     "data": {
      "text/plain": [
       "'<PROCESS> <invoke> print(2)'"
      ]
     },
     "execution_count": 28,
     "metadata": {},
     "output_type": "execute_result"
    }
   ],
   "source": [
    "\"<PROCESS> <invoke> {}\".format(print.__name__+\"(\"+str(nParameter)+\")\")"
   ]
  },
  {
   "cell_type": "code",
   "execution_count": 29,
   "id": "secret-episode",
   "metadata": {},
   "outputs": [
    {
     "data": {
      "text/plain": [
       "'<RECURSION> <base case> False'"
      ]
     },
     "execution_count": 29,
     "metadata": {},
     "output_type": "execute_result"
    }
   ],
   "source": [
    "\"<RECURSION> <base case> {}\".format(nParameter<2)"
   ]
  },
  {
   "cell_type": "markdown",
   "id": "through-prospect",
   "metadata": {},
   "source": [
    "- recursion stops [1]"
   ]
  },
  {
   "cell_type": "markdown",
   "id": "widespread-rhythm",
   "metadata": {},
   "source": [
    "- all activation frames return control to their caller - popped off the stack [1]"
   ]
  },
  {
   "cell_type": "code",
   "execution_count": 30,
   "id": "upset-music",
   "metadata": {},
   "outputs": [
    {
     "data": {
      "text/plain": [
       "\"<STACK> <pop> fCount(2) <activation frame(s)> ['__main__', 'fCount(0)', 'fCount(1)']\""
      ]
     },
     "execution_count": 30,
     "metadata": {},
     "output_type": "execute_result"
    }
   ],
   "source": [
    "\"<STACK> <pop> {} <activation frame(s)> {}\".format(nRecord.pop(),nRecord)"
   ]
  },
  {
   "cell_type": "code",
   "execution_count": 31,
   "id": "victorian-tuesday",
   "metadata": {},
   "outputs": [
    {
     "data": {
      "text/plain": [
       "\"<STACK> <pop> fCount(1) <activation frame(s)> ['__main__', 'fCount(0)']\""
      ]
     },
     "execution_count": 31,
     "metadata": {},
     "output_type": "execute_result"
    }
   ],
   "source": [
    "\"<STACK> <pop> {} <activation frame(s)> {}\".format(nRecord.pop(),nRecord)"
   ]
  },
  {
   "cell_type": "code",
   "execution_count": 32,
   "id": "cultural-court",
   "metadata": {},
   "outputs": [
    {
     "data": {
      "text/plain": [
       "\"<STACK> <pop> fCount(0) <activation frame(s)> ['__main__']\""
      ]
     },
     "execution_count": 32,
     "metadata": {},
     "output_type": "execute_result"
    }
   ],
   "source": [
    "\"<STACK> <pop> {} <activation frame(s)> {}\".format(nRecord.pop(),nRecord)"
   ]
  },
  {
   "cell_type": "markdown",
   "id": "split-effects",
   "metadata": {},
   "source": [
    "- ``main`` stops running then also popped off the stack [1]"
   ]
  },
  {
   "cell_type": "code",
   "execution_count": 33,
   "id": "stretch-restriction",
   "metadata": {},
   "outputs": [
    {
     "data": {
      "text/plain": [
       "'<STACK> <pop> __main__ <activation frame(s)> []'"
      ]
     },
     "execution_count": 33,
     "metadata": {},
     "output_type": "execute_result"
    }
   ],
   "source": [
    "\"<STACK> <pop> {} <activation frame(s)> {}\".format(nRecord.pop(),nRecord)"
   ]
  },
  {
   "cell_type": "markdown",
   "id": "prescription-carolina",
   "metadata": {},
   "source": [
    "![main-call-alpha](https://github.com/SeanOhAileasa/SeanOhAileasa/blob/master/img/cta/recursion/stack/04-1-09.png?raw=true)\n",
    "\n",
    "***(Image) P. Mannion, \"05 Recursive Algorithms Part 1 (Java +Python),\" GMIT, February 2019.***"
   ]
  },
  {
   "cell_type": "code",
   "execution_count": 34,
   "id": "subsequent-reproduction",
   "metadata": {},
   "outputs": [],
   "source": [
    "exit()"
   ]
  },
  {
   "cell_type": "markdown",
   "id": "freelance-topic",
   "metadata": {},
   "source": [
    "<!-- - refer [Appendix](#appendix-df) to view the full dataset <a id=\"go-back-df\"></a> -->\n",
    "<!-- print(fGetModuleType(___x___),fDocumentation(___x___)) -->\n",
    "***\n",
    "## END"
   ]
  },
  {
   "cell_type": "markdown",
   "id": "speaking-settle",
   "metadata": {},
   "source": [
    "< [Table of Contents](#top) | [Abstract](#abstract) | [Introduction](#introduction) | [Solution](#solution) | [References](#references) >\n",
    "<a id=\"conclusion\"></a>\n",
    "***\n",
    "## Conclusion\n",
    "***"
   ]
  },
  {
   "cell_type": "markdown",
   "id": "defined-specialist",
   "metadata": {},
   "source": [
    "- recursion in an alternative to iteration and its important to note that any set of tasks which could be accomplished using a recursive process can also be accomplished by using an iterative process [1]"
   ]
  },
  {
   "cell_type": "markdown",
   "id": "lasting-macedonia",
   "metadata": {},
   "source": [
    "- recursion is an expensive way to design algorithms given that multiple activation frames will be active for a process at any one point (there is overhead involved with every process call) [1]"
   ]
  },
  {
   "cell_type": "markdown",
   "id": "compact-fireplace",
   "metadata": {},
   "source": [
    "- analysing ``fCount`` by visualising which process activation frames (records) on the stack are active at any one time demonstrates that even for a very simple process (printing the sequence \"0, 1, 2\" to the console) needed to have three function activation frames on the stack whereas this task could easily be achieved just using an iterative approach (``for`` loop to print out the sequence) [1]"
   ]
  },
  {
   "cell_type": "markdown",
   "id": "binary-nelson",
   "metadata": {},
   "source": [
    "- if both statements are true: i) a recursive process can also be accomplished by using iterative process and; ii) recursion is expensive involving additional overhead when compared to an iterative approach then the question is why use recursion (use cases) [1] "
   ]
  },
  {
   "cell_type": "markdown",
   "id": "signed-sixth",
   "metadata": {},
   "source": [
    "- in many cases the extra expense of recursion (extra complexity) in terms of the running time is far outweighed by having a simpler cleaner algorithm which leads to an implementation which is in general easier to code [1] "
   ]
  },
  {
   "cell_type": "markdown",
   "id": "under-washington",
   "metadata": {},
   "source": [
    "- may be happy to make some sacrifices in terms of overhead involved in process calls if the code is clean and more concise (simpler) and easier to understand [1]"
   ]
  },
  {
   "cell_type": "markdown",
   "id": "veterinary-pillow",
   "metadata": {},
   "source": [
    "- ultimately recursion would be eliminated when the compiler gets down to the level of creating assembly language by implementing the stack [1]"
   ]
  },
  {
   "cell_type": "markdown",
   "id": "corporate-collins",
   "metadata": {},
   "source": [
    "- in general if the recursion tree (recursion process) has a very simple form (a lot of repeated tasks) then the iterative version may in fact be better wheras if having a recursion tree that appears quite bushy (there are a lot of different cases and a lot of different branches and ways that task could go) then recursion is more the natural solution if there are very few duplicate tasks (are similar with different instances of the same problem) [1]"
   ]
  },
  {
   "cell_type": "code",
   "execution_count": 1,
   "id": "flying-peeing",
   "metadata": {},
   "outputs": [],
   "source": [
    "exit()"
   ]
  },
  {
   "cell_type": "markdown",
   "id": "random-extension",
   "metadata": {},
   "source": [
    "<!-- print(fGetModuleType(___x___),fDocumentation(___x___)) -->\n",
    "***\n",
    "## END"
   ]
  },
  {
   "cell_type": "markdown",
   "id": "reverse-calendar",
   "metadata": {},
   "source": [
    "< [Table of Contents](#top) | [Abstract](#abstract) | [Introduction](#introduction) | [Solution](#solution) | [Conclusion](#conclusion) | [References](#references) >\n",
    "<a id=\"references\"></a>\n",
    "***\n",
    "## References\n",
    "***\n",
    "&nbsp;&nbsp;&nbsp;&nbsp;&nbsp;&nbsp;&nbsp;&nbsp;&nbsp;[1] P. Mannion, \"05 Recursive Algorithms Part 1 (Java +Python),\" GMIT, February 2019."
   ]
  },
  {
   "cell_type": "markdown",
   "id": "emerging-mount",
   "metadata": {},
   "source": [
    "***\n",
    "## END"
   ]
  },
  {
   "cell_type": "markdown",
   "id": "stretch-founder",
   "metadata": {},
   "source": [
    "< [Table of Contents](#top) | [Abstract](#abstract) | [Introduction](#introduction) | [Solution](#solution) | [Conclusion](#conclusion) | [References](#references) >\n",
    "<a id=\"appendix\"></a>\n",
    "***\n",
    "## Appendix\n",
    "***"
   ]
  },
  {
   "cell_type": "markdown",
   "id": "future-clarity",
   "metadata": {},
   "source": [
    "<a id=\"appendix-some-reference\"></a>\n",
    "< [Go Back](#top) >"
   ]
  },
  {
   "cell_type": "markdown",
   "id": "empty-bacon",
   "metadata": {},
   "source": [
    "&#x1F6A7;"
   ]
  },
  {
   "cell_type": "markdown",
   "id": "acoustic-holocaust",
   "metadata": {},
   "source": [
    "###### Github\n",
    "***"
   ]
  },
  {
   "cell_type": "markdown",
   "id": "answering-claim",
   "metadata": {},
   "source": [
    "```\n",
    "git push -f origin HEAD^:master && git reset HEAD~\n",
    "```"
   ]
  },
  {
   "cell_type": "markdown",
   "id": "wicked-territory",
   "metadata": {},
   "source": [
    "###### Functions\n",
    "***"
   ]
  },
  {
   "cell_type": "markdown",
   "id": "daily-stroke",
   "metadata": {},
   "source": [
    "```python\n",
    "# %%writefile -a ../src/fubar.py\n",
    "# repository ./fubar-python\n",
    "def f():\n",
    "    \"\"\"\n",
    "\n",
    "Input:\n",
    "Process:\n",
    "Output:\n",
    "\"\"\"\n",
    "    pass\n",
    "# -- END ---\n",
    "```"
   ]
  },
  {
   "cell_type": "markdown",
   "id": "metallic-blink",
   "metadata": {},
   "source": [
    "```\n",
    "git commit -m \"update repository ./fubar-python - Everything in python is an object.\"\n",
    "```"
   ]
  },
  {
   "cell_type": "markdown",
   "id": "defined-cradle",
   "metadata": {},
   "source": [
    "###### Tables\n",
    "***"
   ]
  },
  {
   "cell_type": "markdown",
   "id": "dried-poland",
   "metadata": {},
   "source": [
    "|aaa|bbbbbb|ccccccccc|\n",
    "|:------------------------- | :------------------------- | :------------------------- |\n",
    "|aaa|bbbbbb|ccccccccc|"
   ]
  },
  {
   "cell_type": "markdown",
   "id": "temporal-jenny",
   "metadata": {},
   "source": [
    "***\n",
    "## END"
   ]
  },
  {
   "cell_type": "markdown",
   "id": "ambient-sheet",
   "metadata": {},
   "source": [
    "# END JUPYTER NOTEBOOK"
   ]
  }
 ],
 "metadata": {
  "kernelspec": {
   "display_name": "Python 3",
   "language": "python",
   "name": "python3"
  },
  "language_info": {
   "codemirror_mode": {
    "name": "ipython",
    "version": 3
   },
   "file_extension": ".py",
   "mimetype": "text/x-python",
   "name": "python",
   "nbconvert_exporter": "python",
   "pygments_lexer": "ipython3",
   "version": "3.8.3"
  }
 },
 "nbformat": 4,
 "nbformat_minor": 5
}
