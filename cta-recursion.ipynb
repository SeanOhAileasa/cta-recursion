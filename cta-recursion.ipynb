{
 "cells": [
  {
   "cell_type": "code",
   "execution_count": null,
   "metadata": {},
   "outputs": [
    {
     "data": {
      "text/html": [
       "<script>Jupyter.notebook.kernel.restart()</script>"
      ]
     },
     "metadata": {},
     "output_type": "display_data"
    }
   ],
   "source": [
    "from IPython.core.display import display_html\n",
    "display_html(\"<script>Jupyter.notebook.kernel.restart()</script>\",raw=True)"
   ]
  },
  {
   "cell_type": "code",
   "execution_count": 1,
   "metadata": {},
   "outputs": [
    {
     "data": {
      "text/html": [
       "<style>.container { width:100% !important; }</style>"
      ],
      "text/plain": [
       "<IPython.core.display.HTML object>"
      ]
     },
     "metadata": {},
     "output_type": "display_data"
    },
    {
     "data": {
      "text/html": [
       "<style>.container { width:100% !important; }</style>"
      ],
      "text/plain": [
       "<IPython.core.display.HTML object>"
      ]
     },
     "metadata": {},
     "output_type": "display_data"
    }
   ],
   "source": [
    "from sys import path; path.insert(1,\"../src\");\n",
    "import fubar; from importlib import reload; reload(fubar);"
   ]
  },
  {
   "cell_type": "markdown",
   "metadata": {},
   "source": [
    "***\n",
    "\n",
    "< [GMIT Data Analytics](https://web.archive.org/web/20201029063153/https://www.gmit.ie/computer-science-and-applied-physics/higher-diploma-science-computing-data-analytics-ict) | [Home](https://github.com/SeanOhAileasa) | [README](https://github.com/SeanOhAileasa/cta-sorting/blob/main/README.md) >\n",
    "\n",
    "[![GMIT](https://github.com/SeanOhAileasa/SeanOhAileasa/blob/master/rc/gmit.png?raw=true)](https://web.archive.org/web/20201029063153/https://www.gmit.ie/computer-science-and-applied-physics/higher-diploma-science-computing-data-analytics-ict)\n",
    "\n",
    "## Computational Thinking with Algorithms - Course Material 2021\n",
    "### Topic: [Recursion](https://nbviewer.jupyter.org/github/SeanOhAileasa/cta-recursion/blob/main/cta-recursion.ipynb)\n",
    "\n",
    "***"
   ]
  },
  {
   "cell_type": "markdown",
   "metadata": {},
   "source": [
    "Course material for the ``Computational Thinking with Algorithms`` module (5 Credits) of the ``Higher Diploma in Science in Computing (Data Analytics) (H.Dip)`` programme (75 Credits) at **Galway-Mayo Institute of Technology (GMIT)**."
   ]
  },
  {
   "cell_type": "code",
   "execution_count": 2,
   "metadata": {},
   "outputs": [],
   "source": [
    "exit()"
   ]
  },
  {
   "cell_type": "markdown",
   "metadata": {},
   "source": [
    "<a id=\"top\"></a>\n",
    "***\n",
    "## Table of Contents\n",
    "***\n",
    "\n",
    "## [Notes](#notes)\n",
    "\n",
    "* [Lecture 1](#lecture-1)\n",
    "* [Lecture 2](#lecture-2)\n",
    "\n",
    "## [Abstract](#abstract)\n",
    "\n",
    "\n",
    "## [Introduction](#introduction)\n",
    "\n",
    "* [Trace](#Trace)\n",
    "\n",
    "* [Types](#Types) &#x1F6A7;\n",
    "    * [Linear](#Linear)\n",
    "        * [Tail](#Tail)\n",
    "            * [Euclid](https://github.com/E6985/L8733/blob/master/src/hdp/cta/recursion-iteration-types-linear-tail-euclid.ipynb) &#x1F530;\n",
    "                * [Iterative](https://github.com/E6985/L8733/blob/master/src/hdp/cta/recursion-iteration-types-linear-tail-euclid-iterative.ipynb) &#x1F530;\n",
    "                * [Recursion](https://github.com/E6985/L8733/blob/master/src/hdp/cta/recursion-iteration-types-linear-tail-euclid-recursion.ipynb) &#x1F530;    \n",
    "    * [Binary](#Binary)\n",
    "        * [Fibonacci](https://github.com/E6985/L8733/blob/master/src/hdp/cta/recursion-iteration-types-binary-fibonacci.ipynb) &#x1F530;\n",
    "            * [Iterative](https://github.com/E6985/L8733/blob/master/src/hdp/cta/recursion-iteration-types-binary-fibonacci-iterative.ipynb) &#x1F530;\n",
    "            * [Recursion](https://github.com/E6985/L8733/blob/master/src/hdp/cta/recursion-iteration-types-binary-fibonacci-recursive.ipynb) &#x1F530;\n",
    "    * [Exponential](#Exponential)\n",
    "    \n",
    "* [Error](#Error)\n",
    "    * [Infinite](#Infinite)\n",
    "        * [Circular](#Circular)\n",
    "\n",
    "* [Rules](#Rules)\n",
    "    * [Base Case](#Base-Case)\n",
    "    * [Make Progress](#Make-Progress)\n",
    "    * [Design Rule](#Design-Rule)\n",
    "    * [Compound Interest Rule](#Compound-Interest-Rule)\n",
    "   \n",
    "* [Design](#Design)\n",
    "    \n",
    "## [Solution](#solution)\n",
    "\n",
    "* [Stack](#Stack)\n",
    "    * [Factorial](https://github.com/E6985/L8733/blob/master/src/hdp/cta/recursion-iteration-stack-process-factorial.ipynb) &#x1F530;\n",
    "        * [Iterative](https://github.com/E6985/L8733/blob/master/src/hdp/cta/recursion-iteration-stack-process-factorial-iterative.ipynb) &#x1F530;\n",
    "        * [Recursive](https://github.com/E6985/L8733/blob/master/src/hdp/cta/recursion-iteration-stack-process-factorial-recursive.ipynb) &#x1F530;\n",
    "\n",
    "## [Conclusion](#conclusion)\n",
    "\n",
    "    \n",
    "## [Appendix](#appendix)\n",
    "\n",
    "* [Draft](#draft)\n",
    "* [Code Runner](#codeRunner)"
   ]
  },
  {
   "cell_type": "markdown",
   "metadata": {},
   "source": [
    "***\n",
    "## END"
   ]
  },
  {
   "cell_type": "markdown",
   "metadata": {},
   "source": [
    "< [Table of Contents](#top) | [Introduction](#introduction) | [Solution](#solution) | [Conclusion](#conclusion) | [References](#references) >\n",
    "<a id=\"notes\"></a>\n",
    "***\n",
    "## Notes\n",
    "***"
   ]
  },
  {
   "cell_type": "markdown",
   "metadata": {},
   "source": [
    "- python does not have variables only names to references (name and variable used interchangeably [[realpython](http://web.archive.org/web/20210331063048/https://realpython.com/pointers-in-python)]"
   ]
  },
  {
   "cell_type": "markdown",
   "metadata": {},
   "source": [
    "< [Table of Contents](#top) | [References](#references) >\n",
    "<a id=\"lecture-1\"></a>\n",
    "### Lecture 1\n",
    "***"
   ]
  },
  {
   "cell_type": "code",
   "execution_count": 1,
   "metadata": {},
   "outputs": [
    {
     "data": {
      "text/html": [
       "<style>.container { width:100% !important; }</style>"
      ],
      "text/plain": [
       "<IPython.core.display.HTML object>"
      ]
     },
     "metadata": {},
     "output_type": "display_data"
    }
   ],
   "source": [
    "from sys import path; path.insert(1,\"../src\")\n",
    "from fubar import fFile"
   ]
  },
  {
   "cell_type": "code",
   "execution_count": 2,
   "metadata": {},
   "outputs": [
    {
     "name": "stdout",
     "output_type": "stream",
     "text": [
      "# repository ./SeanOhAileasa\r\n",
      "def fFile(nParPath):\r\n",
      "    \"\"\"Start a file with its associated application.\r\n",
      "\r\n",
      "Input: nParPath\r\n",
      "Process: (os.path.realpath; os.startfile)\r\n",
      "Output: file opened with associated application\r\n",
      "\"\"\"\r\n",
      "    from os import path,startfile\r\n",
      "    return startfile(path.realpath(nParPath))\r\n",
      "# --- END ---\r\n"
     ]
    }
   ],
   "source": [
    "%%script bash\n",
    "grep -1 \"def fFile\" ../src/fubar.py -A 9"
   ]
  },
  {
   "cell_type": "code",
   "execution_count": 3,
   "metadata": {},
   "outputs": [],
   "source": [
    "# fFile(nParPath=\"./hide/recursiveAlgorithmsPart1JavaPython_12Feb2019.mp4\")"
   ]
  },
  {
   "cell_type": "code",
   "execution_count": 4,
   "metadata": {},
   "outputs": [],
   "source": [
    "exit()"
   ]
  },
  {
   "cell_type": "markdown",
   "metadata": {},
   "source": [
    "< [Table of Contents](#top) | [References](#references) >\n",
    "<a id=\"lecture-2\"></a>\n",
    "### Lecture 2\n",
    "***"
   ]
  },
  {
   "cell_type": "code",
   "execution_count": 1,
   "metadata": {},
   "outputs": [
    {
     "data": {
      "text/html": [
       "<style>.container { width:100% !important; }</style>"
      ],
      "text/plain": [
       "<IPython.core.display.HTML object>"
      ]
     },
     "metadata": {},
     "output_type": "display_data"
    }
   ],
   "source": [
    "from sys import path; path.insert(1,\"../src\")\n",
    "from fubar import fFile"
   ]
  },
  {
   "cell_type": "code",
   "execution_count": 2,
   "metadata": {},
   "outputs": [
    {
     "name": "stdout",
     "output_type": "stream",
     "text": [
      "# repository ./SeanOhAileasa\r\n",
      "def fFile(nParPath):\r\n",
      "    \"\"\"Start a file with its associated application.\r\n",
      "\r\n",
      "Input: nParPath\r\n",
      "Process: (os.path.realpath; os.startfile)\r\n",
      "Output: file opened with associated application\r\n",
      "\"\"\"\r\n",
      "    from os import path,startfile\r\n",
      "    return startfile(path.realpath(nParPath))\r\n",
      "# --- END ---\r\n"
     ]
    }
   ],
   "source": [
    "%%script bash\n",
    "grep -1 \"def fFile\" ../src/fubar.py -A 9"
   ]
  },
  {
   "cell_type": "code",
   "execution_count": 3,
   "metadata": {},
   "outputs": [],
   "source": [
    "# fFile(nParPath=\"./hide/recursiveAlgorithmsPart2Python_21Feb2019.mp4\")"
   ]
  },
  {
   "cell_type": "code",
   "execution_count": 4,
   "metadata": {},
   "outputs": [],
   "source": [
    "exit()"
   ]
  },
  {
   "cell_type": "markdown",
   "metadata": {},
   "source": [
    "***\n",
    "## END"
   ]
  },
  {
   "cell_type": "markdown",
   "metadata": {},
   "source": [
    "< [Table of Contents](#top) | [Introduction](#introduction) | [Solution](#solution) | [Conclusion](#conclusion) | [References](#references) >\n",
    "<a id=\"abstract\"></a>\n",
    "***\n",
    "## Abstract\n",
    "***"
   ]
  },
  {
   "cell_type": "markdown",
   "metadata": {},
   "source": [
    "- iteration is a process that allows some sequence of steps or some block of code to be executed repeatedly via ``for`` and/or ``while`` loops - it is very common that iterative approaches are used in algorithms [1]"
   ]
  },
  {
   "cell_type": "markdown",
   "metadata": {},
   "source": [
    "- recursion is a technique which may be applied to complete tasks which are repetitive in nature - consider how a procedure/function/method (hereafter called process) is normally called in a program - ``main`` calls ``alpha`` (note the arrow denotes the call) [1]"
   ]
  },
  {
   "cell_type": "markdown",
   "metadata": {},
   "source": [
    "![main-call-alpha](https://github.com/SeanOhAileasa/SeanOhAileasa/blob/master/rc/cta/recursion/abstract/main-call-alpha.png?raw=true)\n",
    "\n",
    "***(Image) P. Mannion, \"05 Recursive Algorithms Part 1 (Java +Python),\" GMIT, February 2019.***"
   ]
  },
  {
   "cell_type": "markdown",
   "metadata": {},
   "source": [
    "- recursion is a technique which may be applied to complete tasks which are repetitive in nature - a recursive process is one which calls itself within its body [1]"
   ]
  },
  {
   "cell_type": "markdown",
   "metadata": {},
   "source": [
    "- within ``beta`` there is another call to ``beta`` [1]"
   ]
  },
  {
   "cell_type": "markdown",
   "metadata": {},
   "source": [
    "![main-call-alpha](https://github.com/SeanOhAileasa/SeanOhAileasa/blob/master/rc/cta/recursion/abstract/beta.png?raw=true)\n",
    "\n",
    "***(Image) P. Mannion, \"05 Recursive Algorithms Part 1 (Java +Python),\" GMIT, February 2019.***"
   ]
  },
  {
   "cell_type": "markdown",
   "metadata": {},
   "source": [
    "- the technique of recursion allows the solving of a problem by breaking it up into smaller instances of the same problem and is a semantically powerful way to tackle a programming problem as there are many problems which are more concisely solved by using a recursive approach [1]"
   ]
  },
  {
   "cell_type": "markdown",
   "metadata": {},
   "source": [
    "- the file directory traversal problem is the operation of traversing through directories of a file system such as a c drive with a folder called program-files and within another folder called java and within yet another folder called java-development-kit and within yet another folder called binary (javac compiler stored within the binary folder [1]"
   ]
  },
  {
   "cell_type": "markdown",
   "metadata": {},
   "source": [
    " - to get from the root of the c drive and down through all the directories in turn and search for a specific file is a recursive problelm given movement through a directory and looking at everything in the directory (moving down the next step and so forth) - this problem is naturally recursive [1]"
   ]
  },
  {
   "cell_type": "markdown",
   "metadata": {},
   "source": [
    "- other operations include traversing through a tree of search results [1]"
   ]
  },
  {
   "cell_type": "markdown",
   "metadata": {},
   "source": [
    "- some sorting algorithms are recursive in nature such as the Merge Sort algorithm [1]"
   ]
  },
  {
   "cell_type": "markdown",
   "metadata": {},
   "source": [
    "- recursion is very useful for problems that can be broken down into smaller instances of the same problem - it often leads to cleaner and more concise code that leads to easier maintainability - it becomes easier to understand once the principles of recursion are understood and how it works [1]"
   ]
  },
  {
   "cell_type": "markdown",
   "metadata": {},
   "source": [
    "- recursive processes can quite succinctly do the work of an iterative approach with a lot less code in a lot cleaner manner [1]"
   ]
  },
  {
   "cell_type": "code",
   "execution_count": 1,
   "metadata": {},
   "outputs": [],
   "source": [
    "exit()"
   ]
  },
  {
   "cell_type": "markdown",
   "metadata": {},
   "source": [
    "<!-- print(fGetModuleType(___x___),fDocumentation(___x___)) -->\n",
    "***\n",
    "## END"
   ]
  },
  {
   "cell_type": "markdown",
   "metadata": {},
   "source": [
    "< [Table of Contents](#top) | [Abstract](#abstract) | [Solution](#solution) | [Conclusion](#conclusion) | [References](#references) >\n",
    "<a id=\"introduction\"></a>\n",
    "***\n",
    "## Introduction\n",
    "***"
   ]
  },
  {
   "cell_type": "markdown",
   "metadata": {},
   "source": [
    "- ``fCount`` passing the value zero ``nParIndex=0`` [1]"
   ]
  },
  {
   "cell_type": "markdown",
   "metadata": {},
   "source": [
    "- conditional statement checks if ``nParIndex<2`` then call ``fCount`` again passing in the value ``nParIndex+1`` [1]"
   ]
  },
  {
   "cell_type": "markdown",
   "metadata": {},
   "source": [
    "- the step where the recursion occurs is when ``fCount`` calls itself within its own body ``fCount(nParIndex+1)`` [1]"
   ]
  },
  {
   "cell_type": "code",
   "execution_count": 1,
   "metadata": {},
   "outputs": [
    {
     "name": "stdout",
     "output_type": "stream",
     "text": [
      "# repository ./cta-recursion\r\n",
      "def fCount(nParIndex):\r\n",
      "    \"\"\"Recursive process.\r\n",
      "\r\n",
      "Input: nParIndex\r\n",
      "Process: print Input; if Input<2 then call fCount passing Input+1\r\n",
      "Output: sequence 0, 1, 2\r\n",
      "\"\"\"\r\n",
      "    print(nParIndex)\r\n",
      "    if nParIndex<2:\r\n",
      "        fCount(nParIndex+1)\r\n",
      "# -- END ---\r\n"
     ]
    }
   ],
   "source": [
    "%%script bash\n",
    "grep -1 \"def fCount\" ../src/fubar.py -A 10"
   ]
  },
  {
   "cell_type": "code",
   "execution_count": 2,
   "metadata": {},
   "outputs": [
    {
     "data": {
      "text/html": [
       "<style>.container { width:100% !important; }</style>"
      ],
      "text/plain": [
       "<IPython.core.display.HTML object>"
      ]
     },
     "metadata": {},
     "output_type": "display_data"
    }
   ],
   "source": [
    "from sys import path; path.insert(1,\"../src\")\n",
    "from fubar import fCount"
   ]
  },
  {
   "cell_type": "markdown",
   "metadata": {},
   "source": [
    "- ``main`` calls ``fCount(0)`` [1]\n",
    "\n",
    "```python\n",
    "fCount(0)\n",
    "```"
   ]
  },
  {
   "cell_type": "markdown",
   "metadata": {},
   "source": [
    "- current value of ``nParIndex`` is printed [1]\n",
    "\n",
    "```python\n",
    "print(nParIndex) # 0\n",
    "```"
   ]
  },
  {
   "cell_type": "markdown",
   "metadata": {},
   "source": [
    "- if ``nParIndex<2`` then at this point another copy of ``fCount`` is activated and the value ``1`` is passed in the next call [1] \n",
    "\n",
    "```python\n",
    "if nParIndex<2:\n",
    "    fCount(nParIndex+1) # nParIndex==1\n",
    "```"
   ]
  },
  {
   "cell_type": "markdown",
   "metadata": {},
   "source": [
    "- ``1st recursive call`` the current value of ``nParIndex`` is printed [1]\n",
    "\n",
    "```python\n",
    "print(nParIndex) # 1\n",
    "```"
   ]
  },
  {
   "cell_type": "markdown",
   "metadata": {},
   "source": [
    "- if ``nParIndex<2`` then at this point another copy of ``fCount`` is activated and the value ``2`` is passed in the next call [1] \n",
    "\n",
    "```python\n",
    "if nParIndex<2:\n",
    "    fCount(nParIndex+1) # nParIndex==2\n",
    "```"
   ]
  },
  {
   "cell_type": "markdown",
   "metadata": {},
   "source": [
    "- ``2nd recursive call`` the current value of ``nParIndex`` is printed [1]\n",
    "\n",
    "```python\n",
    "print(nParIndex) # 2\n",
    "```"
   ]
  },
  {
   "cell_type": "markdown",
   "metadata": {},
   "source": [
    "- conditional statement ``nParIndex<2`` returns ``False`` therefore does not reach the end of the ``2nd recursive call`` of ``fCount`` [1]\n",
    "\n",
    "\n",
    "- returning control to the previous instance of ``fCount`` (via ``1st recursive call``) and then that will return control to the first instance of the ``fCount`` (via ``main``) [1]"
   ]
  },
  {
   "cell_type": "markdown",
   "metadata": {},
   "source": [
    "- sequence ``0, 1, 2`` is complete [1]"
   ]
  },
  {
   "cell_type": "code",
   "execution_count": 3,
   "metadata": {},
   "outputs": [
    {
     "name": "stdout",
     "output_type": "stream",
     "text": [
      "namespace = __main__\n"
     ]
    }
   ],
   "source": [
    "print(f\"namespace = {__name__}\")"
   ]
  },
  {
   "cell_type": "code",
   "execution_count": 4,
   "metadata": {},
   "outputs": [
    {
     "name": "stdout",
     "output_type": "stream",
     "text": [
      "0\n",
      "1\n",
      "2\n"
     ]
    }
   ],
   "source": [
    "fCount(0)"
   ]
  },
  {
   "cell_type": "code",
   "execution_count": 5,
   "metadata": {},
   "outputs": [],
   "source": [
    "exit()"
   ]
  },
  {
   "cell_type": "markdown",
   "metadata": {},
   "source": [
    "< [Table of Contents](#top) | [References](#references) >\n",
    "<a id=\"Trace\"></a>\n",
    "### Trace\n",
    "***"
   ]
  },
  {
   "cell_type": "markdown",
   "metadata": {},
   "source": [
    "- visualising calls to a recursive process via a recursion trace is a way of tracing the call from the caller all the way down through the nested levels of recursion and then all the way back to the caller again (convention: black arrow will represent a call / green arrow will represent a return with the value returned printed beside the green arrow) [1]"
   ]
  },
  {
   "cell_type": "markdown",
   "metadata": {},
   "source": [
    "![main-call-alpha](https://github.com/SeanOhAileasa/SeanOhAileasa/blob/master/rc/cta/recursion/stack/04-1-03.png?raw=true)\n",
    "\n",
    "***(Image) P. Mannion, \"05 Recursive Algorithms Part 1 (Java +Python),\" GMIT, February 2019.***"
   ]
  },
  {
   "cell_type": "code",
   "execution_count": 1,
   "metadata": {},
   "outputs": [],
   "source": [
    "exit()"
   ]
  },
  {
   "cell_type": "markdown",
   "metadata": {},
   "source": [
    "< [Table of Contents](#top) | [References](#references) >\n",
    "<a id=\"Types\"></a>\n",
    "### Types\n",
    "***"
   ]
  },
  {
   "cell_type": "markdown",
   "metadata": {},
   "source": [
    "&#x1F6A7;"
   ]
  },
  {
   "cell_type": "code",
   "execution_count": 1,
   "metadata": {},
   "outputs": [],
   "source": [
    "exit()"
   ]
  },
  {
   "cell_type": "markdown",
   "metadata": {},
   "source": [
    "< [Table of Contents](#top) | [References](#references) >\n",
    "<a id=\"Linear\"></a>\n",
    "###### Linear\n",
    "***"
   ]
  },
  {
   "cell_type": "markdown",
   "metadata": {},
   "source": [
    "- most simple type [1]"
   ]
  },
  {
   "cell_type": "markdown",
   "metadata": {},
   "source": [
    "- the number of activation frames (records - number of calls in the recursion) grows in a linear manner [1]"
   ]
  },
  {
   "cell_type": "markdown",
   "metadata": {},
   "source": [
    "- a process that is linearly recursive makes a single call to itself [1]"
   ]
  },
  {
   "cell_type": "code",
   "execution_count": 1,
   "metadata": {},
   "outputs": [],
   "source": [
    "exit()"
   ]
  },
  {
   "cell_type": "markdown",
   "metadata": {},
   "source": [
    "< [Table of Contents](#top) | [References](#references) >\n",
    "<a id=\"Tail\"></a>\n",
    "###### Tail\n",
    "***"
   ]
  },
  {
   "cell_type": "markdown",
   "metadata": {},
   "source": [
    "- a specific type of linear recursion [1]"
   ]
  },
  {
   "cell_type": "markdown",
   "metadata": {},
   "source": [
    "- single call to itself and is the very last operation in the process [1]"
   ]
  },
  {
   "cell_type": "markdown",
   "metadata": {},
   "source": [
    "- every time a process is invoked its activation frame (record) will be placed on top of the program stack - this is something to avoid given multiple active stack frames are unnecessary even thought the process has finished its work [1]"
   ]
  },
  {
   "cell_type": "markdown",
   "metadata": {},
   "source": [
    "- appropriate to use sometimes but can be expensive and inefficient because all these activation frames (records) are still taking up space on the stack even though the process has completed its work (task) right at the end of its body [1]"
   ]
  },
  {
   "cell_type": "markdown",
   "metadata": {},
   "source": [
    "- should really use tail recursion sparingly and carefully [1]"
   ]
  },
  {
   "cell_type": "markdown",
   "metadata": {},
   "source": [
    "- ``fCount`` is an example of linear recursion and also tail recursion because the very last operation within the its body is a recursive call to itself [1]"
   ]
  },
  {
   "cell_type": "code",
   "execution_count": 1,
   "metadata": {},
   "outputs": [],
   "source": [
    "exit()"
   ]
  },
  {
   "cell_type": "markdown",
   "metadata": {},
   "source": [
    "< [Table of Contents](#top) | [References](#references) >\n",
    "<a id=\"Binary\"></a>\n",
    "###### Binary\n",
    "***"
   ]
  },
  {
   "cell_type": "markdown",
   "metadata": {},
   "source": [
    "- binary (opposed to linear recursion) is a recursive process making two calls to itself within its body [1]"
   ]
  },
  {
   "cell_type": "markdown",
   "metadata": {},
   "source": [
    "- obviously leads to a much larger growth rate getting to different nested levels of recursion when compared to an implementation that only uses linear recursion [1]"
   ]
  },
  {
   "cell_type": "code",
   "execution_count": 1,
   "metadata": {},
   "outputs": [],
   "source": [
    "exit()"
   ]
  },
  {
   "cell_type": "markdown",
   "metadata": {},
   "source": [
    "< [Table of Contents](#top) | [References](#references) >\n",
    "<a id=\"Exponential\"></a>\n",
    "###### Exponential\n",
    "***"
   ]
  },
  {
   "cell_type": "markdown",
   "metadata": {},
   "source": [
    "- process that makes more than two recursive calls within its body [1] "
   ]
  },
  {
   "cell_type": "markdown",
   "metadata": {},
   "source": [
    "- want to try to avoid binary/exponential recursion as much as possible given that just a few nested levels of recursion will end up with exponential growth in the number of process activation frames (becomes inefficient) [1] "
   ]
  },
  {
   "cell_type": "code",
   "execution_count": 1,
   "metadata": {},
   "outputs": [],
   "source": [
    "exit()"
   ]
  },
  {
   "cell_type": "markdown",
   "metadata": {},
   "source": [
    "< [Table of Contents](#top) | [References](#references) >\n",
    "<a id=\"Error\"></a>\n",
    "### Error\n",
    "***"
   ]
  },
  {
   "cell_type": "markdown",
   "metadata": {},
   "source": [
    "- some common problems (errors) which crop up when designing/implementing recursive implementations (algorithms) include: i) infinite and; circular [1]"
   ]
  },
  {
   "cell_type": "code",
   "execution_count": 1,
   "metadata": {},
   "outputs": [],
   "source": [
    "exit()"
   ]
  },
  {
   "cell_type": "markdown",
   "metadata": {},
   "source": [
    "< [Table of Contents](#top) | [References](#references) >\n",
    "<a id=\"Infinite\"></a>\n",
    "###### Infinite\n",
    "***"
   ]
  },
  {
   "cell_type": "markdown",
   "metadata": {},
   "source": [
    "- recursive process that does not have a base case [1]"
   ]
  },
  {
   "cell_type": "code",
   "execution_count": 1,
   "metadata": {},
   "outputs": [
    {
     "name": "stdout",
     "output_type": "stream",
     "text": [
      "# repository ./fubar-python\r\n",
      "def fInfinite(nParInteger):\r\n",
      "    \"\"\"Recursive process without a base case.\r\n",
      "\r\n",
      "Input: nParInteger\r\n",
      "Process: Input-1\r\n",
      "Output: never stops making recursive calls regardless of Input\r\n",
      "\"\"\"\r\n",
      "    fInfinite(nParInteger-1)\r\n",
      "# -- END ---\r\n"
     ]
    }
   ],
   "source": [
    "%%script bash\n",
    "grep -1 \"def fInfinite\" ../src/fubar.py -A 8"
   ]
  },
  {
   "cell_type": "markdown",
   "metadata": {},
   "source": [
    "- ``fInfinite`` passing ``n`` and within its body calling ``fInfinite`` with parameter ``nParInteger-1`` [1]"
   ]
  },
  {
   "cell_type": "code",
   "execution_count": 2,
   "metadata": {},
   "outputs": [],
   "source": [
    "n=1"
   ]
  },
  {
   "cell_type": "markdown",
   "metadata": {},
   "source": [
    "- next call ``infinite(0)`` and next call ``infinite(-1)`` and so on such that the process would never stop making recursive calls [1]"
   ]
  },
  {
   "cell_type": "code",
   "execution_count": 3,
   "metadata": {},
   "outputs": [],
   "source": [
    "from sys import path; path.insert(1,\"../src\")"
   ]
  },
  {
   "cell_type": "code",
   "execution_count": 4,
   "metadata": {},
   "outputs": [
    {
     "data": {
      "text/html": [
       "<style>.container { width:100% !important; }</style>"
      ],
      "text/plain": [
       "<IPython.core.display.HTML object>"
      ]
     },
     "metadata": {},
     "output_type": "display_data"
    }
   ],
   "source": [
    "from fubar import fInfinite"
   ]
  },
  {
   "cell_type": "markdown",
   "metadata": {},
   "source": [
    "- the value of the input parameter does not matter - ``fInfinite`` will keep making recursive calls to itself [1]"
   ]
  },
  {
   "cell_type": "markdown",
   "metadata": {},
   "source": [
    "- implementing an iterative design paradigm and not having conditions set up in the right way such as a ``while`` loop with a condition that never becomes ``False`` therefore never exits is an infinite loop [1]"
   ]
  },
  {
   "cell_type": "markdown",
   "metadata": {},
   "source": [
    "- implementing a recursive design paradigm and experiencing infinite recursion is similar in a way but a little more informative (noticeable) when it goes wrong than experiencing an infinite loop [1]"
   ]
  },
  {
   "cell_type": "markdown",
   "metadata": {},
   "source": [
    "- in terms of the activation frames (records) of recursive calls being kept on the stack an implementation in java will experience a ``StackOverflowError`` eventually and how long this takes to reach would depend on how much memory is available to the Java Virtual Machine and by extension how much memory is available on the computer but in a nutshell that process would keep making recursive calls to itself and would keep adding activation frames (records) to the stack until the  ``StackOverflowError`` occurs (recursive calls having taken up all the available memory in the JVM) [1]"
   ]
  },
  {
   "cell_type": "code",
   "execution_count": 5,
   "metadata": {},
   "outputs": [],
   "source": [
    "from sys import getrecursionlimit"
   ]
  },
  {
   "cell_type": "code",
   "execution_count": 6,
   "metadata": {},
   "outputs": [
    {
     "name": "stdout",
     "output_type": "stream",
     "text": [
      "maximum recursion depth (3000) exceeded\n"
     ]
    }
   ],
   "source": [
    "try:\n",
    "    fInfinite(n)\n",
    "except RecursionError:\n",
    "    print(\"maximum recursion depth ({}) exceeded\".format(getrecursionlimit()))"
   ]
  },
  {
   "cell_type": "markdown",
   "metadata": {},
   "source": [
    "- to protect against this need a base case [1]"
   ]
  },
  {
   "cell_type": "markdown",
   "metadata": {},
   "source": [
    "- a base case very simply is a case or input parameters for the recursive process which can be solved without recursion [1]"
   ]
  },
  {
   "cell_type": "markdown",
   "metadata": {},
   "source": [
    "- ``fCount`` increments the value of the input value ``nParIndex`` then the next call would call ``nParIndex+1`` and so on - a condition ``if nParIndex<2`` such that when ``nParIndex=2`` or greater then ``2`` is the base case for that particular algorithm is needed [1]"
   ]
  },
  {
   "cell_type": "code",
   "execution_count": 7,
   "metadata": {},
   "outputs": [],
   "source": [
    "exit()"
   ]
  },
  {
   "cell_type": "markdown",
   "metadata": {},
   "source": [
    "< [Table of Contents](#top) | [References](#references) >\n",
    "<a id=\"Circular\"></a>\n",
    "###### Circular\n",
    "***"
   ]
  },
  {
   "cell_type": "markdown",
   "metadata": {},
   "source": [
    "- specific form of infinite recursion whereby recursive calls stop making progress towards the base case or not make progress towards a case which can actually be solved without recursion [1]"
   ]
  },
  {
   "cell_type": "code",
   "execution_count": 1,
   "metadata": {},
   "outputs": [
    {
     "name": "stdout",
     "output_type": "stream",
     "text": [
      "# repository ./cta-recursion\r\n",
      "def fCircular(nParInteger):\r\n",
      "    \"\"\"Recursive process not making progress toward a base case.\r\n",
      "\r\n",
      "Input: nParInteger\r\n",
      "Process: if Input==1 then call fCircular passing Input+1;\r\n",
      "    otherwise make call to fCircular passing Input-1\r\n",
      "Output: keeps going back and forth when Input==1\r\n",
      "\"\"\"\r\n",
      "    if nParInteger==1:\r\n",
      "        fCircular(nParInteger+1)\r\n",
      "    fCircular(nParInteger-1)\r\n",
      "# -- END ---\r\n"
     ]
    }
   ],
   "source": [
    "%%script bash\n",
    "grep -1 \"def fCircular\" ../src/fubar.py -A 11"
   ]
  },
  {
   "cell_type": "markdown",
   "metadata": {},
   "source": [
    "- ``fCircular`` passing ``n`` and within its body calling ``fCircular`` with parameter ``nParInteger+1`` if ``nParInteger==1`` otherwise calling ``fCircular`` with parameter ``nParInteger-1`` [1]"
   ]
  },
  {
   "cell_type": "code",
   "execution_count": 2,
   "metadata": {},
   "outputs": [],
   "source": [
    "n=1"
   ]
  },
  {
   "cell_type": "code",
   "execution_count": 3,
   "metadata": {},
   "outputs": [],
   "source": [
    "from sys import path; path.insert(1,\"../src/\")"
   ]
  },
  {
   "cell_type": "code",
   "execution_count": 4,
   "metadata": {},
   "outputs": [
    {
     "data": {
      "text/html": [
       "<style>.container { width:100% !important; }</style>"
      ],
      "text/plain": [
       "<IPython.core.display.HTML object>"
      ]
     },
     "metadata": {},
     "output_type": "display_data"
    }
   ],
   "source": [
    "from fubar import fCircular"
   ]
  },
  {
   "cell_type": "markdown",
   "metadata": {},
   "source": [
    "- next call ``fCircular(2)`` and next call ``fCircular(1)`` and so on such that the process would keep going back and forth [1]"
   ]
  },
  {
   "cell_type": "markdown",
   "metadata": {},
   "source": [
    "- similar to ``fInfinite`` the process would keep making recursive calls to itself until the memory available ran out or until a ``StackOverflowError`` occurs because multiple activation frames (records) are added [1]"
   ]
  },
  {
   "cell_type": "markdown",
   "metadata": {},
   "source": [
    "- a new activation frame (record) is added with every recursive call but none of the actual recursive calls would ever return (taking up all available memory) [1]"
   ]
  },
  {
   "cell_type": "code",
   "execution_count": 5,
   "metadata": {},
   "outputs": [
    {
     "name": "stdout",
     "output_type": "stream",
     "text": [
      "maximum recursion depth exceeded in comparison\n"
     ]
    }
   ],
   "source": [
    "try:\n",
    "    fCircular(n)\n",
    "except RecursionError:\n",
    "    print(\"maximum recursion depth exceeded in comparison\")"
   ]
  },
  {
   "cell_type": "markdown",
   "metadata": {},
   "source": [
    "- like infinite/circular recursion is something to watch out for when designing and implementing recursive algorithms [1]"
   ]
  },
  {
   "cell_type": "code",
   "execution_count": 6,
   "metadata": {},
   "outputs": [],
   "source": [
    "exit()"
   ]
  },
  {
   "cell_type": "markdown",
   "metadata": {},
   "source": [
    "< [Table of Contents](#top) | [References](#references) >\n",
    "<a id=\"Rules\"></a>\n",
    "### Rules\n",
    "***"
   ]
  },
  {
   "cell_type": "markdown",
   "metadata": {},
   "source": [
    "- basic rules to consider when were implementing recursive algorithms [1]"
   ]
  },
  {
   "cell_type": "code",
   "execution_count": 1,
   "metadata": {},
   "outputs": [],
   "source": [
    "exit()"
   ]
  },
  {
   "cell_type": "markdown",
   "metadata": {},
   "source": [
    "< [Table of Contents](#top) | [References](#references) >\n",
    "<a id=\"Base-Case\"></a>\n",
    "###### Base Case\n",
    "***"
   ]
  },
  {
   "cell_type": "markdown",
   "metadata": {},
   "source": [
    "- a recursive algorithm must always have a base case which can be solved without recursion [1]"
   ]
  },
  {
   "cell_type": "markdown",
   "metadata": {},
   "source": [
    "- ``fCount`` base case is if the value passed to ``fCount`` reaches ``2`` (could be solved without recursion) [1] "
   ]
  },
  {
   "cell_type": "markdown",
   "metadata": {},
   "source": [
    "- so any call to ``fCount`` with a value of ``2`` or above can be solved without recursion meaning the process has a base case [1]"
   ]
  },
  {
   "cell_type": "markdown",
   "metadata": {},
   "source": [
    "- a process without a base case would result in [infinite](#Infinite) recursion when run [1]"
   ]
  },
  {
   "cell_type": "markdown",
   "metadata": {},
   "source": [
    "- eventually the program stack will become full of activation frames for the recursive process as each call will never complete and will make a call to another nested recursive call [2]"
   ]
  },
  {
   "cell_type": "markdown",
   "metadata": {},
   "source": [
    "- important to consider a base case or a simple instance of the problem which can be solved without recursion [1]"
   ]
  },
  {
   "cell_type": "code",
   "execution_count": 1,
   "metadata": {},
   "outputs": [],
   "source": [
    "exit()"
   ]
  },
  {
   "cell_type": "markdown",
   "metadata": {},
   "source": [
    "< [Table of Contents](#top) | [References](#references) >\n",
    "<a id=\"Make-Progress\"></a>\n",
    "###### Make Progress\n",
    "***"
   ]
  },
  {
   "cell_type": "markdown",
   "metadata": {},
   "source": [
    "- every recursive call must make progress towards the base case or base cases (could have more than one base case) [1]"
   ]
  },
  {
   "cell_type": "markdown",
   "metadata": {},
   "source": [
    "- must make progress towards the base case in each recursive call so for cases that are to be solved recursively the next call must be a case that makes progress towards that base case [1]"
   ]
  },
  {
   "cell_type": "markdown",
   "metadata": {},
   "source": [
    "- processes that do not follow this rule (do not make progress towards the base case) will result in [circular](#Circular) recursion when run (specific instance of the infinite recursion problem) [1][2]"
   ]
  },
  {
   "cell_type": "markdown",
   "metadata": {},
   "source": [
    "- program stack becomes full of activation frames for the recursive process which is undergoing circular recursion and eventually will run out of memory (``StackOverflowError`` in java) [2] "
   ]
  },
  {
   "cell_type": "code",
   "execution_count": 1,
   "metadata": {},
   "outputs": [],
   "source": [
    "exit()"
   ]
  },
  {
   "cell_type": "markdown",
   "metadata": {},
   "source": [
    "< [Table of Contents](#top) | [References](#references) >\n",
    "<a id=\"Design-Rule\"></a>\n",
    "###### Design Rule\n",
    "***"
   ]
  },
  {
   "cell_type": "markdown",
   "metadata": {},
   "source": [
    "- assume any recursive call made will follow the previous two rules: i) making progress towards the base case and; ii) will reach that base case eventually [1]"
   ]
  },
  {
   "cell_type": "markdown",
   "metadata": {},
   "source": [
    "- all the nested levels of recursion (any level) will return one by one and work as expected [1] - must assume that all the recursive calls work (complete assigned task and manage to return the control back to the current level of recursion) [2]"
   ]
  },
  {
   "cell_type": "code",
   "execution_count": 1,
   "metadata": {},
   "outputs": [],
   "source": [
    "exit()"
   ]
  },
  {
   "cell_type": "markdown",
   "metadata": {},
   "source": [
    "< [Table of Contents](#top) | [References](#references) >\n",
    "<a id=\"Compound-Interest-Rule\"></a>\n",
    "###### Compound Interest Rule\n",
    "***"
   ]
  },
  {
   "cell_type": "markdown",
   "metadata": {},
   "source": [
    "- relates to efficiency (efficient use of computational resources) [1]"
   ]
  },
  {
   "cell_type": "markdown",
   "metadata": {},
   "source": [
    "- never duplicate work by solving the same instance of a problem in separate recursive calls [1]"
   ]
  },
  {
   "cell_type": "markdown",
   "metadata": {},
   "source": [
    "- should structure the recursive algorithm in such a way as to not repeat the same work or the same call over and over again in separate recursive instances (not a good use of computation resources) [1]"
   ]
  },
  {
   "cell_type": "markdown",
   "metadata": {},
   "source": [
    "- if duplicating a lot of the same types of calls or the same problem instances then in that case should probably look at an iterative approach (iterative implementation) instead of using recursion [1]"
   ]
  },
  {
   "cell_type": "markdown",
   "metadata": {},
   "source": [
    "- should never duplicate work by solving the same instance of a problem in separate recursive calls - duplicating the same work or the same task very often with recursive calls then that would be a clue that maybe should consider an iterative implementation rather than a recursive implementation given that in these cases an iterative implementation would be more efficient [2]"
   ]
  },
  {
   "cell_type": "code",
   "execution_count": 1,
   "metadata": {},
   "outputs": [],
   "source": [
    "exit()"
   ]
  },
  {
   "cell_type": "markdown",
   "metadata": {},
   "source": [
    "< [Table of Contents](#top) | [References](#references) >\n",
    "<a id=\"Design\"></a>\n",
    "### Design\n",
    "***"
   ]
  },
  {
   "cell_type": "markdown",
   "metadata": {},
   "source": [
    "- most fundamental step is to just think about the task to be accomplished and try to identify any recurring patterns or any patterns that will be seen again [1]"
   ]
  },
  {
   "cell_type": "markdown",
   "metadata": {},
   "source": [
    "- looking out for similar operations that must be conducted - the traversing through nested directories on a file system problem naturally lends itself to recursion (recursive solution) [1]"
   ]
  },
  {
   "cell_type": "markdown",
   "metadata": {},
   "source": [
    "- process of looking through every file in the directory searching for a file and then going into the directory below it is a fundamentally recursive process - dividing up the problem using these recurring operations so the idea of maybe looking at every file in a folder and then moving on to the next folder below would be the most fundamental recurring operation that happens when traversing through directories in a file system [1]"
   ]
  },
  {
   "cell_type": "markdown",
   "metadata": {},
   "source": [
    "- ⚡ single base case or could have multiple base cases - the traversing through directories on a file system problem base case would be the deepest nested directory on the file system because no more recursive calls would happen below that or nested deeper within - once the problem is divided up need to identify those cases which could be solved without recursion - so a well designed recursive algorithm would not end in a multitude of special cases rather the goal is to identify just one simple base case or a few very simple base cases that could be solved without recursion preventing infinite recursion [1]"
   ]
  },
  {
   "cell_type": "markdown",
   "metadata": {},
   "source": [
    "- ⚡ need to design the algorithm in such a way that will invoke a new copy of the process with each recursive step and will modify the input parameters [1]"
   ]
  },
  {
   "cell_type": "markdown",
   "metadata": {},
   "source": [
    "- ⚡ each recursive call would have different initialisation conditions (different input) and each recursive step will resemble the original larger problem [1]"
   ]
  },
  {
   "cell_type": "markdown",
   "metadata": {},
   "source": [
    "- ⚡ finally with each recursive step (recursive call) want to ensure its making progress towards the base case (base cases) with each successive call [1]"
   ]
  },
  {
   "cell_type": "code",
   "execution_count": 1,
   "metadata": {},
   "outputs": [],
   "source": [
    "exit()"
   ]
  },
  {
   "cell_type": "markdown",
   "metadata": {},
   "source": [
    "<!-- print(fGetModuleType(___x___),fDocumentation(___x___)) -->\n",
    "***\n",
    "## END"
   ]
  },
  {
   "cell_type": "markdown",
   "metadata": {},
   "source": [
    "< [Table of Contents](#top) | [Abstract](#abstract) | [Introduction](#introduction) | [Conclusion](#conclusion) | [References](#references) >\n",
    "<a id=\"solution\"></a>\n",
    "***\n",
    "## Solution\n",
    "***"
   ]
  },
  {
   "cell_type": "markdown",
   "metadata": {},
   "source": [
    "< [Table of Contents](#top) | [References](#references) >\n",
    "<a id=\"Stack\"></a>\n",
    "### Stack\n",
    "***"
   ]
  },
  {
   "cell_type": "markdown",
   "metadata": {},
   "source": [
    "- program stack operates like a container of trays in a cafeteria: i) add a tray on the top and/or; ii) remove a tray off the top [1]"
   ]
  },
  {
   "cell_type": "markdown",
   "metadata": {},
   "source": [
    "- stack operations: i) ``push`` pushes something onto the stack (always placed on the top of the stack) and ii)``pop`` pops something off the top of the stack (last item added to the top will be popped off when pop is called) [1]"
   ]
  },
  {
   "cell_type": "markdown",
   "metadata": {},
   "source": [
    "- each time a process is invoked (``push``) its activation frame (record) is placed on top of the stack - the activation frame is just a record of: i) the process called; ii) parameters passed and; iii) its flow of control it is in [1]"
   ]
  },
  {
   "cell_type": "markdown",
   "metadata": {},
   "source": [
    "- when a process returns/exits (``pop``) its activation frame (record) is taken off the stack [1]"
   ]
  },
  {
   "cell_type": "markdown",
   "metadata": {},
   "source": [
    "- the stack is way to visualise which process activation frames (records) are active at any one time [1]"
   ]
  },
  {
   "cell_type": "code",
   "execution_count": 1,
   "metadata": {},
   "outputs": [],
   "source": [
    "nProcess=None"
   ]
  },
  {
   "cell_type": "code",
   "execution_count": 2,
   "metadata": {},
   "outputs": [
    {
     "data": {
      "text/plain": [
       "'<PROCESS> <invoke> None'"
      ]
     },
     "execution_count": 2,
     "metadata": {},
     "output_type": "execute_result"
    }
   ],
   "source": [
    "\"<PROCESS> <invoke> {}\".format(nProcess)"
   ]
  },
  {
   "cell_type": "code",
   "execution_count": 3,
   "metadata": {},
   "outputs": [],
   "source": [
    "nRecord=[]; nRecord.append(\"Empty Stack\"); nTime=0"
   ]
  },
  {
   "cell_type": "code",
   "execution_count": 4,
   "metadata": {},
   "outputs": [
    {
     "data": {
      "text/plain": [
       "'<STACK> <activation frame(s)> Empty Stack <time/active> 0'"
      ]
     },
     "execution_count": 4,
     "metadata": {},
     "output_type": "execute_result"
    }
   ],
   "source": [
    "\"<STACK> <activation frame(s)> {} <time/active> {}\".format(nRecord[0],nTime)"
   ]
  },
  {
   "cell_type": "markdown",
   "metadata": {},
   "source": [
    "![main-call-alpha](https://github.com/SeanOhAileasa/SeanOhAileasa/blob/master/rc/cta/recursion/stack/04-1-04.png?raw=true)\n",
    "\n",
    "***(Image) P. Mannion, \"05 Recursive Algorithms Part 1 (Java +Python),\" GMIT, February 2019.***"
   ]
  },
  {
   "cell_type": "code",
   "execution_count": 5,
   "metadata": {},
   "outputs": [],
   "source": [
    "nRecord=[]; nProcess=__name__"
   ]
  },
  {
   "cell_type": "code",
   "execution_count": 6,
   "metadata": {},
   "outputs": [
    {
     "data": {
      "text/plain": [
       "'<PROCESS> <invoke> __main__'"
      ]
     },
     "execution_count": 6,
     "metadata": {},
     "output_type": "execute_result"
    }
   ],
   "source": [
    "\"<PROCESS> <invoke> {}\".format(nProcess)"
   ]
  },
  {
   "cell_type": "code",
   "execution_count": 7,
   "metadata": {},
   "outputs": [],
   "source": [
    "nRecord.append(nProcess); nTime+=1"
   ]
  },
  {
   "cell_type": "code",
   "execution_count": 8,
   "metadata": {},
   "outputs": [
    {
     "data": {
      "text/plain": [
       "'<STACK> <push> __main__ <activation frame(s)> __main__ <time/active> 1'"
      ]
     },
     "execution_count": 8,
     "metadata": {},
     "output_type": "execute_result"
    }
   ],
   "source": [
    "\"<STACK> <push> {} <activation frame(s)> {} <time/active> {}\".format(nProcess,nRecord[0],nTime)"
   ]
  },
  {
   "cell_type": "markdown",
   "metadata": {},
   "source": [
    "![main-call-alpha](https://github.com/SeanOhAileasa/SeanOhAileasa/blob/master/rc/cta/recursion/stack/04-1-05.png?raw=true)\n",
    "\n",
    "***(Image) P. Mannion, \"05 Recursive Algorithms Part 1 (Java +Python),\" GMIT, February 2019.***"
   ]
  },
  {
   "cell_type": "code",
   "execution_count": 9,
   "metadata": {},
   "outputs": [
    {
     "name": "stdout",
     "output_type": "stream",
     "text": [
      "# repository ./cta-recursion\r\n",
      "def fCount(nParIndex):\r\n",
      "    \"\"\"Recursive process.\r\n",
      "\r\n",
      "Input: nParIndex\r\n",
      "Process: print Input; if Input<2 then call fCount passing Input+1\r\n",
      "Output: sequence 0, 1, 2\r\n",
      "\"\"\"\r\n",
      "    print(nParIndex)\r\n",
      "    if nParIndex<2:\r\n",
      "        fCount(nParIndex+1)\r\n",
      "# -- END ---\r\n"
     ]
    }
   ],
   "source": [
    "%%script bash\n",
    "grep -1 \"def fCount\" ../src/fubar.py -A 10"
   ]
  },
  {
   "cell_type": "code",
   "execution_count": 10,
   "metadata": {},
   "outputs": [],
   "source": [
    "from sys import path; path.insert(1,\"../src\")"
   ]
  },
  {
   "cell_type": "code",
   "execution_count": 11,
   "metadata": {},
   "outputs": [
    {
     "data": {
      "text/html": [
       "<style>.container { width:100% !important; }</style>"
      ],
      "text/plain": [
       "<IPython.core.display.HTML object>"
      ]
     },
     "metadata": {},
     "output_type": "display_data"
    }
   ],
   "source": [
    "from fubar import fCount"
   ]
  },
  {
   "cell_type": "code",
   "execution_count": 12,
   "metadata": {},
   "outputs": [],
   "source": [
    "nArgument=0; nParameter=nArgument; nProcess=fCount.__name__+\"(\"+str(nParameter)+\")\""
   ]
  },
  {
   "cell_type": "code",
   "execution_count": 13,
   "metadata": {},
   "outputs": [
    {
     "data": {
      "text/plain": [
       "'__main__ <PROCESS> <invoke> fCount(0)'"
      ]
     },
     "execution_count": 13,
     "metadata": {},
     "output_type": "execute_result"
    }
   ],
   "source": [
    "\"{} <PROCESS> <invoke> {}\".format(__name__,nProcess)"
   ]
  },
  {
   "cell_type": "code",
   "execution_count": 14,
   "metadata": {},
   "outputs": [],
   "source": [
    "nRecord.append(nProcess); nTime+=1"
   ]
  },
  {
   "cell_type": "code",
   "execution_count": 15,
   "metadata": {},
   "outputs": [
    {
     "data": {
      "text/plain": [
       "\"<STACK> <push> fCount(0) <activation frame(s)> ['__main__', 'fCount(0)'] <time/active> 2\""
      ]
     },
     "execution_count": 15,
     "metadata": {},
     "output_type": "execute_result"
    }
   ],
   "source": [
    "\"<STACK> <push> {} <activation frame(s)> {} <time/active> {}\".format(nProcess,nRecord,nTime)"
   ]
  },
  {
   "cell_type": "markdown",
   "metadata": {},
   "source": [
    "![main-call-alpha](https://github.com/SeanOhAileasa/SeanOhAileasa/blob/master/rc/cta/recursion/stack/04-1-06.png?raw=true)\n",
    "\n",
    "***(Image) P. Mannion, \"05 Recursive Algorithms Part 1 (Java +Python),\" GMIT, February 2019.***"
   ]
  },
  {
   "cell_type": "code",
   "execution_count": 16,
   "metadata": {},
   "outputs": [
    {
     "data": {
      "text/plain": [
       "'<PROCESS> <invoke> print(0)'"
      ]
     },
     "execution_count": 16,
     "metadata": {},
     "output_type": "execute_result"
    }
   ],
   "source": [
    "\"<PROCESS> <invoke> {}\".format(print.__name__+\"(\"+str(nParameter)+\")\")"
   ]
  },
  {
   "cell_type": "code",
   "execution_count": 17,
   "metadata": {},
   "outputs": [
    {
     "data": {
      "text/plain": [
       "'<RECURSION> <base case> True'"
      ]
     },
     "execution_count": 17,
     "metadata": {},
     "output_type": "execute_result"
    }
   ],
   "source": [
    "\"<RECURSION> <base case> {}\".format(nParameter<2)"
   ]
  },
  {
   "cell_type": "code",
   "execution_count": 18,
   "metadata": {},
   "outputs": [],
   "source": [
    "nParameter+=1; nProcess=fCount.__name__+\"(\"+str(nParameter)+\")\""
   ]
  },
  {
   "cell_type": "code",
   "execution_count": 19,
   "metadata": {},
   "outputs": [
    {
     "data": {
      "text/plain": [
       "'<PROCESS> <invoke> fCount(1)'"
      ]
     },
     "execution_count": 19,
     "metadata": {},
     "output_type": "execute_result"
    }
   ],
   "source": [
    "\"<PROCESS> <invoke> {}\".format(nProcess)"
   ]
  },
  {
   "cell_type": "code",
   "execution_count": 20,
   "metadata": {},
   "outputs": [],
   "source": [
    "nRecord.append(nProcess); nTime+=1"
   ]
  },
  {
   "cell_type": "code",
   "execution_count": 21,
   "metadata": {},
   "outputs": [
    {
     "data": {
      "text/plain": [
       "\"<STACK> <push> fCount(1) <activation frame(s)> ['__main__', 'fCount(0)', 'fCount(1)'] <time/active> 3\""
      ]
     },
     "execution_count": 21,
     "metadata": {},
     "output_type": "execute_result"
    }
   ],
   "source": [
    "\"<STACK> <push> {} <activation frame(s)> {} <time/active> {}\".format(nProcess,nRecord,nTime)"
   ]
  },
  {
   "cell_type": "markdown",
   "metadata": {},
   "source": [
    "![main-call-alpha](https://github.com/SeanOhAileasa/SeanOhAileasa/blob/master/rc/cta/recursion/stack/04-1-07.png?raw=true)\n",
    "\n",
    "***(Image) P. Mannion, \"05 Recursive Algorithms Part 1 (Java +Python),\" GMIT, February 2019.***"
   ]
  },
  {
   "cell_type": "code",
   "execution_count": 22,
   "metadata": {},
   "outputs": [
    {
     "data": {
      "text/plain": [
       "'<PROCESS> <invoke> print(1)'"
      ]
     },
     "execution_count": 22,
     "metadata": {},
     "output_type": "execute_result"
    }
   ],
   "source": [
    "\"<PROCESS> <invoke> {}\".format(print.__name__+\"(\"+str(nParameter)+\")\")"
   ]
  },
  {
   "cell_type": "code",
   "execution_count": 23,
   "metadata": {},
   "outputs": [
    {
     "data": {
      "text/plain": [
       "'<RECURSION> <base case> True'"
      ]
     },
     "execution_count": 23,
     "metadata": {},
     "output_type": "execute_result"
    }
   ],
   "source": [
    "\"<RECURSION> <base case> {}\".format(nParameter<2)"
   ]
  },
  {
   "cell_type": "code",
   "execution_count": 24,
   "metadata": {},
   "outputs": [],
   "source": [
    "nParameter+=1; nProcess=fCount.__name__+\"(\"+str(nParameter)+\")\""
   ]
  },
  {
   "cell_type": "code",
   "execution_count": 25,
   "metadata": {},
   "outputs": [
    {
     "data": {
      "text/plain": [
       "'<PROCESS> <invoke> fCount(2)'"
      ]
     },
     "execution_count": 25,
     "metadata": {},
     "output_type": "execute_result"
    }
   ],
   "source": [
    "\"<PROCESS> <invoke> {}\".format(nProcess)"
   ]
  },
  {
   "cell_type": "code",
   "execution_count": 26,
   "metadata": {},
   "outputs": [],
   "source": [
    "nRecord.append(nProcess); nTime+=1"
   ]
  },
  {
   "cell_type": "code",
   "execution_count": 27,
   "metadata": {},
   "outputs": [
    {
     "data": {
      "text/plain": [
       "\"<STACK> <push> fCount(2) <activation frame(s)> ['__main__', 'fCount(0)', 'fCount(1)', 'fCount(2)'] <time/active> 4\""
      ]
     },
     "execution_count": 27,
     "metadata": {},
     "output_type": "execute_result"
    }
   ],
   "source": [
    "\"<STACK> <push> {} <activation frame(s)> {} <time/active> {}\".format(nProcess,nRecord,nTime)"
   ]
  },
  {
   "cell_type": "markdown",
   "metadata": {},
   "source": [
    "![main-call-alpha](https://github.com/SeanOhAileasa/SeanOhAileasa/blob/master/rc/cta/recursion/stack/04-1-08.png?raw=true)\n",
    "\n",
    "***(Image) P. Mannion, \"05 Recursive Algorithms Part 1 (Java +Python),\" GMIT, February 2019.***"
   ]
  },
  {
   "cell_type": "code",
   "execution_count": 28,
   "metadata": {
    "scrolled": true
   },
   "outputs": [
    {
     "data": {
      "text/plain": [
       "'<PROCESS> <invoke> print(2)'"
      ]
     },
     "execution_count": 28,
     "metadata": {},
     "output_type": "execute_result"
    }
   ],
   "source": [
    "\"<PROCESS> <invoke> {}\".format(print.__name__+\"(\"+str(nParameter)+\")\")"
   ]
  },
  {
   "cell_type": "code",
   "execution_count": 29,
   "metadata": {},
   "outputs": [
    {
     "data": {
      "text/plain": [
       "'<RECURSION> <base case> False'"
      ]
     },
     "execution_count": 29,
     "metadata": {},
     "output_type": "execute_result"
    }
   ],
   "source": [
    "\"<RECURSION> <base case> {}\".format(nParameter<2)"
   ]
  },
  {
   "cell_type": "markdown",
   "metadata": {},
   "source": [
    "- recursion stops [1]"
   ]
  },
  {
   "cell_type": "markdown",
   "metadata": {},
   "source": [
    "- all activation frames return control to their caller - popped off the stack [1]"
   ]
  },
  {
   "cell_type": "code",
   "execution_count": 30,
   "metadata": {},
   "outputs": [
    {
     "data": {
      "text/plain": [
       "\"<STACK> <pop> fCount(2) <activation frame(s)> ['__main__', 'fCount(0)', 'fCount(1)']\""
      ]
     },
     "execution_count": 30,
     "metadata": {},
     "output_type": "execute_result"
    }
   ],
   "source": [
    "\"<STACK> <pop> {} <activation frame(s)> {}\".format(nRecord.pop(),nRecord)"
   ]
  },
  {
   "cell_type": "code",
   "execution_count": 31,
   "metadata": {},
   "outputs": [
    {
     "data": {
      "text/plain": [
       "\"<STACK> <pop> fCount(1) <activation frame(s)> ['__main__', 'fCount(0)']\""
      ]
     },
     "execution_count": 31,
     "metadata": {},
     "output_type": "execute_result"
    }
   ],
   "source": [
    "\"<STACK> <pop> {} <activation frame(s)> {}\".format(nRecord.pop(),nRecord)"
   ]
  },
  {
   "cell_type": "code",
   "execution_count": 32,
   "metadata": {},
   "outputs": [
    {
     "data": {
      "text/plain": [
       "\"<STACK> <pop> fCount(0) <activation frame(s)> ['__main__']\""
      ]
     },
     "execution_count": 32,
     "metadata": {},
     "output_type": "execute_result"
    }
   ],
   "source": [
    "\"<STACK> <pop> {} <activation frame(s)> {}\".format(nRecord.pop(),nRecord)"
   ]
  },
  {
   "cell_type": "markdown",
   "metadata": {},
   "source": [
    "- ``main`` stops running then also popped off the stack [1]"
   ]
  },
  {
   "cell_type": "code",
   "execution_count": 33,
   "metadata": {},
   "outputs": [
    {
     "data": {
      "text/plain": [
       "'<STACK> <pop> __main__ <activation frame(s)> []'"
      ]
     },
     "execution_count": 33,
     "metadata": {},
     "output_type": "execute_result"
    }
   ],
   "source": [
    "\"<STACK> <pop> {} <activation frame(s)> {}\".format(nRecord.pop(),nRecord)"
   ]
  },
  {
   "cell_type": "markdown",
   "metadata": {},
   "source": [
    "![main-call-alpha](https://github.com/SeanOhAileasa/SeanOhAileasa/blob/master/rc/cta/recursion/stack/04-1-09.png?raw=true)\n",
    "\n",
    "***(Image) P. Mannion, \"05 Recursive Algorithms Part 1 (Java +Python),\" GMIT, February 2019.***"
   ]
  },
  {
   "cell_type": "code",
   "execution_count": 34,
   "metadata": {},
   "outputs": [],
   "source": [
    "exit()"
   ]
  },
  {
   "cell_type": "markdown",
   "metadata": {},
   "source": [
    "<!-- - refer [Appendix](#appendix-df) to view the full dataset <a id=\"go-back-df\"></a> -->\n",
    "<!-- print(fGetModuleType(___x___),fDocumentation(___x___)) -->\n",
    "***\n",
    "## END"
   ]
  },
  {
   "cell_type": "markdown",
   "metadata": {},
   "source": [
    "< [Table of Contents](#top) | [Abstract](#abstract) | [Introduction](#introduction) | [Solution](#solution) | [References](#references) >\n",
    "<a id=\"conclusion\"></a>\n",
    "***\n",
    "## Conclusion\n",
    "***"
   ]
  },
  {
   "cell_type": "markdown",
   "metadata": {},
   "source": [
    "- a recursive technique solves some problem by breaking it up into smaller instances of the same problem - calling itself within its own body [1]"
   ]
  },
  {
   "cell_type": "markdown",
   "metadata": {},
   "source": [
    "- recursion in an alternative to iteration and its important to note that any set of tasks which could be accomplished using a recursive technique can also be accomplished by using an iterative technique [1]"
   ]
  },
  {
   "cell_type": "markdown",
   "metadata": {},
   "source": [
    "- recursion is an expensive way to design algorithms given that multiple activation frames will be active for a process at any one point (there is overhead involved with every process call) [1]"
   ]
  },
  {
   "cell_type": "markdown",
   "metadata": {},
   "source": [
    "- analysing ``fCount`` by visualising which process activation frames (records) on the stack are active at any one time demonstrates that even for a very simple process (printing the sequence $(\\space 0,\\space 1,\\space 2\\space )$ to the console) needed to have three function activation frames on the stack whereas this task could easily be achieved just using an iterative approach (``for`` loop to print out the sequence) [1]"
   ]
  },
  {
   "cell_type": "markdown",
   "metadata": {},
   "source": [
    "- why use recursion (use cases) if both statements are true: i) a recursive process can also be accomplished by using iterative process and; ii) recursion is expensive involving additional overhead when compared to an iterative approach - in many cases the extra expense of recursion (extra complexity) in terms of the running time is far outweighed by having a simpler cleaner algorithm which leads to an implementation which is in general is easier to code - may be happy to make some sacrifices in terms of overhead involved in process calls if the code is clean and more concise (simpler) and easier to understand - intuitively some problems may be more easily solved by taking a recursive approach - ultimately recursion would be eliminated when the compiler gets down to the level of creating assembly language by implementing the stack [1]"
   ]
  },
  {
   "cell_type": "markdown",
   "metadata": {},
   "source": [
    "- in general if the recursion tree (recursion process) has a very simple form (a lot of repeated tasks) then the iterative version may in fact be better whereas if having a recursion tree that appears quite bushy (there are a lot of different cases and a lot of different branches and ways that task could go) then recursion is the more natural solution if there are very few duplicate tasks (are similar with different instances of the same problem) [1]"
   ]
  },
  {
   "cell_type": "markdown",
   "metadata": {},
   "source": [
    "- examined some of the main design rules for recursive algorithms [1]"
   ]
  },
  {
   "cell_type": "markdown",
   "metadata": {},
   "source": [
    "- illustrating the importance of a base case in recursion - a case which can be solved without recursion so it is an input instance for the algorithm or for the process which may be solved without making a recursive call [1]"
   ]
  },
  {
   "cell_type": "code",
   "execution_count": 1,
   "metadata": {},
   "outputs": [],
   "source": [
    "exit()"
   ]
  },
  {
   "cell_type": "markdown",
   "metadata": {},
   "source": [
    "<!-- print(fGetModuleType(___x___),fDocumentation(___x___)) -->\n",
    "***\n",
    "## END"
   ]
  },
  {
   "cell_type": "markdown",
   "metadata": {},
   "source": [
    "< [Table of Contents](#top) | [Abstract](#abstract) | [Introduction](#introduction) | [Solution](#solution) | [Conclusion](#conclusion) | [References](#references) >\n",
    "<a id=\"references\"></a>\n",
    "***\n",
    "## References\n",
    "***\n",
    "&nbsp;&nbsp;&nbsp;&nbsp;&nbsp;&nbsp;&nbsp;&nbsp;&nbsp;[1] P. Mannion, \"05 Recursive Algorithms Part 1 (Java +Python),\" GMIT, February 2019.\n",
    "\n",
    "&nbsp;&nbsp;&nbsp;&nbsp;&nbsp;&nbsp;&nbsp;&nbsp;&nbsp;[2] P. Mannion, \"06 Recursive Algorithms Part 2 (Python),\" GMIT, February 2019."
   ]
  },
  {
   "cell_type": "markdown",
   "metadata": {},
   "source": [
    "***\n",
    "## END"
   ]
  },
  {
   "cell_type": "markdown",
   "metadata": {},
   "source": [
    "< [Table of Contents](#top) | [Abstract](#abstract) | [Introduction](#introduction) | [Solution](#solution) | [Conclusion](#conclusion) | [References](#references) >\n",
    "<a id=\"appendix\"></a>\n",
    "***\n",
    "## Appendix\n",
    "***"
   ]
  },
  {
   "cell_type": "markdown",
   "metadata": {},
   "source": [
    "< [Table of Contents](#top) | [References](#references) >\n",
    "<a id=\"draft\"></a>\n",
    "### Draft\n",
    "***"
   ]
  },
  {
   "cell_type": "markdown",
   "metadata": {},
   "source": [
    "- { [recursion](https://github.com/E6985/L8733/blob/master/src/hdp/cta/recursion.ipynb) : &#x1F530; }\n",
    "\n",
    "- { [iteration](https://github.com/E6985/L8733/blob/master/src/hdp/cta/recursion-iteration.ipynb) : &#x1F530; }\n",
    "\n",
    "    - { [types](https://github.com/E6985/L8733/blob/master/src/hdp/cta/recursion-iteration-types-intentionally-blank.ipynb) :\n",
    "    &#x26AA; }\n",
    "\n",
    "        - { [linear](https://github.com/E6985/L8733/blob/master/src/hdp/cta/recursion-iteration-types-linear.ipynb) : &#x1F530; }\n",
    "\n",
    "            - { [tail](https://github.com/E6985/L8733/blob/master/src/hdp/cta/recursion-iteration-types-linear-tail.ipynb) : &#x1F530; }\n",
    "\n",
    "                - { [&#x00A9; euclid &#x00A9;](https://github.com/E6985/L8733/blob/master/src/hdp/cta/recursion-iteration-types-linear-tail-euclid.ipynb) : &#x1F530; }\n",
    "\n",
    "                    - { [&#x00A9; iterative &#x00A9;](https://github.com/E6985/L8733/blob/master/src/hdp/cta/recursion-iteration-types-linear-tail-euclid-iterative.ipynb) : &#x1F530; }\n",
    "\n",
    "                    - { [&#x00A9; recursion &#x00A9;](https://github.com/E6985/L8733/blob/master/src/hdp/cta/recursion-iteration-types-linear-tail-euclid-recursion.ipynb) : &#x1F530; }\n",
    "\n",
    "        - { [binary](https://github.com/E6985/L8733/blob/master/src/hdp/cta/recursion-iteration-types-binary.ipynb) : &#x1F530; }\n",
    "\n",
    "            - { [fibonacci](https://github.com/E6985/L8733/blob/master/src/hdp/cta/recursion-iteration-types-binary-fibonacci.ipynb) : &#x1F530; }\n",
    "\n",
    "                - { [&#x00A9; iterative &#x00A9;](https://github.com/E6985/L8733/blob/master/src/hdp/cta/recursion-iteration-types-binary-fibonacci-iterative.ipynb) : &#x1F530; }\n",
    "\n",
    "                - { [&#x00A9; recursion &#x00A9;](https://github.com/E6985/L8733/blob/master/src/hdp/cta/recursion-iteration-types-binary-fibonacci-recursive.ipynb) : &#x1F530; }\n",
    "\n",
    "        - { [exponential](https://github.com/E6985/L8733/blob/master/src/hdp/cta/recursion-iteration-types-exponential.ipynb) : &#x1F530; }\n",
    "\n",
    "    - { [error](https://github.com/E6985/L8733/blob/master/src/hdp/cta/recursion-iteration-error-intentionally-blank.ipynb) :\n",
    "    &#x26AA; }\n",
    "\n",
    "        - { [&#x00A9; infinite &#x00A9;](https://github.com/E6985/L8733/blob/master/src/hdp/cta/recursion-iteration-error-infinite.ipynb) : &#x1F530; }\n",
    "\n",
    "            - { [&#x00A9; circular &#x00A9;](https://github.com/E6985/L8733/blob/master/src/hdp/cta/recursion-iteration-error-infinite-circular.ipynb) : &#x1F530; }\n",
    "\n",
    "    - { [&#x00A9; rules &#x00A9;](https://github.com/E6985/L8733/blob/master/src/hdp/cta/recursion-iteration-rules.ipynb) : &#x1F530; }\n",
    "\n",
    "        - { [design](https://github.com/E6985/L8733/blob/master/src/hdp/cta/recursion-iteration-rules-design.ipynb) : &#x1F530; }\n",
    "\n",
    "    - { [stack](https://github.com/E6985/L8733/blob/master/src/hdp/cta/recursion-iteration-stack.ipynb) : &#x1F530; }\n",
    "\n",
    "        - { [&#x00A9; process &#x00A9;](https://github.com/E6985/L8733/blob/master/src/hdp/cta/recursion-iteration-stack-process.ipynb) : &#x1F530; }\n",
    "\n",
    "            - { [factorial](https://github.com/E6985/L8733/blob/master/src/hdp/cta/recursion-iteration-stack-process-factorial.ipynb) : &#x1F530; }\n",
    "\n",
    "                - { [&#x00A9; iterative &#x00A9;](https://github.com/E6985/L8733/blob/master/src/hdp/cta/recursion-iteration-stack-process-factorial-iterative.ipynb) : &#x1F530; }\n",
    "\n",
    "                - { [&#x00A9; recursive &#x00A9;](https://github.com/E6985/L8733/blob/master/src/hdp/cta/recursion-iteration-stack-process-factorial-recursive.ipynb) : &#x1F530; }"
   ]
  },
  {
   "cell_type": "code",
   "execution_count": 1,
   "metadata": {},
   "outputs": [],
   "source": [
    "exit()"
   ]
  },
  {
   "cell_type": "markdown",
   "metadata": {},
   "source": [
    "< [Table of Contents](#top) | [References](#references) >\n",
    "<a id=\"codeRunner\"></a>\n",
    "### Code Runner\n",
    "***"
   ]
  },
  {
   "cell_type": "code",
   "execution_count": 1,
   "metadata": {},
   "outputs": [],
   "source": [
    "def reverse(str):\n",
    "    \"\"\"\n",
    "    Write a method which takes in a string and returns the reverse of that string with a \"|\" character \n",
    "    between each internal character. For example 'dominic' would become 'c|i|n|i|m|o|d\".\n",
    "    This must be achieved through the use of recursion. The solutions will be checked for the use of recursion, \n",
    "    and will be awarded 0 if there is no recursion.\n",
    "\"\"\"\n",
    "    # single character left ie first in str (last done)\n",
    "    if len(str)<=1:\n",
    "        return str\n",
    "    # start at end of str; add \"|\"; perform recursion\n",
    "    return str[len(str)-1]+\"|\"+reverse(str[:len(str)-1])"
   ]
  },
  {
   "cell_type": "code",
   "execution_count": 2,
   "metadata": {
    "scrolled": true
   },
   "outputs": [
    {
     "data": {
      "text/plain": [
       "'c|i|n|i|m|o|d'"
      ]
     },
     "execution_count": 2,
     "metadata": {},
     "output_type": "execute_result"
    }
   ],
   "source": [
    "reverse(\"dominic\")"
   ]
  },
  {
   "cell_type": "code",
   "execution_count": 3,
   "metadata": {},
   "outputs": [
    {
     "data": {
      "text/plain": [
       "'T|I|M|G'"
      ]
     },
     "execution_count": 3,
     "metadata": {},
     "output_type": "execute_result"
    }
   ],
   "source": [
    "reverse(\"GMIT\")"
   ]
  },
  {
   "cell_type": "code",
   "execution_count": 4,
   "metadata": {
    "scrolled": true
   },
   "outputs": [
    {
     "data": {
      "text/plain": [
       "'d|r|a|h| |s|i| |n|o|i|s|r|u|c|e|r'"
      ]
     },
     "execution_count": 4,
     "metadata": {},
     "output_type": "execute_result"
    }
   ],
   "source": [
    "reverse(\"recursion is hard\")"
   ]
  },
  {
   "cell_type": "code",
   "execution_count": 5,
   "metadata": {},
   "outputs": [],
   "source": [
    "def reverse(string):\n",
    "    \"\"\"\n",
    "    Question author's solution (Python3).\n",
    "\"\"\"\n",
    "    if len(string) == 0:\n",
    "        return string\n",
    "    elif (len(string)==1):\n",
    "        return string\n",
    "    else:\n",
    "        return reverse(string[1:]) + \"|\"+ string[0]"
   ]
  },
  {
   "cell_type": "code",
   "execution_count": 6,
   "metadata": {},
   "outputs": [
    {
     "data": {
      "text/plain": [
       "'c|i|n|i|m|o|d'"
      ]
     },
     "execution_count": 6,
     "metadata": {},
     "output_type": "execute_result"
    }
   ],
   "source": [
    "reverse(\"dominic\")"
   ]
  },
  {
   "cell_type": "code",
   "execution_count": 7,
   "metadata": {},
   "outputs": [
    {
     "data": {
      "text/plain": [
       "'T|I|M|G'"
      ]
     },
     "execution_count": 7,
     "metadata": {},
     "output_type": "execute_result"
    }
   ],
   "source": [
    "reverse(\"GMIT\")"
   ]
  },
  {
   "cell_type": "code",
   "execution_count": 8,
   "metadata": {},
   "outputs": [
    {
     "data": {
      "text/plain": [
       "'d|r|a|h| |s|i| |n|o|i|s|r|u|c|e|r'"
      ]
     },
     "execution_count": 8,
     "metadata": {},
     "output_type": "execute_result"
    }
   ],
   "source": [
    "reverse(\"recursion is hard\")"
   ]
  },
  {
   "cell_type": "code",
   "execution_count": 9,
   "metadata": {},
   "outputs": [],
   "source": [
    "def substrings(string):\n",
    "    \"\"\"\n",
    "    Write a method which takes in a string and returns an array of each successive sub-string of length 3. \n",
    "    For example \"We are in isolation\" would yield ['We ', 'are', ' in', ' is', 'ola', 'tio']. \n",
    "    The part at the end which is not of length 3 is cut off (in this case the last character 'n').\n",
    "\"\"\"\n",
    "    # cut off end of \"string\" if not minimum len=3\n",
    "    if len(string)<3: # x0? or x1 or x2 characters cutoff\n",
    "        return [] # pass\n",
    "    else:\n",
    "        # ...\"testing\"[:3] = 'tes' ...\"testing\"[3:] = 'ting'\n",
    "        # return array first with the initial substring (len=3);\n",
    "        # concatenate reminder returning next substring (len=3)\n",
    "        return [string[:3]]+substrings(string[3:])"
   ]
  },
  {
   "cell_type": "code",
   "execution_count": 10,
   "metadata": {},
   "outputs": [
    {
     "data": {
      "text/plain": [
       "['We ', 'are', ' in', ' is', 'ola', 'tio']"
      ]
     },
     "execution_count": 10,
     "metadata": {},
     "output_type": "execute_result"
    }
   ],
   "source": [
    "substrings(\"We are in isolation\")"
   ]
  },
  {
   "cell_type": "code",
   "execution_count": 11,
   "metadata": {},
   "outputs": [
    {
     "data": {
      "text/plain": [
       "['cin', 'imo']"
      ]
     },
     "execution_count": 11,
     "metadata": {},
     "output_type": "execute_result"
    }
   ],
   "source": [
    "substrings(\"cinimod\")"
   ]
  },
  {
   "cell_type": "code",
   "execution_count": 12,
   "metadata": {},
   "outputs": [
    {
     "data": {
      "text/plain": [
       "['Fol', 'low', ' th', 'e p', 'roc', 'ess']"
      ]
     },
     "execution_count": 12,
     "metadata": {},
     "output_type": "execute_result"
    }
   ],
   "source": [
    "substrings(\"Follow the process\")"
   ]
  },
  {
   "cell_type": "code",
   "execution_count": 13,
   "metadata": {},
   "outputs": [],
   "source": [
    "def substrings(string):\n",
    "    \"\"\"\n",
    "    Question author's solution (Python3).\n",
    "\"\"\"\n",
    "    if len(string)<3:\n",
    "        return [];\n",
    "    else:\n",
    "        return [string[0:3]] + substrings(string[3:])"
   ]
  },
  {
   "cell_type": "code",
   "execution_count": 14,
   "metadata": {},
   "outputs": [
    {
     "data": {
      "text/plain": [
       "['We ', 'are', ' in', ' is', 'ola', 'tio']"
      ]
     },
     "execution_count": 14,
     "metadata": {},
     "output_type": "execute_result"
    }
   ],
   "source": [
    "substrings(\"We are in isolation\")"
   ]
  },
  {
   "cell_type": "code",
   "execution_count": 15,
   "metadata": {},
   "outputs": [
    {
     "data": {
      "text/plain": [
       "['cin', 'imo']"
      ]
     },
     "execution_count": 15,
     "metadata": {},
     "output_type": "execute_result"
    }
   ],
   "source": [
    "substrings(\"cinimod\")"
   ]
  },
  {
   "cell_type": "code",
   "execution_count": 16,
   "metadata": {},
   "outputs": [
    {
     "data": {
      "text/plain": [
       "['Fol', 'low', ' th', 'e p', 'roc', 'ess']"
      ]
     },
     "execution_count": 16,
     "metadata": {},
     "output_type": "execute_result"
    }
   ],
   "source": [
    "substrings(\"Follow the process\")"
   ]
  },
  {
   "cell_type": "code",
   "execution_count": 17,
   "metadata": {},
   "outputs": [],
   "source": [
    "def merge(string, string2):\n",
    "    \"\"\"\n",
    "    Write a method which produces a new string which is the merge of both strings. \n",
    "    For example the strings \"dmnc\" and \"oii\" would merge to become \"dominic\". \n",
    "    The basic step is to combine the current character from the first and second strings together\n",
    "    in that order, so first that would be 'd' and 'o', then 'm' and 'i'.\n",
    "    The second string will always be shorter and when we are finished with it the remainder of the\n",
    "    first string will be the last part of our new string.\n",
    "\"\"\"\n",
    "    if len(string2)>0:\n",
    "        # concatenate 1st char of \"string\" to 1st char of \"string2\";\n",
    "        # recursion concatenates next/current character (same as above)\n",
    "        return string[0]+string2[0]+merge(string[1:],string2[1:])\n",
    "    # concatenate remainder of \"string\" to last part of new string returned\n",
    "    return string[:]"
   ]
  },
  {
   "cell_type": "code",
   "execution_count": 18,
   "metadata": {},
   "outputs": [
    {
     "data": {
      "text/plain": [
       "'dominic'"
      ]
     },
     "execution_count": 18,
     "metadata": {},
     "output_type": "execute_result"
    }
   ],
   "source": [
    "merge(\"dmnc\",\"oii\")"
   ]
  },
  {
   "cell_type": "code",
   "execution_count": 19,
   "metadata": {},
   "outputs": [
    {
     "data": {
      "text/plain": [
       "'wLhOaLt is love'"
      ]
     },
     "execution_count": 19,
     "metadata": {},
     "output_type": "execute_result"
    }
   ],
   "source": [
    "merge(\"what is love\",\"LOL\")"
   ]
  },
  {
   "cell_type": "code",
   "execution_count": 20,
   "metadata": {},
   "outputs": [],
   "source": [
    "def merge(string, string2):\n",
    "    \"\"\"\n",
    "    Question author's solution (Python3).\n",
    "\"\"\"\n",
    "    if (len(string2)==0):\n",
    "        return string\n",
    "    if (len(string)==1 and len(string2)==1):\n",
    "        return string+string2\n",
    "    else:\n",
    "        return string[0]+string2[0]+merge(string[1:], string2[1:])"
   ]
  },
  {
   "cell_type": "code",
   "execution_count": 21,
   "metadata": {},
   "outputs": [
    {
     "data": {
      "text/plain": [
       "'dominic'"
      ]
     },
     "execution_count": 21,
     "metadata": {},
     "output_type": "execute_result"
    }
   ],
   "source": [
    "merge(\"dmnc\",\"oii\")"
   ]
  },
  {
   "cell_type": "code",
   "execution_count": 22,
   "metadata": {},
   "outputs": [
    {
     "data": {
      "text/plain": [
       "'wLhOaLt is love'"
      ]
     },
     "execution_count": 22,
     "metadata": {},
     "output_type": "execute_result"
    }
   ],
   "source": [
    "merge(\"what is love\",\"LOL\")"
   ]
  },
  {
   "cell_type": "code",
   "execution_count": 23,
   "metadata": {},
   "outputs": [],
   "source": [
    "exit()"
   ]
  },
  {
   "cell_type": "markdown",
   "metadata": {},
   "source": [
    "***\n",
    "## END"
   ]
  },
  {
   "cell_type": "markdown",
   "metadata": {},
   "source": [
    "# END JUPYTER NOTEBOOK"
   ]
  }
 ],
 "metadata": {
  "kernelspec": {
   "display_name": "Python 3",
   "language": "python",
   "name": "python3"
  },
  "language_info": {
   "codemirror_mode": {
    "name": "ipython",
    "version": 3
   },
   "file_extension": ".py",
   "mimetype": "text/x-python",
   "name": "python",
   "nbconvert_exporter": "python",
   "pygments_lexer": "ipython3",
   "version": "3.8.5"
  }
 },
 "nbformat": 4,
 "nbformat_minor": 5
}
