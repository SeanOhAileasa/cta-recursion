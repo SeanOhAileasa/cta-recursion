{
 "cells": [
  {
   "cell_type": "code",
   "execution_count": null,
   "id": "civilian-intro",
   "metadata": {},
   "outputs": [
    {
     "data": {
      "text/html": [
       "<script>Jupyter.notebook.kernel.restart()</script>"
      ]
     },
     "metadata": {},
     "output_type": "display_data"
    }
   ],
   "source": [
    "from IPython.core.display import display_html\n",
    "display_html(\"<script>Jupyter.notebook.kernel.restart()</script>\",raw=True)"
   ]
  },
  {
   "cell_type": "code",
   "execution_count": 1,
   "id": "current-belle",
   "metadata": {},
   "outputs": [
    {
     "data": {
      "text/html": [
       "<style>.container { width:100% !important; }</style>"
      ],
      "text/plain": [
       "<IPython.core.display.HTML object>"
      ]
     },
     "metadata": {},
     "output_type": "display_data"
    },
    {
     "data": {
      "text/html": [
       "<style>.container { width:100% !important; }</style>"
      ],
      "text/plain": [
       "<IPython.core.display.HTML object>"
      ]
     },
     "metadata": {},
     "output_type": "display_data"
    }
   ],
   "source": [
    "from sys import path; path.insert(1,\"../src\");\n",
    "import fubar; from importlib import reload; reload(fubar);"
   ]
  },
  {
   "cell_type": "markdown",
   "id": "statewide-pharmaceutical",
   "metadata": {},
   "source": [
    "***\n",
    "< [GMIT Data Analytics](https://web.archive.org/web/20201029063153/https://www.gmit.ie/computer-science-and-applied-physics/higher-diploma-science-computing-data-analytics-ict) | [Home](https://github.com/SeanOhAileasa) | [README](https://github.com/SeanOhAileasa/cta-recursion/blob/main/README.md) >\n",
    "\n",
    "[![GMIT](https://github.com/SeanOhAileasa/SeanOhAileasa/blob/master/img/gmit.png?raw=true)](https://web.archive.org/web/20201029063153/https://www.gmit.ie/computer-science-and-applied-physics/higher-diploma-science-computing-data-analytics-ict)\n",
    "\n",
    "## Computational Thinking with Algorithms - Course Material 2021\n",
    "### Topic: [Recursion](https://nbviewer.jupyter.org/github/SeanOhAileasa/cta-recursion/blob/main/cta-recursion.ipynb)\n",
    "\n",
    "***"
   ]
  },
  {
   "cell_type": "markdown",
   "id": "direct-peoples",
   "metadata": {},
   "source": [
    "Course material for the ``Computational Thinking with Algorithms`` module (5 Credits) of the ``Higher Diploma in Science in Computing (Data Analytics) (H.Dip)`` programme (75 Credits) at **Galway-Mayo Institute of Technology (GMIT)**."
   ]
  },
  {
   "cell_type": "code",
   "execution_count": 2,
   "id": "interracial-accused",
   "metadata": {},
   "outputs": [],
   "source": [
    "exit()"
   ]
  },
  {
   "cell_type": "markdown",
   "id": "differential-venue",
   "metadata": {},
   "source": [
    "<a id=\"top\"></a>\n",
    "***\n",
    "## Table of Contents\n",
    "***\n",
    "\n",
    "## [Abstract](#abstract)\n",
    "\n",
    "\n",
    "## [Introduction](#introduction)\n",
    "\n",
    "* [Recursive Trace](#Recursive-Trace)\n",
    "\n",
    "## [Solution](#solution)\n",
    "\n",
    "* [Stack](#Stack)\n",
    "\n",
    "## [Conclusion](#conclusion)\n",
    "\n",
    "- &#x1F6A7;"
   ]
  },
  {
   "cell_type": "markdown",
   "id": "interracial-carolina",
   "metadata": {},
   "source": [
    "***\n",
    "## END"
   ]
  },
  {
   "cell_type": "markdown",
   "id": "automated-captain",
   "metadata": {},
   "source": [
    "< [Table of Contents](#top) | [Introduction](#introduction) | [Solution](#solution) | [Conclusion](#conclusion) | [References](#references) >\n",
    "<a id=\"abstract\"></a>\n",
    "***\n",
    "## Abstract\n",
    "***"
   ]
  },
  {
   "cell_type": "markdown",
   "id": "progressive-asthma",
   "metadata": {},
   "source": [
    "- iteration is a process that allows some sequence of steps or some block of code to be executed repeatedly (for/while loop) - it is very common that iterative approaches are used in algorithms [1]"
   ]
  },
  {
   "cell_type": "markdown",
   "id": "australian-payroll",
   "metadata": {},
   "source": [
    "- recursion is a technique which may be applied to complete tasks which are repetitive in nature - consider how a procedure/function/method (hereafter called **\"process\"**) is normally called in a program - ``main`` calls ``alpha`` (note the arrow denotes the call) [1]"
   ]
  },
  {
   "cell_type": "markdown",
   "id": "amber-executive",
   "metadata": {},
   "source": [
    "![main-call-alpha](https://github.com/SeanOhAileasa/SeanOhAileasa/blob/master/img/cta/recursion/abstract/main-call-alpha.png?raw=true)\n",
    "\n",
    "***(Image) P. Mannion, \"05 Recursive Algorithms Part 1 (Java +Python),\" GMIT, February 2019.***"
   ]
  },
  {
   "cell_type": "markdown",
   "id": "annoying-macro",
   "metadata": {},
   "source": [
    "- recursion is a technique which may be applied to complete tasks which are repetitive in nature - a recursive process is one which calls itself within its body [1]"
   ]
  },
  {
   "cell_type": "markdown",
   "id": "competitive-television",
   "metadata": {},
   "source": [
    "- within ``beta`` there is another call to ``beta`` [1]"
   ]
  },
  {
   "cell_type": "markdown",
   "id": "limiting-commissioner",
   "metadata": {},
   "source": [
    "![main-call-alpha](https://github.com/SeanOhAileasa/SeanOhAileasa/blob/master/img/cta/recursion/abstract/beta.png?raw=true)\n",
    "\n",
    "***(Image) P. Mannion, \"05 Recursive Algorithms Part 1 (Java +Python),\" GMIT, February 2019.***"
   ]
  },
  {
   "cell_type": "code",
   "execution_count": 1,
   "id": "published-concern",
   "metadata": {},
   "outputs": [],
   "source": [
    "exit()"
   ]
  },
  {
   "cell_type": "markdown",
   "id": "structured-steel",
   "metadata": {},
   "source": [
    "<!-- print(fGetModuleType(___x___),fDocumentation(___x___)) -->\n",
    "***\n",
    "## END"
   ]
  },
  {
   "cell_type": "markdown",
   "id": "sweet-youth",
   "metadata": {},
   "source": [
    "< [Table of Contents](#top) | [Abstract](#abstract) | [Solution](#solution) | [Conclusion](#conclusion) | [References](#references) >\n",
    "<a id=\"introduction\"></a>\n",
    "***\n",
    "## Introduction\n",
    "***"
   ]
  },
  {
   "cell_type": "markdown",
   "id": "ecological-kitty",
   "metadata": {},
   "source": [
    "- ``fCount`` passing the value ``0`` - conditional statement checks if ``nParIndex<0`` then call ``fCount`` again passing in the value ``nParIndex+1`` [1]"
   ]
  },
  {
   "cell_type": "markdown",
   "id": "colored-message",
   "metadata": {},
   "source": [
    "- ``fCount`` calls itself within its own body - this is the step where the recursion occurs - the step whereby ``fCount(nParIndex+1)`` is called [1]"
   ]
  },
  {
   "cell_type": "code",
   "execution_count": 1,
   "id": "bibliographic-world",
   "metadata": {},
   "outputs": [
    {
     "name": "stdout",
     "output_type": "stream",
     "text": [
      "# repository ./fubar-python\r\n",
      "def fCount(nParIndex):\r\n",
      "    \"\"\"Recursive process.\r\n",
      "\r\n",
      "Input: nParIndex\r\n",
      "Process: print Input; if Input<2 then call fCount passing Input+1\r\n",
      "Output: sequence 0, 1, 2\r\n",
      "\"\"\"\r\n",
      "    print(nParIndex)\r\n",
      "    if nParIndex<2:\r\n",
      "        fCount(nParIndex+1)\r\n",
      "# -- END ---\r\n"
     ]
    }
   ],
   "source": [
    "%%script bash\n",
    "grep -1 \"def fCount\" ../src/fubar.py -A 10"
   ]
  },
  {
   "cell_type": "code",
   "execution_count": 2,
   "id": "ignored-model",
   "metadata": {},
   "outputs": [],
   "source": [
    "from sys import path; path.insert(1,\"../src\")"
   ]
  },
  {
   "cell_type": "code",
   "execution_count": 3,
   "id": "foreign-peeing",
   "metadata": {},
   "outputs": [
    {
     "data": {
      "text/html": [
       "<style>.container { width:100% !important; }</style>"
      ],
      "text/plain": [
       "<IPython.core.display.HTML object>"
      ]
     },
     "metadata": {},
     "output_type": "display_data"
    }
   ],
   "source": [
    "from fubar import fCount"
   ]
  },
  {
   "cell_type": "markdown",
   "id": "ceramic-auckland",
   "metadata": {},
   "source": [
    "- ``main`` calling ``fCount(0)`` - current value of ``nParIndex`` is printed [1]\n",
    "\n",
    "```python\n",
    "print(nParIndex) # 0\n",
    "```"
   ]
  },
  {
   "cell_type": "markdown",
   "id": "double-specification",
   "metadata": {},
   "source": [
    "- if ``nParIndex<2`` then at this point another copy of ``fCount`` is activated and the value ``1`` is passed in the next call [1] \n",
    "\n",
    "```python\n",
    "if nParIndex<2:\n",
    "    fCount(nParIndex+1) # nParIndex==1\n",
    "```"
   ]
  },
  {
   "cell_type": "markdown",
   "id": "located-modem",
   "metadata": {},
   "source": [
    "- ``1st recursive call`` - current value of ``nParIndex`` is printed [1]\n",
    "\n",
    "```python\n",
    "print(nParIndex) # 1\n",
    "```"
   ]
  },
  {
   "cell_type": "markdown",
   "id": "revised-consideration",
   "metadata": {},
   "source": [
    "- if ``nParIndex<2`` then at this point another copy of ``fCount`` is activated and the value ``2`` is passed in the next call [1] \n",
    "\n",
    "```python\n",
    "if nParIndex<2:\n",
    "    fCount(nParIndex+1) # nParIndex==2\n",
    "```"
   ]
  },
  {
   "cell_type": "markdown",
   "id": "specialized-memory",
   "metadata": {},
   "source": [
    "- ``2nd recursive call`` - current value of ``nParIndex`` is printed [1]\n",
    "\n",
    "```python\n",
    "print(nParIndex) # 2\n",
    "```"
   ]
  },
  {
   "cell_type": "markdown",
   "id": "formal-montgomery",
   "metadata": {},
   "source": [
    "- conditional statement ``nParIndex<2`` returns ``False`` - does not reach the end of the ``2nd recursive call`` of ``fCount`` therefore returning control to the previous instance of ``fCount`` (via ``1st recursive call``) and then that will return control to the first instance of the ``fCount`` (via ``main``) [1]"
   ]
  },
  {
   "cell_type": "markdown",
   "id": "enormous-thermal",
   "metadata": {},
   "source": [
    "- sequence ``0, 1, 2`` is complete [1]"
   ]
  },
  {
   "cell_type": "code",
   "execution_count": 4,
   "id": "connected-netscape",
   "metadata": {},
   "outputs": [
    {
     "name": "stdout",
     "output_type": "stream",
     "text": [
      "0\n",
      "1\n",
      "2\n"
     ]
    }
   ],
   "source": [
    "fCount(0)"
   ]
  },
  {
   "cell_type": "code",
   "execution_count": 5,
   "id": "logical-playing",
   "metadata": {},
   "outputs": [],
   "source": [
    "exit()"
   ]
  },
  {
   "cell_type": "markdown",
   "id": "impossible-coating",
   "metadata": {},
   "source": [
    "< [Table of Contents](#top) | [References](#references) >\n",
    "<a id=\"Recursive-Trace\"></a>\n",
    "### Recursive Trace\n",
    "***"
   ]
  },
  {
   "cell_type": "markdown",
   "id": "applicable-oregon",
   "metadata": {},
   "source": [
    "- visualising calls to a recursive process via recursion trace - way of tracing the call from the caller all the way down through the nested levels of recursion and then all the way back to the caller again (convention: black arrow will represent a call / green arrow will represent a return with the value returned printed beside the green arrow) [1]"
   ]
  },
  {
   "cell_type": "markdown",
   "id": "portable-radiation",
   "metadata": {},
   "source": [
    "![main-call-alpha](https://github.com/SeanOhAileasa/SeanOhAileasa/blob/master/img/cta/recursion/stack/04-1-03.png?raw=true)\n",
    "\n",
    "***(Image) P. Mannion, \"05 Recursive Algorithms Part 1 (Java +Python),\" GMIT, February 2019.***"
   ]
  },
  {
   "cell_type": "code",
   "execution_count": 1,
   "id": "solid-shield",
   "metadata": {},
   "outputs": [],
   "source": [
    "exit()"
   ]
  },
  {
   "cell_type": "markdown",
   "id": "ongoing-encyclopedia",
   "metadata": {},
   "source": [
    "<!-- print(fGetModuleType(___x___),fDocumentation(___x___)) -->\n",
    "***\n",
    "## END"
   ]
  },
  {
   "cell_type": "markdown",
   "id": "sorted-editing",
   "metadata": {},
   "source": [
    "< [Table of Contents](#top) | [Abstract](#abstract) | [Introduction](#introduction) | [Conclusion](#conclusion) | [References](#references) >\n",
    "<a id=\"solution\"></a>\n",
    "***\n",
    "## Solution\n",
    "***\n",
    "\n",
    "<!--\n",
    "\n",
    "lets introduce the concept of a program stack a program stack basically operates like a container of trays in a cafeteria so if you have a container trays you only have two possibilities you can either add a tree onto it or you can take a tree off the top so we have two operations with this with the program stack the first is a push operation that pushes something onto the stack and its always placed onto the top of the stack the other operation is pop with the pop operation it pops something off the top of the stack ie the last item that was added to the top will be popped off when pop is called so when a function/method returns our exits and function/methods activation frame is taken off the stack and each time a function/method is actually invoked that will be like a push the function/methods activation frame record replaced on top of the stack so the stack is kind of a way for us to visualise which function/methods activation frames are active at any one time and the activation frame for a function/method is just very simply a record that has been called and what parameters were passed in and at what point in its flow of control it is so lets use the stack as a technique to visualise what happens whenever recursive calls are made so were going to use the same example from before with the main function/method and the fCount function/method and we have here different times that sort these arent necessarily representing seconds or any particular unit of time which is the sequence of steps so we have time 12345 etc so theyre just different steps if you like so at times zero or before weve actually called the main function/method we have an empty stack there that our program hasnt started running at time one we make a call to the main function/method first and then well push the activation frame for the main function/method onto the stack so that will be pushed onto the stack for us by the computer a time to or the next step the main function/method will call the fCount function/method and it will pass in the value zero there so the activation frame for ``ffCount(0)`` will be passed in then inside fCount with the call zero it will print out the value of index which is currently zero and then if index is less than two the current function/method will be called again with the value index plus one so at the next time frame well see that fCount one has been pushed onto the stack so fCount with the value one passed in has been pushed onto the stack so you can see there are stack of function/methods building up so we have the activation frame now at time three we have the activation frame for the main function/method the fCount with call zero and the fCount with call one so inside the fCount function/method when the value one is passed in we print out the index which is one at this point and then if the index is less than two call the fCount function/method again and increment the value of index by one so the next call made will be fCount two so a time for fCount two will be pushed onto the stack now you can see we have four activation frames on the stack at this point so inside fCount two it will print the value of index which is two this time and then the condition if index is less than two that will fail because that will return false so that condition now fails and hence the recursion stops and what happens after that is that fCount all of the activation frames will actually return the control to their caller so fCount two will be popped off the stack fCount one will be popped off the stack ``ffCount(0)`` will be popped off the stack and then finally if the main function/method has finished running then that will be popped off the stack also and that will be the process followed when this program is brought so now that weve looked at some simple examples of how recursion works and the process of making recursive calls from a function/method\n",
    "\n",
    "i suppose we need to talk a little bit about why we might actually want to use recursion at all in the first place well with the technique of recursion it allows us to solve a problem as well larger problem we can solve that by breaking it up into smaller instances of the same problem essentially and thats actually a very powerful and semantically powerful way to tackle a programming problem so there are many many problems which are more easily solved by using recursive approach or more concisely solved by using a recursive approach examples of those would be repetitive it operations like traversing through the directories of a file system traversing through a tree of search results and of course there are some sorting algorithms which are recursive in nature which we will talk about later on in this course a prime example of that would be the merge sort algorithm so really recursion is very very useful when we talk about i guess the file directory traversal problem so think about if you have your c drive on your computer and then you might have a folder in there called program files and then you might have a folder for java and then within there you may have a folder for your java development kit and within that there may be a folder called binary\n",
    "\n",
    "and in there your java c compiler would be stored so if you wanted to get from lets say the root of your c drive and you wanted to search down through all the directories in turn and search for a specific file\n",
    "\n",
    "that would be a recursive problem because in fact youre moving through a directory looking at everything in the directory and then youre going to move down to the next step and the next step and the next step and so forth so its its actually a problem that is naturally recursive in nature so with problems that have these kind of features where they can be broken down into smaller instances of this same problem essentially recursion is very useful because it often leads to cleaner and more concise code and that leads to easier maintainability and it actually becomes easier to understand once you understand the principles of recursion and how it works recursively recursive functions can quite succinctly do the work of an iterative approach with a lot less code in a lot cleaner manner so he said that recursion in many cases is actually an alternative to to iteration and its important to note that any set of tasks which you could accomplish using recursive procedure you can also accomplish those tasks by using it an iterative procedure or any sort of algorithm recursion is also an expensive way to design algorithms what do i mean by expensive well the expensive recursion lies with the fact that multiple activation frames will be active for the function/method at any one point and there is overhead involved with calling with every function/method call that we wish to make so you could see that in the example where we had the stack earlier on that even for a very simple function/method you know with just a simple call we ended up to print out the numbers 01 and two to the console we actually needed to have three function/method activation frames on the stack and three separate function/method calls whereas obviously that could easily be achieved just using an iterative approach if you had a for loop to print out 01 to one you know thats not a good example of when we might want to use recursion but its a simple example to demonstrate how recursion actually works and so if both of the above statements are true you know if we say that any task which could be accomplished in a recursive fashion could also be accomplished using iteration and that recursion is expensive or that involves additional overhead when compared to an iterative approach if both of those statements are true why would we actually want to use recursion or what would be the the use cases so in many cases the extra expense of recursion if you like or the extra complexity there in terms of the running time its far outweighed by having a simpler cleaner algorithm which leads to an implementation which is in general easier to code so were happy to make some sacrifices there in terms of the overhead involved in function/method calls etc if we can really clean up the code and make it far more concise and simpler and easier to understand and you know recursive calls i guess happening in real life or their real life situations where recursion would occur and it ends up being the natural solution ultimately the recursion would be eliminated anyway when the compiler gets down to the level of creating assembly language by implementing the stack so in general if the recursion tree or the recursion process as a very simple form and there are a lot of i guess repeated tasks the iterative version may in fact be better if we have a recursion tree that appears quite bushy so by bushy i mean that there are a lot of different cases and a lot of different branches and ways that task could go goal recursion is more likely to be at the natural solution if there are very few you know duplicate tasks and that theyre in fact tasks that are very very similar with different instances of the same problem so lets just talk quickly about some of the different types of recursion that that could happen so\n",
    "\n",
    "linear recursion is the most simple type and in linear regression what we mean by linear is that the number of activation frames or the number of calls in the recursion grows in a linear manner so it matters which is linearly recursive is a function/method which makes a single call to itself within the function/method body next after that we have tail recursion so tail recursion is a specific type of linear recursion so in tail recursion the function/method and makes a single call to itself but notice that it sets as the very last operation in the function/method so our example with the fCount function/method from earlier on was an example of linear recursion and it was also an example of tail recursion as well because the very last operation within the function/method is in fact a recursive call to itself so thats an example of tail recursion as well then we have binary recursion so in binary recursion as opposed to linear recursion in the in that case a recursive function/method would make two calls to itself within the function/method body so obviously that leads to a much larger growth rate as we get to different nested levels of recursion when you compare it to an implementation that only uses linear regression and then finally we have multiple recursion or exponential recursion and that is where a function/method makes more than to call recursive calls which says within the function/method body so again we want to try to avoid binary recursion if we cant and we want to try to avoid exponential recursion absolutely as much as possible because in that case even when we go into just a few let nested levels of recursion we end up with exponential growth in the number of function/method activation frames and it becomes inefficient so just to talk specifically about tail recursion for a minute we said thats when tail tail recursion is when the last operation in a function/method is just a single recursive call so every time that function/method is invoked the function/methods activation frame or record will be placed on top of the program stack as we saw in the case of tail recursion thats something we want to avoid mostly because there are multiple active stack frames which are unnecessary because they have finished their work in tail recursion and so its okay to use it sometimes but just to be aware that it can be expensive and inefficient because we end up with all these activation frame records still taking up space on the stack even though theyve actually completed their work completed their task and its right at the end of the function/method so we should really use tail recursion sparingly and carefully now lets consider some common problems or errors which crop up when people are designing recursive implementations or designing recursive algorithms and then go on to implement them the first well look at is infinite recursion and infinite recursion occurs when a recursive function/method does not have a base case what do i mean by that with lets consider the code sample on the right very very simply this is a function/method that has no return so its a void return and it takes as a\n",
    "\n",
    "parameter\n",
    "\n",
    "an integer called x and within that function/method body we call the inference function/method again and this time we pass in the value x minus one\n",
    "\n",
    "so if we call infinite one the next call will be infinite with the value zero\n",
    "\n",
    "then the next call will be infinite with the value minus one then the next call will be infinite with the value of minus two and so on and so forth and that function/method would actually never stop making recursive calls and it doesnt matter what value is input there as x as the input parameter that function/method will keep making recursive calls to itself and this is quite different there to an infinite loop so you know in your his review of approaches or your issues of design paradigm lets say you have a for loop and you dont have the conditions set up in the right way or maybe more often a while loop and the condition in the while loop never becomes false and the loop therefore never exits in that case youll get an infinite loop and infinite recursion is similar in a way but in fact maybe even a little more i guess informative when it goes wrong or a little bit more noticeable when it goes wrong then an infinite loop and why is that? well its because of what we saw earlier in terms of the activation frames of recursive calls being kept on the stack so that function/method theyre infinite if you were to run that lets say implemented in java and run it you will get whats called a stack overflow error eventually how long it would take to reach that would depend on how much memory you have available to your java virtual machine and by extension how much memory you have available to your computer but in a nutshell that function/method would keep making recursive calls to itself and well keep adding activation frames to the stack until the stack overflow error occurs and that basically means that the recursive calls have taken up all the available memory so thats where the name stack overflow actually comes from is from stack overflow errors ie all the all the available memory in the jvm being taken up so how do we protect against that? well we need whats called a base case and a base case very simply is a case are a set of input parameters for the recursive function/method which can be solved without recursion so in the fCount function/method that we had before where is cause fCount with the incremented value of the input value index then the next call would call index plus one and so on and so forth but we had a condition in there if you remember and the condition was if x is less than two so x being equal to two are greater than two is the base case for that particular algorithm and weve talked a little bit more about base cases later on another problem which we may enfCounter when designing or implementing recursive algorithms is that of circular recursion and circular recursion is a specific form of infinite recursion when recursive calls stop making progress towards the base case are they do not make progress towards a case which can actually be solved without recursion so lets just consider the simple function/method to the right which is called circular and it has a void return type so it doesnt return any value and it takes as input a parameter called x which will be an integer and in this function/method if the value of x is equal to one well make a call to circular x plus one and otherwise well never call the circular x minus one so if we were to input the value one here what would happen is we call it circular one and the next call would be to circular with the value two then following that there would be a call to circular with the value one and then another call to the event circular with the value two and then one and then two etc and if we keep going back and forth like that that would be an example of circular recursion as with the infinite recursion example that we had on the previous slide again this function/method would keep making recursive calls to itself until basically the memory available ran out or until a stack overflow error occurs and this would be again because\n",
    "\n",
    "multiple activation frames are added so a new activation frame is added with every recursive call to the function/method but none of the actual recursive calls would ever return so the recursive calls would have taken up all available memory so just like infinite recursion circular recursion is something to watch out for when youre designing and implementing recursive algorithms so how do we avoid such problems but we need to have some rules that were going to consider when were implementing our recursive algorithms and there are four basic rules that we have for recursive algorithms rule number one is that we must have a base case so a recursive algorithm must always have a base case which can be solved without recursion and we saw in the example with the fCount function/method that the base case there was in fact if the value of fCount reached two that would be solved with out recursion so any call to the fCount function/method with a value of two or above can be solved without recursion that means wed have a base case and function/methods without a base case would of course result in infinite recursion when theyre running so its very important to consider a base case or a simple instance of the problem which can be solved without recursion rule number two is that with every recursive call we must make progress towards that base case our base cases we could have more than one base case but we have to make progress towards the base case in each recursive call so for cases that are to be resolved solved recursively the next call must be a case that makes progress towards the base case function/methods that do not follow this rule ie they do not make progress towards the base case would result in circular recursion when theyre wrong like in the example on the previous slide the third rule when designing recursive algorithms is called the design rule and the design rule has to assume that all the recursive calls which we make will work what do we mean by that? well really we mean that if were at a higher level in recursion we assume that the next recursive call that we make will carry out his task as expected and will return so we have to assume that any recursive call that were going to make will follow basically the previous two rules that it will make progress towards the base case and that it will actually reach that base case eventually and that eventually all the nested levels of recursion will return one by one and that those will work as expected the final rule for recursive algorithms and this rule relates to efficiency or efficient use of computational resources this is called the compound interest rule and the compound interest rule says that we should never duplicate work by solving the same instance of a problem in separate recursive calls so we should structure our recursive algorithm in such a way that we are not actually repeating the same work or the same call over and over again in separate recursive instances because thats not a good use of computation resources and if we find in fact that we are i guess duplicating a lot of the same types of calls are same problem instances then in that case we should probably look at an iterative approach or an iterative implementation to solve our problem instead of using recursion so taking all of that together as a whole all the issues weve talked about so far in relation to recursive algorithms how would we actually go about designing and implementing recursive algorithm? well the very first and most fundamental step which we must take is to just think about the task which you wish to accomplish and we try to identify any recurring patterns or any patterns that wed see again so basically we look out for similar operations that must be conducted for example the trevor traversing through nested directories on a file system problem thats a problem that naturally lends itself to recursion\n",
    "\n",
    "or to a recursive solution so that process of looking through every file in the directory and see if we want to search for a file and then going into the directory below it or etc that is a fundamentally recursive process so we want to maybe divide that problem up using these recurring operations so the idea of maybe looking at every file in a folder and then moving on to the next four folder below you know that would be the most fundamental recurring operation that happens when were traversing through directories in a file system so after weve broken our larger problem up into the smallest i guess instance that we can the smallest recording instance and then we need to identify those cases which we know could be solved without recursion so that could be a single base case or you could have multiple base cases and in the example of traversing through directories on a file system that would be the deepest nested directory on the file system for example would be the recursive case because no more recursive calls would happen below that are nested deeper within so once weve divided the problem up we need to identify those cases which could be solved without recursion and so a good or well designed recursive algorithm would not end in a multitude of special cases rather the goal for us is to identify just one simple base case are just a very few very simple base cases that could be solved without recursion and those will actually act as a stop or prevent infinite recursion then we need to design our algorithm in such a way that will invoke a new copy of the function/method with each recursive step and will modify the input parameters so each recursive call would have like a different initialisation conditions are a different input and each recursive stack will then actually resemble the original larger problem and then finally with each recursive step or each recursive call we want to ensure that were going to make progress towards the base case our base cases with each successive call taking that all information that that how one would divide a problem up and begin to think about how to solve it in a recursive fashion so just to recap quickly on the material we covered today the main takeaway concept here is that recursion allows us to solve some problem by breaking it up into smaller instances of the same problem and therefore a recursive function/method is a function/method which calls itself within its own function/method body so we may want to use recursion versus an iterative approach because it allows for cleaner code and intuitively some problems may be more easily solved by taking a recursive approach so it quite often leads to cleaner code that is more maintainable and easier to understand we also examined some of the main design rules for recursive algorithms and we illustrate the importance of a base case in recursion where we said that a base case is a case which can be solved without recursion so it is an input instance for the algorithm or for the function/method which may be solved without making a recursive call so in the next lecture were going to consider some example problems which may be solved using recursion\n",
    "-->"
   ]
  },
  {
   "cell_type": "markdown",
   "id": "color-boating",
   "metadata": {},
   "source": [
    "< [Table of Contents](#top) | [References](#references) >\n",
    "<a id=\"Stack\"></a>\n",
    "### Stack\n",
    "***"
   ]
  },
  {
   "cell_type": "markdown",
   "id": "native-steering",
   "metadata": {},
   "source": [
    "- program stack operates like a container of trays in a cafeteria: i) add a tray on the top and/or; ii) remove a tray off the top [1]"
   ]
  },
  {
   "cell_type": "markdown",
   "id": "protecting-tamil",
   "metadata": {},
   "source": [
    "- stack operations: i) ``push`` pushes something onto the stack (always placed on the top of the stack) and ii)``pop`` pops something off the top of the stack (last item added to the top will be popped off when pop is called) [1]"
   ]
  },
  {
   "cell_type": "markdown",
   "id": "institutional-costs",
   "metadata": {},
   "source": [
    "- each time a process is invoked (``push``) its activation frame (record) is placed on top of the stack - the activation frame is just a record of: i) the process called; ii) parameters passed and; iii) its flow of control it is in [1]"
   ]
  },
  {
   "cell_type": "markdown",
   "id": "assigned-terrain",
   "metadata": {},
   "source": [
    "- when a process returns/exits (``pop``) its activation frame (record) is taken off the stack [1]"
   ]
  },
  {
   "cell_type": "markdown",
   "id": "outer-commerce",
   "metadata": {},
   "source": [
    "- the stack is way to visualise which process activation frames (records) are active at any one time [1]"
   ]
  },
  {
   "cell_type": "code",
   "execution_count": 1,
   "id": "accessible-executive",
   "metadata": {},
   "outputs": [],
   "source": [
    "nProcess=None"
   ]
  },
  {
   "cell_type": "code",
   "execution_count": 2,
   "id": "governing-discretion",
   "metadata": {},
   "outputs": [
    {
     "data": {
      "text/plain": [
       "'<PROCESS> <invoke> None'"
      ]
     },
     "execution_count": 2,
     "metadata": {},
     "output_type": "execute_result"
    }
   ],
   "source": [
    "\"<PROCESS> <invoke> {}\".format(nProcess)"
   ]
  },
  {
   "cell_type": "code",
   "execution_count": 3,
   "id": "colored-olive",
   "metadata": {},
   "outputs": [],
   "source": [
    "nRecord=[]; nRecord.append(\"Empty Stack\"); nTime=0"
   ]
  },
  {
   "cell_type": "code",
   "execution_count": 4,
   "id": "revolutionary-expression",
   "metadata": {},
   "outputs": [
    {
     "data": {
      "text/plain": [
       "'<STACK> <activation frame(s)> Empty Stack <time/active> 0'"
      ]
     },
     "execution_count": 4,
     "metadata": {},
     "output_type": "execute_result"
    }
   ],
   "source": [
    "\"<STACK> <activation frame(s)> {} <time/active> {}\".format(nRecord[0],nTime)"
   ]
  },
  {
   "cell_type": "markdown",
   "id": "finite-oliver",
   "metadata": {},
   "source": [
    "![main-call-alpha](https://github.com/SeanOhAileasa/SeanOhAileasa/blob/master/img/cta/recursion/stack/04-1-04.png?raw=true)\n",
    "\n",
    "***(Image) P. Mannion, \"05 Recursive Algorithms Part 1 (Java +Python),\" GMIT, February 2019.***"
   ]
  },
  {
   "cell_type": "code",
   "execution_count": 5,
   "id": "brilliant-senior",
   "metadata": {},
   "outputs": [],
   "source": [
    "nRecord=[]; nProcess=__name__"
   ]
  },
  {
   "cell_type": "code",
   "execution_count": 6,
   "id": "recreational-gilbert",
   "metadata": {},
   "outputs": [
    {
     "data": {
      "text/plain": [
       "'<PROCESS> <invoke> __main__'"
      ]
     },
     "execution_count": 6,
     "metadata": {},
     "output_type": "execute_result"
    }
   ],
   "source": [
    "\"<PROCESS> <invoke> {}\".format(nProcess)"
   ]
  },
  {
   "cell_type": "code",
   "execution_count": 7,
   "id": "radical-sierra",
   "metadata": {},
   "outputs": [],
   "source": [
    "nRecord.append(nProcess); nTime+=1"
   ]
  },
  {
   "cell_type": "code",
   "execution_count": 8,
   "id": "usual-liberal",
   "metadata": {},
   "outputs": [
    {
     "data": {
      "text/plain": [
       "'<STACK> <push> __main__ <activation frame(s)> __main__ <time/active> 1'"
      ]
     },
     "execution_count": 8,
     "metadata": {},
     "output_type": "execute_result"
    }
   ],
   "source": [
    "\"<STACK> <push> {} <activation frame(s)> {} <time/active> {}\".format(nProcess,nRecord[0],nTime)"
   ]
  },
  {
   "cell_type": "markdown",
   "id": "induced-greece",
   "metadata": {},
   "source": [
    "![main-call-alpha](https://github.com/SeanOhAileasa/SeanOhAileasa/blob/master/img/cta/recursion/stack/04-1-05.png?raw=true)\n",
    "\n",
    "***(Image) P. Mannion, \"05 Recursive Algorithms Part 1 (Java +Python),\" GMIT, February 2019.***"
   ]
  },
  {
   "cell_type": "code",
   "execution_count": 9,
   "id": "fabulous-glance",
   "metadata": {},
   "outputs": [
    {
     "name": "stdout",
     "output_type": "stream",
     "text": [
      "# repository ./fubar-python\r\n",
      "def fCount(nParIndex):\r\n",
      "    \"\"\"Recursive process.\r\n",
      "\r\n",
      "Input: nParIndex\r\n",
      "Process: print Input; if Input<2 then call fCount passing Input+1\r\n",
      "Output: sequence 0, 1, 2\r\n",
      "\"\"\"\r\n",
      "    print(nParIndex)\r\n",
      "    if nParIndex<2:\r\n",
      "        fCount(nParIndex+1)\r\n",
      "# -- END ---\r\n"
     ]
    }
   ],
   "source": [
    "%%script bash\n",
    "grep -1 \"def fCount\" ../src/fubar.py -A 10"
   ]
  },
  {
   "cell_type": "code",
   "execution_count": 10,
   "id": "humanitarian-radio",
   "metadata": {},
   "outputs": [],
   "source": [
    "from sys import path; path.insert(1,\"../src\")"
   ]
  },
  {
   "cell_type": "code",
   "execution_count": 11,
   "id": "executed-mixture",
   "metadata": {},
   "outputs": [
    {
     "data": {
      "text/html": [
       "<style>.container { width:100% !important; }</style>"
      ],
      "text/plain": [
       "<IPython.core.display.HTML object>"
      ]
     },
     "metadata": {},
     "output_type": "display_data"
    }
   ],
   "source": [
    "from fubar import fCount"
   ]
  },
  {
   "cell_type": "code",
   "execution_count": 12,
   "id": "addressed-tomorrow",
   "metadata": {},
   "outputs": [],
   "source": [
    "nArgument=0; nParameter=nArgument; nProcess=fCount.__name__+\"(\"+str(nParameter)+\")\""
   ]
  },
  {
   "cell_type": "code",
   "execution_count": 13,
   "id": "scientific-canon",
   "metadata": {},
   "outputs": [
    {
     "data": {
      "text/plain": [
       "'__main__ <PROCESS> <invoke> fCount(0)'"
      ]
     },
     "execution_count": 13,
     "metadata": {},
     "output_type": "execute_result"
    }
   ],
   "source": [
    "\"{} <PROCESS> <invoke> {}\".format(__name__,nProcess)"
   ]
  },
  {
   "cell_type": "code",
   "execution_count": 14,
   "id": "strong-shopper",
   "metadata": {},
   "outputs": [],
   "source": [
    "nRecord.append(nProcess); nTime+=1"
   ]
  },
  {
   "cell_type": "code",
   "execution_count": 15,
   "id": "suspected-charlotte",
   "metadata": {},
   "outputs": [
    {
     "data": {
      "text/plain": [
       "\"<STACK> <push> fCount(0) <activation frame(s)> ['__main__', 'fCount(0)'] <time/active> 2\""
      ]
     },
     "execution_count": 15,
     "metadata": {},
     "output_type": "execute_result"
    }
   ],
   "source": [
    "\"<STACK> <push> {} <activation frame(s)> {} <time/active> {}\".format(nProcess,nRecord,nTime)"
   ]
  },
  {
   "cell_type": "markdown",
   "id": "invalid-conservation",
   "metadata": {},
   "source": [
    "![main-call-alpha](https://github.com/SeanOhAileasa/SeanOhAileasa/blob/master/img/cta/recursion/stack/04-1-06.png?raw=true)\n",
    "\n",
    "***(Image) P. Mannion, \"05 Recursive Algorithms Part 1 (Java +Python),\" GMIT, February 2019.***"
   ]
  },
  {
   "cell_type": "code",
   "execution_count": 16,
   "id": "embedded-associate",
   "metadata": {},
   "outputs": [
    {
     "data": {
      "text/plain": [
       "'<PROCESS> <invoke> print(0)'"
      ]
     },
     "execution_count": 16,
     "metadata": {},
     "output_type": "execute_result"
    }
   ],
   "source": [
    "\"<PROCESS> <invoke> {}\".format(print.__name__+\"(\"+str(nParameter)+\")\")"
   ]
  },
  {
   "cell_type": "code",
   "execution_count": 17,
   "id": "mineral-playing",
   "metadata": {},
   "outputs": [
    {
     "data": {
      "text/plain": [
       "'<RECURSION> <base case> True'"
      ]
     },
     "execution_count": 17,
     "metadata": {},
     "output_type": "execute_result"
    }
   ],
   "source": [
    "\"<RECURSION> <base case> {}\".format(nParameter<2)"
   ]
  },
  {
   "cell_type": "code",
   "execution_count": 18,
   "id": "theoretical-manufacturer",
   "metadata": {},
   "outputs": [],
   "source": [
    "nParameter+=1; nProcess=fCount.__name__+\"(\"+str(nParameter)+\")\""
   ]
  },
  {
   "cell_type": "code",
   "execution_count": 19,
   "id": "stainless-advancement",
   "metadata": {},
   "outputs": [
    {
     "data": {
      "text/plain": [
       "'<PROCESS> <invoke> fCount(1)'"
      ]
     },
     "execution_count": 19,
     "metadata": {},
     "output_type": "execute_result"
    }
   ],
   "source": [
    "\"<PROCESS> <invoke> {}\".format(nProcess)"
   ]
  },
  {
   "cell_type": "code",
   "execution_count": 20,
   "id": "inside-structure",
   "metadata": {},
   "outputs": [],
   "source": [
    "nRecord.append(nProcess); nTime+=1"
   ]
  },
  {
   "cell_type": "code",
   "execution_count": 21,
   "id": "wooden-helicopter",
   "metadata": {},
   "outputs": [
    {
     "data": {
      "text/plain": [
       "\"<STACK> <push> fCount(1) <activation frame(s)> ['__main__', 'fCount(0)', 'fCount(1)'] <time/active> 3\""
      ]
     },
     "execution_count": 21,
     "metadata": {},
     "output_type": "execute_result"
    }
   ],
   "source": [
    "\"<STACK> <push> {} <activation frame(s)> {} <time/active> {}\".format(nProcess,nRecord,nTime)"
   ]
  },
  {
   "cell_type": "markdown",
   "id": "permanent-honor",
   "metadata": {},
   "source": [
    "![main-call-alpha](https://github.com/SeanOhAileasa/SeanOhAileasa/blob/master/img/cta/recursion/stack/04-1-07.png?raw=true)\n",
    "\n",
    "***(Image) P. Mannion, \"05 Recursive Algorithms Part 1 (Java +Python),\" GMIT, February 2019.***"
   ]
  },
  {
   "cell_type": "code",
   "execution_count": 22,
   "id": "upper-conflict",
   "metadata": {},
   "outputs": [
    {
     "data": {
      "text/plain": [
       "'<PROCESS> <invoke> print(1)'"
      ]
     },
     "execution_count": 22,
     "metadata": {},
     "output_type": "execute_result"
    }
   ],
   "source": [
    "\"<PROCESS> <invoke> {}\".format(print.__name__+\"(\"+str(nParameter)+\")\")"
   ]
  },
  {
   "cell_type": "code",
   "execution_count": 23,
   "id": "neural-dynamics",
   "metadata": {},
   "outputs": [
    {
     "data": {
      "text/plain": [
       "'<RECURSION> <base case> True'"
      ]
     },
     "execution_count": 23,
     "metadata": {},
     "output_type": "execute_result"
    }
   ],
   "source": [
    "\"<RECURSION> <base case> {}\".format(nParameter<2)"
   ]
  },
  {
   "cell_type": "code",
   "execution_count": 24,
   "id": "deluxe-swing",
   "metadata": {},
   "outputs": [],
   "source": [
    "nParameter+=1; nProcess=fCount.__name__+\"(\"+str(nParameter)+\")\""
   ]
  },
  {
   "cell_type": "code",
   "execution_count": 25,
   "id": "stupid-migration",
   "metadata": {},
   "outputs": [
    {
     "data": {
      "text/plain": [
       "'<PROCESS> <invoke> fCount(2)'"
      ]
     },
     "execution_count": 25,
     "metadata": {},
     "output_type": "execute_result"
    }
   ],
   "source": [
    "\"<PROCESS> <invoke> {}\".format(nProcess)"
   ]
  },
  {
   "cell_type": "code",
   "execution_count": 26,
   "id": "fluid-browser",
   "metadata": {},
   "outputs": [],
   "source": [
    "nRecord.append(nProcess); nTime+=1"
   ]
  },
  {
   "cell_type": "code",
   "execution_count": 27,
   "id": "coated-smooth",
   "metadata": {},
   "outputs": [
    {
     "data": {
      "text/plain": [
       "\"<STACK> <push> fCount(2) <activation frame(s)> ['__main__', 'fCount(0)', 'fCount(1)', 'fCount(2)'] <time/active> 4\""
      ]
     },
     "execution_count": 27,
     "metadata": {},
     "output_type": "execute_result"
    }
   ],
   "source": [
    "\"<STACK> <push> {} <activation frame(s)> {} <time/active> {}\".format(nProcess,nRecord,nTime)"
   ]
  },
  {
   "cell_type": "markdown",
   "id": "earned-wrapping",
   "metadata": {},
   "source": [
    "![main-call-alpha](https://github.com/SeanOhAileasa/SeanOhAileasa/blob/master/img/cta/recursion/stack/04-1-08.png?raw=true)\n",
    "\n",
    "***(Image) P. Mannion, \"05 Recursive Algorithms Part 1 (Java +Python),\" GMIT, February 2019.***"
   ]
  },
  {
   "cell_type": "code",
   "execution_count": 28,
   "id": "brazilian-design",
   "metadata": {
    "scrolled": true
   },
   "outputs": [
    {
     "data": {
      "text/plain": [
       "'<PROCESS> <invoke> print(2)'"
      ]
     },
     "execution_count": 28,
     "metadata": {},
     "output_type": "execute_result"
    }
   ],
   "source": [
    "\"<PROCESS> <invoke> {}\".format(print.__name__+\"(\"+str(nParameter)+\")\")"
   ]
  },
  {
   "cell_type": "code",
   "execution_count": 29,
   "id": "considered-desktop",
   "metadata": {},
   "outputs": [
    {
     "data": {
      "text/plain": [
       "'<RECURSION> <base case> False'"
      ]
     },
     "execution_count": 29,
     "metadata": {},
     "output_type": "execute_result"
    }
   ],
   "source": [
    "\"<RECURSION> <base case> {}\".format(nParameter<2)"
   ]
  },
  {
   "cell_type": "markdown",
   "id": "precise-chair",
   "metadata": {},
   "source": [
    "- recursion stops [1]"
   ]
  },
  {
   "cell_type": "markdown",
   "id": "phantom-committee",
   "metadata": {},
   "source": [
    "- all activation frames return control to their caller - popped off the stack [1]"
   ]
  },
  {
   "cell_type": "code",
   "execution_count": 30,
   "id": "phantom-setup",
   "metadata": {},
   "outputs": [
    {
     "data": {
      "text/plain": [
       "\"<STACK> <pop> fCount(2) <activation frame(s)> ['__main__', 'fCount(0)', 'fCount(1)']\""
      ]
     },
     "execution_count": 30,
     "metadata": {},
     "output_type": "execute_result"
    }
   ],
   "source": [
    "\"<STACK> <pop> {} <activation frame(s)> {}\".format(nRecord.pop(),nRecord)"
   ]
  },
  {
   "cell_type": "code",
   "execution_count": 31,
   "id": "married-blank",
   "metadata": {},
   "outputs": [
    {
     "data": {
      "text/plain": [
       "\"<STACK> <pop> fCount(1) <activation frame(s)> ['__main__', 'fCount(0)']\""
      ]
     },
     "execution_count": 31,
     "metadata": {},
     "output_type": "execute_result"
    }
   ],
   "source": [
    "\"<STACK> <pop> {} <activation frame(s)> {}\".format(nRecord.pop(),nRecord)"
   ]
  },
  {
   "cell_type": "code",
   "execution_count": 32,
   "id": "impressed-homework",
   "metadata": {},
   "outputs": [
    {
     "data": {
      "text/plain": [
       "\"<STACK> <pop> fCount(0) <activation frame(s)> ['__main__']\""
      ]
     },
     "execution_count": 32,
     "metadata": {},
     "output_type": "execute_result"
    }
   ],
   "source": [
    "\"<STACK> <pop> {} <activation frame(s)> {}\".format(nRecord.pop(),nRecord)"
   ]
  },
  {
   "cell_type": "markdown",
   "id": "liberal-barbados",
   "metadata": {},
   "source": [
    "- ``main`` stops running then also popped off the stack [1]"
   ]
  },
  {
   "cell_type": "code",
   "execution_count": 33,
   "id": "linear-mouse",
   "metadata": {},
   "outputs": [
    {
     "data": {
      "text/plain": [
       "'<STACK> <pop> __main__ <activation frame(s)> []'"
      ]
     },
     "execution_count": 33,
     "metadata": {},
     "output_type": "execute_result"
    }
   ],
   "source": [
    "\"<STACK> <pop> {} <activation frame(s)> {}\".format(nRecord.pop(),nRecord)"
   ]
  },
  {
   "cell_type": "markdown",
   "id": "existing-blogger",
   "metadata": {},
   "source": [
    "![main-call-alpha](https://github.com/SeanOhAileasa/SeanOhAileasa/blob/master/img/cta/recursion/stack/04-1-09.png?raw=true)\n",
    "\n",
    "***(Image) P. Mannion, \"05 Recursive Algorithms Part 1 (Java +Python),\" GMIT, February 2019.***"
   ]
  },
  {
   "cell_type": "code",
   "execution_count": 34,
   "id": "insured-composer",
   "metadata": {},
   "outputs": [],
   "source": [
    "exit()"
   ]
  },
  {
   "cell_type": "markdown",
   "id": "drawn-panama",
   "metadata": {},
   "source": [
    "<!-- - refer [Appendix](#appendix-df) to view the full dataset <a id=\"go-back-df\"></a> -->\n",
    "<!-- print(fGetModuleType(___x___),fDocumentation(___x___)) -->\n",
    "***\n",
    "## END"
   ]
  },
  {
   "cell_type": "markdown",
   "id": "upset-cricket",
   "metadata": {},
   "source": [
    "< [Table of Contents](#top) | [Abstract](#abstract) | [Introduction](#introduction) | [Solution](#solution) | [References](#references) >\n",
    "<a id=\"conclusion\"></a>\n",
    "***\n",
    "## Conclusion\n",
    "***"
   ]
  },
  {
   "cell_type": "markdown",
   "id": "dynamic-titanium",
   "metadata": {},
   "source": [
    "&#x1F6A7;"
   ]
  },
  {
   "cell_type": "markdown",
   "id": "psychological-crime",
   "metadata": {},
   "source": [
    "<!-- print(fGetModuleType(___x___),fDocumentation(___x___)) -->\n",
    "***\n",
    "## END"
   ]
  },
  {
   "cell_type": "markdown",
   "id": "polish-commissioner",
   "metadata": {},
   "source": [
    "< [Table of Contents](#top) | [Abstract](#abstract) | [Introduction](#introduction) | [Solution](#solution) | [Conclusion](#conclusion) | [References](#references) >\n",
    "<a id=\"references\"></a>\n",
    "***\n",
    "## References\n",
    "***\n",
    "&nbsp;&nbsp;&nbsp;&nbsp;&nbsp;&nbsp;&nbsp;&nbsp;&nbsp;[1] P. Mannion, \"05 Recursive Algorithms Part 1 (Java +Python),\" GMIT, February 2019."
   ]
  },
  {
   "cell_type": "markdown",
   "id": "ancient-weekly",
   "metadata": {},
   "source": [
    "***\n",
    "## END"
   ]
  },
  {
   "cell_type": "markdown",
   "id": "twenty-cooper",
   "metadata": {},
   "source": [
    "< [Table of Contents](#top) | [Abstract](#abstract) | [Introduction](#introduction) | [Solution](#solution) | [Conclusion](#conclusion) | [References](#references) >\n",
    "<a id=\"appendix\"></a>\n",
    "***\n",
    "## Appendix\n",
    "***"
   ]
  },
  {
   "cell_type": "markdown",
   "id": "cathedral-purchase",
   "metadata": {},
   "source": [
    "<a id=\"appendix-some-reference\"></a>\n",
    "< [Go Back](#top) >"
   ]
  },
  {
   "cell_type": "markdown",
   "id": "plastic-mentor",
   "metadata": {},
   "source": [
    "###### Github\n",
    "***"
   ]
  },
  {
   "cell_type": "markdown",
   "id": "structural-alberta",
   "metadata": {},
   "source": [
    "```\n",
    "git push -f origin HEAD^:master && git reset HEAD~\n",
    "```"
   ]
  },
  {
   "cell_type": "markdown",
   "id": "recent-devon",
   "metadata": {},
   "source": [
    "###### Functions\n",
    "***"
   ]
  },
  {
   "cell_type": "markdown",
   "id": "inclusive-banana",
   "metadata": {},
   "source": [
    "```python\n",
    "# %%writefile -a ../src/fubar.py\n",
    "# repository ./fubar-python\n",
    "def f():\n",
    "    \"\"\"\n",
    "\n",
    "Input:\n",
    "Process:\n",
    "Output:\n",
    "\"\"\"\n",
    "    pass\n",
    "# -- END ---\n",
    "```"
   ]
  },
  {
   "cell_type": "markdown",
   "id": "blond-roberts",
   "metadata": {},
   "source": [
    "```\n",
    "git commit -m \"update repository ./fubar-python - Everything in python is an object.\"\n",
    "```"
   ]
  },
  {
   "cell_type": "markdown",
   "id": "three-medium",
   "metadata": {},
   "source": [
    "###### Tables\n",
    "***"
   ]
  },
  {
   "cell_type": "markdown",
   "id": "continent-shipping",
   "metadata": {},
   "source": [
    "|aaa|bbbbbb|ccccccccc|\n",
    "|:------------------------- | :------------------------- | :------------------------- |\n",
    "|aaa|bbbbbb|ccccccccc|"
   ]
  },
  {
   "cell_type": "markdown",
   "id": "through-cable",
   "metadata": {},
   "source": [
    "***\n",
    "## END"
   ]
  },
  {
   "cell_type": "markdown",
   "id": "bacterial-perfume",
   "metadata": {},
   "source": [
    "# END JUPYTER NOTEBOOK"
   ]
  }
 ],
 "metadata": {
  "kernelspec": {
   "display_name": "Python 3",
   "language": "python",
   "name": "python3"
  },
  "language_info": {
   "codemirror_mode": {
    "name": "ipython",
    "version": 3
   },
   "file_extension": ".py",
   "mimetype": "text/x-python",
   "name": "python",
   "nbconvert_exporter": "python",
   "pygments_lexer": "ipython3",
   "version": "3.8.3"
  }
 },
 "nbformat": 4,
 "nbformat_minor": 5
}
