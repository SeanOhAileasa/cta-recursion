{
 "cells": [
  {
   "cell_type": "code",
   "execution_count": null,
   "id": "whole-charter",
   "metadata": {},
   "outputs": [
    {
     "data": {
      "text/html": [
       "<script>Jupyter.notebook.kernel.restart()</script>"
      ]
     },
     "metadata": {},
     "output_type": "display_data"
    }
   ],
   "source": [
    "from IPython.core.display import display_html\n",
    "display_html(\"<script>Jupyter.notebook.kernel.restart()</script>\",raw=True)"
   ]
  },
  {
   "cell_type": "code",
   "execution_count": 1,
   "id": "broken-gardening",
   "metadata": {},
   "outputs": [
    {
     "data": {
      "text/html": [
       "<style>.container { width:100% !important; }</style>"
      ],
      "text/plain": [
       "<IPython.core.display.HTML object>"
      ]
     },
     "metadata": {},
     "output_type": "display_data"
    },
    {
     "data": {
      "text/html": [
       "<style>.container { width:100% !important; }</style>"
      ],
      "text/plain": [
       "<IPython.core.display.HTML object>"
      ]
     },
     "metadata": {},
     "output_type": "display_data"
    }
   ],
   "source": [
    "from sys import path; path.insert(1,\"../src\");\n",
    "import fubar; from importlib import reload; reload(fubar);"
   ]
  },
  {
   "cell_type": "markdown",
   "id": "interim-crash",
   "metadata": {},
   "source": [
    "***\n",
    "< [GMIT Data Analytics](https://web.archive.org/web/20201029063153/https://www.gmit.ie/computer-science-and-applied-physics/higher-diploma-science-computing-data-analytics-ict) | [Home](https://github.com/SeanOhAileasa) | [README](https://github.com/SeanOhAileasa/cta-recursion/blob/main/README.md) >\n",
    "\n",
    "[![GMIT](https://github.com/SeanOhAileasa/SeanOhAileasa/blob/master/img/gmit.png?raw=true)](https://web.archive.org/web/20201029063153/https://www.gmit.ie/computer-science-and-applied-physics/higher-diploma-science-computing-data-analytics-ict)\n",
    "\n",
    "## Computational Thinking with Algorithms - Course Material 2021\n",
    "### Topic: [Recursion](https://nbviewer.jupyter.org/github/SeanOhAileasa/cta-recursion/blob/main/cta-recursion.ipynb)\n",
    "\n",
    "***"
   ]
  },
  {
   "cell_type": "markdown",
   "id": "promising-rabbit",
   "metadata": {},
   "source": [
    "Course material for the ``Computational Thinking with Algorithms`` module (5 Credits) of the ``Higher Diploma in Science in Computing (Data Analytics) (H.Dip)`` programme (75 Credits) at **Galway-Mayo Institute of Technology (GMIT)**."
   ]
  },
  {
   "cell_type": "code",
   "execution_count": 2,
   "id": "indonesian-harrison",
   "metadata": {},
   "outputs": [],
   "source": [
    "exit()"
   ]
  },
  {
   "cell_type": "code",
   "execution_count": 1,
   "id": "vocational-survey",
   "metadata": {
    "scrolled": false
   },
   "outputs": [],
   "source": [
    "# from IPython.display import Video; Video(\"./hide/05-Recursive-Algorithms-Part 1-Java +Python-12-02-2019.mp4\")"
   ]
  },
  {
   "cell_type": "markdown",
   "id": "changed-thesis",
   "metadata": {},
   "source": [
    "<a id=\"top\"></a>\n",
    "***\n",
    "## Table of Contents\n",
    "***\n",
    "\n",
    "## [Abstract](#abstract)\n",
    "\n",
    "\n",
    "## [Introduction](#introduction)\n",
    "\n",
    "* [Trace](#Trace)\n",
    "* [Types](#Types)\n",
    "    * [Linear](#Linear)\n",
    "        * [Tail](#Tail)\n",
    "    * [Binary](#Binary)\n",
    "    * [Exponential](#Exponential)\n",
    "    \n",
    "## [Solution](#solution)\n",
    "\n",
    "* [Stack](#Stack)\n",
    "\n",
    "## [Conclusion](#conclusion)"
   ]
  },
  {
   "cell_type": "markdown",
   "id": "mature-strand",
   "metadata": {},
   "source": [
    "***\n",
    "## END"
   ]
  },
  {
   "cell_type": "markdown",
   "id": "related-operation",
   "metadata": {},
   "source": [
    "< [Table of Contents](#top) | [Introduction](#introduction) | [Solution](#solution) | [Conclusion](#conclusion) | [References](#references) >\n",
    "<a id=\"abstract\"></a>\n",
    "***\n",
    "## Abstract\n",
    "***"
   ]
  },
  {
   "cell_type": "markdown",
   "id": "outdoor-marshall",
   "metadata": {},
   "source": [
    "- iteration is a process that allows some sequence of steps or some block of code to be executed repeatedly (for/while loop) - it is very common that iterative approaches are used in algorithms [1]"
   ]
  },
  {
   "cell_type": "markdown",
   "id": "wired-vocabulary",
   "metadata": {},
   "source": [
    "- recursion is a technique which may be applied to complete tasks which are repetitive in nature - consider how a procedure/function/method (hereafter called **\"process\"**) is normally called in a program - ``main`` calls ``alpha`` (note the arrow denotes the call) [1]"
   ]
  },
  {
   "cell_type": "markdown",
   "id": "hindu-slovak",
   "metadata": {},
   "source": [
    "![main-call-alpha](https://github.com/SeanOhAileasa/SeanOhAileasa/blob/master/img/cta/recursion/abstract/main-call-alpha.png?raw=true)\n",
    "\n",
    "***(Image) P. Mannion, \"05 Recursive Algorithms Part 1 (Java +Python),\" GMIT, February 2019.***"
   ]
  },
  {
   "cell_type": "markdown",
   "id": "comparative-easter",
   "metadata": {},
   "source": [
    "- recursion is a technique which may be applied to complete tasks which are repetitive in nature - a recursive process is one which calls itself within its body [1]"
   ]
  },
  {
   "cell_type": "markdown",
   "id": "controlled-college",
   "metadata": {},
   "source": [
    "- within ``beta`` there is another call to ``beta`` [1]"
   ]
  },
  {
   "cell_type": "markdown",
   "id": "familiar-network",
   "metadata": {},
   "source": [
    "![main-call-alpha](https://github.com/SeanOhAileasa/SeanOhAileasa/blob/master/img/cta/recursion/abstract/beta.png?raw=true)\n",
    "\n",
    "***(Image) P. Mannion, \"05 Recursive Algorithms Part 1 (Java +Python),\" GMIT, February 2019.***"
   ]
  },
  {
   "cell_type": "markdown",
   "id": "accurate-permission",
   "metadata": {},
   "source": [
    "- the technique of recursion allows the solving of a problem by breaking it up into smaller instances of the same problem [1]"
   ]
  },
  {
   "cell_type": "markdown",
   "id": "domestic-insurance",
   "metadata": {},
   "source": [
    "- semantically powerful way to tackle a programming problem as there are many problems which are more concisely solved by using a recursive approach [1]"
   ]
  },
  {
   "cell_type": "markdown",
   "id": "restricted-malta",
   "metadata": {},
   "source": [
    "- file directory traversal problem - operation of traversing through directories of a file system such as a c drive with a folder called program-files and within another folder called java and within yet another folder called java-development-kit and within yet another folder called binary (javac compiler stored within the binary folder [1]"
   ]
  },
  {
   "cell_type": "markdown",
   "id": "cross-vault",
   "metadata": {},
   "source": [
    " - to get from the root of the c drive and down through all the directories in turn and search for a specific file is a recursive problelm given movement through a directory and looking at everything in the directory (moving down the next step and so forth) - this problem is naturally recursive [1]"
   ]
  },
  {
   "cell_type": "markdown",
   "id": "turkish-montgomery",
   "metadata": {},
   "source": [
    "- other operations include traversing through a tree of search results [1]"
   ]
  },
  {
   "cell_type": "markdown",
   "id": "coordinate-pharmaceutical",
   "metadata": {},
   "source": [
    "- some sorting algorithms are recursive in nature (Merge Sort algorithm) [1]"
   ]
  },
  {
   "cell_type": "markdown",
   "id": "unusual-construction",
   "metadata": {},
   "source": [
    "- so with problems that have these kind of features where they can be broken down into smaller instances of this same problem essentially recursion is very useful because it often leads to cleaner and more concise code and that leads to easier maintainability and it becomes easier to understand once the principles of recursion are understood and how it works [1]"
   ]
  },
  {
   "cell_type": "markdown",
   "id": "appropriate-skating",
   "metadata": {},
   "source": [
    "- recursive processes can quite succinctly do the work of an iterative approach with a lot less code in a lot cleaner manner [1]"
   ]
  },
  {
   "cell_type": "code",
   "execution_count": 1,
   "id": "portuguese-refrigerator",
   "metadata": {},
   "outputs": [],
   "source": [
    "exit()"
   ]
  },
  {
   "cell_type": "markdown",
   "id": "spread-spyware",
   "metadata": {},
   "source": [
    "<!-- print(fGetModuleType(___x___),fDocumentation(___x___)) -->\n",
    "***\n",
    "## END"
   ]
  },
  {
   "cell_type": "markdown",
   "id": "annoying-interview",
   "metadata": {},
   "source": [
    "< [Table of Contents](#top) | [Abstract](#abstract) | [Solution](#solution) | [Conclusion](#conclusion) | [References](#references) >\n",
    "<a id=\"introduction\"></a>\n",
    "***\n",
    "## Introduction\n",
    "***"
   ]
  },
  {
   "cell_type": "markdown",
   "id": "beneficial-jefferson",
   "metadata": {},
   "source": [
    "- ``fCount`` passing the value ``0`` - conditional statement checks if ``nParIndex<0`` then call ``fCount`` again passing in the value ``nParIndex+1`` [1]"
   ]
  },
  {
   "cell_type": "markdown",
   "id": "southeast-massage",
   "metadata": {},
   "source": [
    "- ``fCount`` calls itself within its own body - this is the step where the recursion occurs - the step whereby ``fCount(nParIndex+1)`` is called [1]"
   ]
  },
  {
   "cell_type": "code",
   "execution_count": 1,
   "id": "separated-weight",
   "metadata": {},
   "outputs": [
    {
     "name": "stdout",
     "output_type": "stream",
     "text": [
      "# repository ./fubar-python\r\n",
      "def fCount(nParIndex):\r\n",
      "    \"\"\"Recursive process.\r\n",
      "\r\n",
      "Input: nParIndex\r\n",
      "Process: print Input; if Input<2 then call fCount passing Input+1\r\n",
      "Output: sequence 0, 1, 2\r\n",
      "\"\"\"\r\n",
      "    print(nParIndex)\r\n",
      "    if nParIndex<2:\r\n",
      "        fCount(nParIndex+1)\r\n",
      "# -- END ---\r\n"
     ]
    }
   ],
   "source": [
    "%%script bash\n",
    "grep -1 \"def fCount\" ../src/fubar.py -A 10"
   ]
  },
  {
   "cell_type": "code",
   "execution_count": 2,
   "id": "precise-borough",
   "metadata": {},
   "outputs": [],
   "source": [
    "from sys import path; path.insert(1,\"../src\")"
   ]
  },
  {
   "cell_type": "code",
   "execution_count": 3,
   "id": "powered-polls",
   "metadata": {},
   "outputs": [
    {
     "data": {
      "text/html": [
       "<style>.container { width:100% !important; }</style>"
      ],
      "text/plain": [
       "<IPython.core.display.HTML object>"
      ]
     },
     "metadata": {},
     "output_type": "display_data"
    }
   ],
   "source": [
    "from fubar import fCount"
   ]
  },
  {
   "cell_type": "markdown",
   "id": "joined-fraud",
   "metadata": {},
   "source": [
    "- ``main`` calling ``fCount(0)`` - current value of ``nParIndex`` is printed [1]\n",
    "\n",
    "```python\n",
    "print(nParIndex) # 0\n",
    "```"
   ]
  },
  {
   "cell_type": "markdown",
   "id": "earned-command",
   "metadata": {},
   "source": [
    "- if ``nParIndex<2`` then at this point another copy of ``fCount`` is activated and the value ``1`` is passed in the next call [1] \n",
    "\n",
    "```python\n",
    "if nParIndex<2:\n",
    "    fCount(nParIndex+1) # nParIndex==1\n",
    "```"
   ]
  },
  {
   "cell_type": "markdown",
   "id": "hired-baltimore",
   "metadata": {},
   "source": [
    "- ``1st recursive call`` - current value of ``nParIndex`` is printed [1]\n",
    "\n",
    "```python\n",
    "print(nParIndex) # 1\n",
    "```"
   ]
  },
  {
   "cell_type": "markdown",
   "id": "bibliographic-hypothesis",
   "metadata": {},
   "source": [
    "- if ``nParIndex<2`` then at this point another copy of ``fCount`` is activated and the value ``2`` is passed in the next call [1] \n",
    "\n",
    "```python\n",
    "if nParIndex<2:\n",
    "    fCount(nParIndex+1) # nParIndex==2\n",
    "```"
   ]
  },
  {
   "cell_type": "markdown",
   "id": "stopped-blues",
   "metadata": {},
   "source": [
    "- ``2nd recursive call`` - current value of ``nParIndex`` is printed [1]\n",
    "\n",
    "```python\n",
    "print(nParIndex) # 2\n",
    "```"
   ]
  },
  {
   "cell_type": "markdown",
   "id": "central-investing",
   "metadata": {},
   "source": [
    "- conditional statement ``nParIndex<2`` returns ``False`` - does not reach the end of the ``2nd recursive call`` of ``fCount`` therefore returning control to the previous instance of ``fCount`` (via ``1st recursive call``) and then that will return control to the first instance of the ``fCount`` (via ``main``) [1]"
   ]
  },
  {
   "cell_type": "markdown",
   "id": "monetary-jewelry",
   "metadata": {},
   "source": [
    "- sequence ``0, 1, 2`` is complete [1]"
   ]
  },
  {
   "cell_type": "code",
   "execution_count": 4,
   "id": "wanted-latino",
   "metadata": {},
   "outputs": [
    {
     "name": "stdout",
     "output_type": "stream",
     "text": [
      "0\n",
      "1\n",
      "2\n"
     ]
    }
   ],
   "source": [
    "fCount(0)"
   ]
  },
  {
   "cell_type": "code",
   "execution_count": 5,
   "id": "powerful-builder",
   "metadata": {},
   "outputs": [],
   "source": [
    "exit()"
   ]
  },
  {
   "cell_type": "markdown",
   "id": "tamil-karma",
   "metadata": {},
   "source": [
    "< [Table of Contents](#top) | [References](#references) >\n",
    "<a id=\"Trace\"></a>\n",
    "### Trace\n",
    "***"
   ]
  },
  {
   "cell_type": "markdown",
   "id": "liable-swing",
   "metadata": {},
   "source": [
    "- visualising calls to a recursive process via recursion trace - way of tracing the call from the caller all the way down through the nested levels of recursion and then all the way back to the caller again (convention: black arrow will represent a call / green arrow will represent a return with the value returned printed beside the green arrow) [1]"
   ]
  },
  {
   "cell_type": "markdown",
   "id": "atlantic-maintenance",
   "metadata": {},
   "source": [
    "![main-call-alpha](https://github.com/SeanOhAileasa/SeanOhAileasa/blob/master/img/cta/recursion/stack/04-1-03.png?raw=true)\n",
    "\n",
    "***(Image) P. Mannion, \"05 Recursive Algorithms Part 1 (Java +Python),\" GMIT, February 2019.***"
   ]
  },
  {
   "cell_type": "code",
   "execution_count": 1,
   "id": "assigned-trigger",
   "metadata": {},
   "outputs": [],
   "source": [
    "exit()"
   ]
  },
  {
   "cell_type": "markdown",
   "id": "ethical-saskatchewan",
   "metadata": {},
   "source": [
    "< [Table of Contents](#top) | [References](#references) >\n",
    "<a id=\"Types\"></a>\n",
    "### Types\n",
    "***"
   ]
  },
  {
   "cell_type": "markdown",
   "id": "subjective-output",
   "metadata": {},
   "source": [
    "&#x1F6A7;"
   ]
  },
  {
   "cell_type": "code",
   "execution_count": 1,
   "id": "laden-lewis",
   "metadata": {},
   "outputs": [],
   "source": [
    "exit()"
   ]
  },
  {
   "cell_type": "markdown",
   "id": "international-stanley",
   "metadata": {},
   "source": [
    "< [Table of Contents](#top) | [References](#references) >\n",
    "<a id=\"Linear\"></a>\n",
    "###### Linear\n",
    "***"
   ]
  },
  {
   "cell_type": "markdown",
   "id": "diverse-trinity",
   "metadata": {},
   "source": [
    "- most simple type [1]"
   ]
  },
  {
   "cell_type": "markdown",
   "id": "sweet-texture",
   "metadata": {},
   "source": [
    "- the number of activation frames (records - number of calls in the recursion) grows in a linear manner [1]"
   ]
  },
  {
   "cell_type": "markdown",
   "id": "novel-bankruptcy",
   "metadata": {},
   "source": [
    "- a process that is linearly recursive makes a single call to itself [1]"
   ]
  },
  {
   "cell_type": "code",
   "execution_count": 1,
   "id": "imposed-leader",
   "metadata": {},
   "outputs": [],
   "source": [
    "exit()"
   ]
  },
  {
   "cell_type": "markdown",
   "id": "consistent-relations",
   "metadata": {},
   "source": [
    "< [Table of Contents](#top) | [References](#references) >\n",
    "<a id=\"Tail\"></a>\n",
    "###### Tail\n",
    "***"
   ]
  },
  {
   "cell_type": "markdown",
   "id": "postal-behalf",
   "metadata": {},
   "source": [
    "- a specific type of linear recursion [1]"
   ]
  },
  {
   "cell_type": "markdown",
   "id": "banned-dictionary",
   "metadata": {},
   "source": [
    "- single call to itself and is the very last operation in the process [1]"
   ]
  },
  {
   "cell_type": "markdown",
   "id": "romantic-yukon",
   "metadata": {},
   "source": [
    "- every time a process is invoked its activation frame (record) will be placed on top of the program stack - this is something to avoid given multiple active stack frames are unnecessary even thought the process has finished its work [1]"
   ]
  },
  {
   "cell_type": "markdown",
   "id": "super-poker",
   "metadata": {},
   "source": [
    "- appropriate to use sometimes but can be expensive and inefficient because all these activation frames (records) are still taking up space on the stack even though the process has completed its work (task) right at the end of its body [1]"
   ]
  },
  {
   "cell_type": "markdown",
   "id": "exclusive-ireland",
   "metadata": {},
   "source": [
    "- should really use tail recursion sparingly and carefully [1]"
   ]
  },
  {
   "cell_type": "markdown",
   "id": "capable-appreciation",
   "metadata": {},
   "source": [
    "- ``fCount`` is an example of linear recursion and also tail recursion because the very last operation within the its body is a recursive call to itself [1]"
   ]
  },
  {
   "cell_type": "code",
   "execution_count": 1,
   "id": "blocked-arbitration",
   "metadata": {},
   "outputs": [],
   "source": [
    "exit()"
   ]
  },
  {
   "cell_type": "markdown",
   "id": "personal-candidate",
   "metadata": {},
   "source": [
    "< [Table of Contents](#top) | [References](#references) >\n",
    "<a id=\"Binary\"></a>\n",
    "###### Binary\n",
    "***"
   ]
  },
  {
   "cell_type": "markdown",
   "id": "fewer-cycle",
   "metadata": {},
   "source": [
    "- binary (opposed to linear recursion) is a recursive process making two calls to itself within its body [1]"
   ]
  },
  {
   "cell_type": "markdown",
   "id": "subsequent-emergency",
   "metadata": {},
   "source": [
    "- obviously leads to a much larger growth rate getting to different nested levels of recursion when compared to an implementation that only uses linear recursion [1]"
   ]
  },
  {
   "cell_type": "code",
   "execution_count": 1,
   "id": "assured-kruger",
   "metadata": {},
   "outputs": [],
   "source": [
    "exit()"
   ]
  },
  {
   "cell_type": "markdown",
   "id": "proud-aaron",
   "metadata": {},
   "source": [
    "< [Table of Contents](#top) | [References](#references) >\n",
    "<a id=\"Exponential\"></a>\n",
    "###### Exponential\n",
    "***"
   ]
  },
  {
   "cell_type": "markdown",
   "id": "configured-combination",
   "metadata": {},
   "source": [
    "- process that makes more than two recursive calls within its body [1] "
   ]
  },
  {
   "cell_type": "markdown",
   "id": "fewer-finance",
   "metadata": {},
   "source": [
    "- want to try to avoid binary/exponential recursion as much as possible given that just a few nested levels of recursion will end up with exponential growth in the number of process activation frames (becomes inefficient) [1] "
   ]
  },
  {
   "cell_type": "code",
   "execution_count": 1,
   "id": "earlier-minister",
   "metadata": {},
   "outputs": [],
   "source": [
    "exit()"
   ]
  },
  {
   "cell_type": "markdown",
   "id": "hawaiian-doubt",
   "metadata": {},
   "source": [
    "<!-- print(fGetModuleType(___x___),fDocumentation(___x___)) -->\n",
    "***\n",
    "## END"
   ]
  },
  {
   "cell_type": "markdown",
   "id": "removed-procurement",
   "metadata": {},
   "source": [
    "< [Table of Contents](#top) | [Abstract](#abstract) | [Introduction](#introduction) | [Conclusion](#conclusion) | [References](#references) >\n",
    "<a id=\"solution\"></a>\n",
    "***\n",
    "## Solution\n",
    "***\n",
    "\n",
    "<!--\n",
    "\n",
    "now lets consider some common problems or errors which crop up when people are designing recursive implementations or designing recursive algorithms and then go on to implement them the first well look at is infinite recursion and infinite recursion occurs when a recursive function/method does not have a base case what do i mean by that with lets consider the code sample on the right very very simply this is a function/method that has no return so its a void return and it takes as a\n",
    "\n",
    "parameter\n",
    "\n",
    "an integer called x and within that function/method body we call the inference function/method again and this time we pass in the value x minus one\n",
    "\n",
    "so if we call infinite one the next call will be infinite with the value zero\n",
    "\n",
    "then the next call will be infinite with the value minus one then the next call will be infinite with the value of minus two and so on and so forth and that function/method would actually never stop making recursive calls and it doesnt matter what value is input there as x as the input parameter that function/method will keep making recursive calls to itself and this is quite different there to an infinite loop so you know in your his review of approaches or your issues of design paradigm lets say you have a for loop and you dont have the conditions set up in the right way or maybe more often a while loop and the condition in the while loop never becomes false and the loop therefore never exits in that case youll get an infinite loop and infinite recursion is similar in a way but in fact maybe even a little more i guess informative when it goes wrong or a little bit more noticeable when it goes wrong then an infinite loop and why is that? well its because of what we saw earlier in terms of the activation frames of recursive calls being kept on the stack so that function/method theyre infinite if you were to run that lets say implemented in java and run it you will get whats called a stack overflow error eventually how long it would take to reach that would depend on how much memory you have available to your java virtual machine and by extension how much memory you have available to your computer but in a nutshell that function/method would keep making recursive calls to itself and well keep adding activation frames to the stack until the stack overflow error occurs and that basically means that the recursive calls have taken up all the available memory so thats where the name stack overflow actually comes from is from stack overflow errors ie all the all the available memory in the jvm being taken up so how do we protect against that? well we need whats called a base case and a base case very simply is a case are a set of input parameters for the recursive function/method which can be solved without recursion so in the fCount function/method that we had before where is cause fCount with the incremented value of the input value index then the next call would call index plus one and so on and so forth but we had a condition in there if you remember and the condition was if x is less than two so x being equal to two are greater than two is the base case for that particular algorithm and weve talked a little bit more about base cases later on another problem which we may enfCounter when designing or implementing recursive algorithms is that of circular recursion and circular recursion is a specific form of infinite recursion when recursive calls stop making progress towards the base case are they do not make progress towards a case which can actually be solved without recursion so lets just consider the simple function/method to the right which is called circular and it has a void return type so it doesnt return any value and it takes as input a parameter called x which will be an integer and in this function/method if the value of x is equal to one well make a call to circular x plus one and otherwise well never call the circular x minus one so if we were to input the value one here what would happen is we call it circular one and the next call would be to circular with the value two then following that there would be a call to circular with the value one and then another call to the event circular with the value two and then one and then two etc and if we keep going back and forth like that that would be an example of circular recursion as with the infinite recursion example that we had on the previous slide again this function/method would keep making recursive calls to itself until basically the memory available ran out or until a stack overflow error occurs and this would be again because\n",
    "\n",
    "multiple activation frames are added so a new activation frame is added with every recursive call to the function/method but none of the actual recursive calls would ever return so the recursive calls would have taken up all available memory so just like infinite recursion circular recursion is something to watch out for when youre designing and implementing recursive algorithms so how do we avoid such problems but we need to have some rules that were going to consider when were implementing our recursive algorithms and there are four basic rules that we have for recursive algorithms rule number one is that we must have a base case so a recursive algorithm must always have a base case which can be solved without recursion and we saw in the example with the fCount function/method that the base case there was in fact if the value of fCount reached two that would be solved with out recursion so any call to the fCount function/method with a value of two or above can be solved without recursion that means wed have a base case and function/methods without a base case would of course result in infinite recursion when theyre running so its very important to consider a base case or a simple instance of the problem which can be solved without recursion rule number two is that with every recursive call we must make progress towards that base case our base cases we could have more than one base case but we have to make progress towards the base case in each recursive call so for cases that are to be resolved solved recursively the next call must be a case that makes progress towards the base case function/methods that do not follow this rule ie they do not make progress towards the base case would result in circular recursion when theyre wrong like in the example on the previous slide the third rule when designing recursive algorithms is called the design rule and the design rule has to assume that all the recursive calls which we make will work what do we mean by that? well really we mean that if were at a higher level in recursion we assume that the next recursive call that we make will carry out his task as expected and will return so we have to assume that any recursive call that were going to make will follow basically the previous two rules that it will make progress towards the base case and that it will actually reach that base case eventually and that eventually all the nested levels of recursion will return one by one and that those will work as expected the final rule for recursive algorithms and this rule relates to efficiency or efficient use of computational resources this is called the compound interest rule and the compound interest rule says that we should never duplicate work by solving the same instance of a problem in separate recursive calls so we should structure our recursive algorithm in such a way that we are not actually repeating the same work or the same call over and over again in separate recursive instances because thats not a good use of computation resources and if we find in fact that we are i guess duplicating a lot of the same types of calls are same problem instances then in that case we should probably look at an iterative approach or an iterative implementation to solve our problem instead of using recursion so taking all of that together as a whole all the issues weve talked about so far in relation to recursive algorithms how would we actually go about designing and implementing recursive algorithm? well the very first and most fundamental step which we must take is to just think about the task which you wish to accomplish and we try to identify any recurring patterns or any patterns that wed see again so basically we look out for similar operations that must be conducted for example the trevor traversing through nested directories on a file system problem thats a problem that naturally lends itself to recursion\n",
    "\n",
    "or to a recursive solution so that process of looking through every file in the directory and see if we want to search for a file and then going into the directory below it or etc that is a fundamentally recursive process so we want to maybe divide that problem up using these recurring operations so the idea of maybe looking at every file in a folder and then moving on to the next four folder below you know that would be the most fundamental recurring operation that happens when were traversing through directories in a file system so after weve broken our larger problem up into the smallest i guess instance that we can the smallest recording instance and then we need to identify those cases which we know could be solved without recursion so that could be a single base case or you could have multiple base cases and in the example of traversing through directories on a file system that would be the deepest nested directory on the file system for example would be the recursive case because no more recursive calls would happen below that are nested deeper within so once weve divided the problem up we need to identify those cases which could be solved without recursion and so a good or well designed recursive algorithm would not end in a multitude of special cases rather the goal for us is to identify just one simple base case are just a very few very simple base cases that could be solved without recursion and those will actually act as a stop or prevent infinite recursion then we need to design our algorithm in such a way that will invoke a new copy of the function/method with each recursive step and will modify the input parameters so each recursive call would have like a different initialisation conditions are a different input and each recursive stack will then actually resemble the original larger problem and then finally with each recursive step or each recursive call we want to ensure that were going to make progress towards the base case our base cases with each successive call taking that all information that that how one would divide a problem up and begin to think about how to solve it in a recursive fashion so just to recap quickly on the material we covered today the main takeaway concept here is that recursion allows us to solve some problem by breaking it up into smaller instances of the same problem and therefore a recursive function/method is a function/method which calls itself within its own function/method body so we may want to use recursion versus an iterative approach because it allows for cleaner code and intuitively some problems may be more easily solved by taking a recursive approach so it quite often leads to cleaner code that is more maintainable and easier to understand we also examined some of the main design rules for recursive algorithms and we illustrate the importance of a base case in recursion where we said that a base case is a case which can be solved without recursion so it is an input instance for the algorithm or for the function/method which may be solved without making a recursive call so in the next lecture were going to consider some example problems which may be solved using recursion\n",
    "-->"
   ]
  },
  {
   "cell_type": "markdown",
   "id": "third-district",
   "metadata": {},
   "source": [
    "< [Table of Contents](#top) | [References](#references) >\n",
    "<a id=\"Stack\"></a>\n",
    "### Stack\n",
    "***"
   ]
  },
  {
   "cell_type": "markdown",
   "id": "central-gibson",
   "metadata": {},
   "source": [
    "- program stack operates like a container of trays in a cafeteria: i) add a tray on the top and/or; ii) remove a tray off the top [1]"
   ]
  },
  {
   "cell_type": "markdown",
   "id": "alien-briefs",
   "metadata": {},
   "source": [
    "- stack operations: i) ``push`` pushes something onto the stack (always placed on the top of the stack) and ii)``pop`` pops something off the top of the stack (last item added to the top will be popped off when pop is called) [1]"
   ]
  },
  {
   "cell_type": "markdown",
   "id": "fatty-dancing",
   "metadata": {},
   "source": [
    "- each time a process is invoked (``push``) its activation frame (record) is placed on top of the stack - the activation frame is just a record of: i) the process called; ii) parameters passed and; iii) its flow of control it is in [1]"
   ]
  },
  {
   "cell_type": "markdown",
   "id": "smart-citizen",
   "metadata": {},
   "source": [
    "- when a process returns/exits (``pop``) its activation frame (record) is taken off the stack [1]"
   ]
  },
  {
   "cell_type": "markdown",
   "id": "ultimate-update",
   "metadata": {},
   "source": [
    "- the stack is way to visualise which process activation frames (records) are active at any one time [1]"
   ]
  },
  {
   "cell_type": "code",
   "execution_count": 1,
   "id": "superior-speed",
   "metadata": {},
   "outputs": [],
   "source": [
    "nProcess=None"
   ]
  },
  {
   "cell_type": "code",
   "execution_count": 2,
   "id": "inside-forestry",
   "metadata": {},
   "outputs": [
    {
     "data": {
      "text/plain": [
       "'<PROCESS> <invoke> None'"
      ]
     },
     "execution_count": 2,
     "metadata": {},
     "output_type": "execute_result"
    }
   ],
   "source": [
    "\"<PROCESS> <invoke> {}\".format(nProcess)"
   ]
  },
  {
   "cell_type": "code",
   "execution_count": 3,
   "id": "promising-salem",
   "metadata": {},
   "outputs": [],
   "source": [
    "nRecord=[]; nRecord.append(\"Empty Stack\"); nTime=0"
   ]
  },
  {
   "cell_type": "code",
   "execution_count": 4,
   "id": "christian-submission",
   "metadata": {},
   "outputs": [
    {
     "data": {
      "text/plain": [
       "'<STACK> <activation frame(s)> Empty Stack <time/active> 0'"
      ]
     },
     "execution_count": 4,
     "metadata": {},
     "output_type": "execute_result"
    }
   ],
   "source": [
    "\"<STACK> <activation frame(s)> {} <time/active> {}\".format(nRecord[0],nTime)"
   ]
  },
  {
   "cell_type": "markdown",
   "id": "ready-crystal",
   "metadata": {},
   "source": [
    "![main-call-alpha](https://github.com/SeanOhAileasa/SeanOhAileasa/blob/master/img/cta/recursion/stack/04-1-04.png?raw=true)\n",
    "\n",
    "***(Image) P. Mannion, \"05 Recursive Algorithms Part 1 (Java +Python),\" GMIT, February 2019.***"
   ]
  },
  {
   "cell_type": "code",
   "execution_count": 5,
   "id": "referenced-language",
   "metadata": {},
   "outputs": [],
   "source": [
    "nRecord=[]; nProcess=__name__"
   ]
  },
  {
   "cell_type": "code",
   "execution_count": 6,
   "id": "major-defeat",
   "metadata": {},
   "outputs": [
    {
     "data": {
      "text/plain": [
       "'<PROCESS> <invoke> __main__'"
      ]
     },
     "execution_count": 6,
     "metadata": {},
     "output_type": "execute_result"
    }
   ],
   "source": [
    "\"<PROCESS> <invoke> {}\".format(nProcess)"
   ]
  },
  {
   "cell_type": "code",
   "execution_count": 7,
   "id": "instrumental-lending",
   "metadata": {},
   "outputs": [],
   "source": [
    "nRecord.append(nProcess); nTime+=1"
   ]
  },
  {
   "cell_type": "code",
   "execution_count": 8,
   "id": "driving-chinese",
   "metadata": {},
   "outputs": [
    {
     "data": {
      "text/plain": [
       "'<STACK> <push> __main__ <activation frame(s)> __main__ <time/active> 1'"
      ]
     },
     "execution_count": 8,
     "metadata": {},
     "output_type": "execute_result"
    }
   ],
   "source": [
    "\"<STACK> <push> {} <activation frame(s)> {} <time/active> {}\".format(nProcess,nRecord[0],nTime)"
   ]
  },
  {
   "cell_type": "markdown",
   "id": "sexual-double",
   "metadata": {},
   "source": [
    "![main-call-alpha](https://github.com/SeanOhAileasa/SeanOhAileasa/blob/master/img/cta/recursion/stack/04-1-05.png?raw=true)\n",
    "\n",
    "***(Image) P. Mannion, \"05 Recursive Algorithms Part 1 (Java +Python),\" GMIT, February 2019.***"
   ]
  },
  {
   "cell_type": "code",
   "execution_count": 9,
   "id": "developed-aaron",
   "metadata": {},
   "outputs": [
    {
     "name": "stdout",
     "output_type": "stream",
     "text": [
      "# repository ./fubar-python\r\n",
      "def fCount(nParIndex):\r\n",
      "    \"\"\"Recursive process.\r\n",
      "\r\n",
      "Input: nParIndex\r\n",
      "Process: print Input; if Input<2 then call fCount passing Input+1\r\n",
      "Output: sequence 0, 1, 2\r\n",
      "\"\"\"\r\n",
      "    print(nParIndex)\r\n",
      "    if nParIndex<2:\r\n",
      "        fCount(nParIndex+1)\r\n",
      "# -- END ---\r\n"
     ]
    }
   ],
   "source": [
    "%%script bash\n",
    "grep -1 \"def fCount\" ../src/fubar.py -A 10"
   ]
  },
  {
   "cell_type": "code",
   "execution_count": 10,
   "id": "close-sally",
   "metadata": {},
   "outputs": [],
   "source": [
    "from sys import path; path.insert(1,\"../src\")"
   ]
  },
  {
   "cell_type": "code",
   "execution_count": 11,
   "id": "fifteen-amateur",
   "metadata": {},
   "outputs": [
    {
     "data": {
      "text/html": [
       "<style>.container { width:100% !important; }</style>"
      ],
      "text/plain": [
       "<IPython.core.display.HTML object>"
      ]
     },
     "metadata": {},
     "output_type": "display_data"
    }
   ],
   "source": [
    "from fubar import fCount"
   ]
  },
  {
   "cell_type": "code",
   "execution_count": 12,
   "id": "verbal-faculty",
   "metadata": {},
   "outputs": [],
   "source": [
    "nArgument=0; nParameter=nArgument; nProcess=fCount.__name__+\"(\"+str(nParameter)+\")\""
   ]
  },
  {
   "cell_type": "code",
   "execution_count": 13,
   "id": "complicated-albany",
   "metadata": {},
   "outputs": [
    {
     "data": {
      "text/plain": [
       "'__main__ <PROCESS> <invoke> fCount(0)'"
      ]
     },
     "execution_count": 13,
     "metadata": {},
     "output_type": "execute_result"
    }
   ],
   "source": [
    "\"{} <PROCESS> <invoke> {}\".format(__name__,nProcess)"
   ]
  },
  {
   "cell_type": "code",
   "execution_count": 14,
   "id": "surrounded-preservation",
   "metadata": {},
   "outputs": [],
   "source": [
    "nRecord.append(nProcess); nTime+=1"
   ]
  },
  {
   "cell_type": "code",
   "execution_count": 15,
   "id": "modified-victor",
   "metadata": {},
   "outputs": [
    {
     "data": {
      "text/plain": [
       "\"<STACK> <push> fCount(0) <activation frame(s)> ['__main__', 'fCount(0)'] <time/active> 2\""
      ]
     },
     "execution_count": 15,
     "metadata": {},
     "output_type": "execute_result"
    }
   ],
   "source": [
    "\"<STACK> <push> {} <activation frame(s)> {} <time/active> {}\".format(nProcess,nRecord,nTime)"
   ]
  },
  {
   "cell_type": "markdown",
   "id": "bigger-registrar",
   "metadata": {},
   "source": [
    "![main-call-alpha](https://github.com/SeanOhAileasa/SeanOhAileasa/blob/master/img/cta/recursion/stack/04-1-06.png?raw=true)\n",
    "\n",
    "***(Image) P. Mannion, \"05 Recursive Algorithms Part 1 (Java +Python),\" GMIT, February 2019.***"
   ]
  },
  {
   "cell_type": "code",
   "execution_count": 16,
   "id": "norman-opportunity",
   "metadata": {},
   "outputs": [
    {
     "data": {
      "text/plain": [
       "'<PROCESS> <invoke> print(0)'"
      ]
     },
     "execution_count": 16,
     "metadata": {},
     "output_type": "execute_result"
    }
   ],
   "source": [
    "\"<PROCESS> <invoke> {}\".format(print.__name__+\"(\"+str(nParameter)+\")\")"
   ]
  },
  {
   "cell_type": "code",
   "execution_count": 17,
   "id": "brilliant-communications",
   "metadata": {},
   "outputs": [
    {
     "data": {
      "text/plain": [
       "'<RECURSION> <base case> True'"
      ]
     },
     "execution_count": 17,
     "metadata": {},
     "output_type": "execute_result"
    }
   ],
   "source": [
    "\"<RECURSION> <base case> {}\".format(nParameter<2)"
   ]
  },
  {
   "cell_type": "code",
   "execution_count": 18,
   "id": "quiet-deputy",
   "metadata": {},
   "outputs": [],
   "source": [
    "nParameter+=1; nProcess=fCount.__name__+\"(\"+str(nParameter)+\")\""
   ]
  },
  {
   "cell_type": "code",
   "execution_count": 19,
   "id": "everyday-reality",
   "metadata": {},
   "outputs": [
    {
     "data": {
      "text/plain": [
       "'<PROCESS> <invoke> fCount(1)'"
      ]
     },
     "execution_count": 19,
     "metadata": {},
     "output_type": "execute_result"
    }
   ],
   "source": [
    "\"<PROCESS> <invoke> {}\".format(nProcess)"
   ]
  },
  {
   "cell_type": "code",
   "execution_count": 20,
   "id": "certain-state",
   "metadata": {},
   "outputs": [],
   "source": [
    "nRecord.append(nProcess); nTime+=1"
   ]
  },
  {
   "cell_type": "code",
   "execution_count": 21,
   "id": "centered-jewel",
   "metadata": {},
   "outputs": [
    {
     "data": {
      "text/plain": [
       "\"<STACK> <push> fCount(1) <activation frame(s)> ['__main__', 'fCount(0)', 'fCount(1)'] <time/active> 3\""
      ]
     },
     "execution_count": 21,
     "metadata": {},
     "output_type": "execute_result"
    }
   ],
   "source": [
    "\"<STACK> <push> {} <activation frame(s)> {} <time/active> {}\".format(nProcess,nRecord,nTime)"
   ]
  },
  {
   "cell_type": "markdown",
   "id": "rapid-outreach",
   "metadata": {},
   "source": [
    "![main-call-alpha](https://github.com/SeanOhAileasa/SeanOhAileasa/blob/master/img/cta/recursion/stack/04-1-07.png?raw=true)\n",
    "\n",
    "***(Image) P. Mannion, \"05 Recursive Algorithms Part 1 (Java +Python),\" GMIT, February 2019.***"
   ]
  },
  {
   "cell_type": "code",
   "execution_count": 22,
   "id": "excessive-syria",
   "metadata": {},
   "outputs": [
    {
     "data": {
      "text/plain": [
       "'<PROCESS> <invoke> print(1)'"
      ]
     },
     "execution_count": 22,
     "metadata": {},
     "output_type": "execute_result"
    }
   ],
   "source": [
    "\"<PROCESS> <invoke> {}\".format(print.__name__+\"(\"+str(nParameter)+\")\")"
   ]
  },
  {
   "cell_type": "code",
   "execution_count": 23,
   "id": "hollywood-albania",
   "metadata": {},
   "outputs": [
    {
     "data": {
      "text/plain": [
       "'<RECURSION> <base case> True'"
      ]
     },
     "execution_count": 23,
     "metadata": {},
     "output_type": "execute_result"
    }
   ],
   "source": [
    "\"<RECURSION> <base case> {}\".format(nParameter<2)"
   ]
  },
  {
   "cell_type": "code",
   "execution_count": 24,
   "id": "activated-robertson",
   "metadata": {},
   "outputs": [],
   "source": [
    "nParameter+=1; nProcess=fCount.__name__+\"(\"+str(nParameter)+\")\""
   ]
  },
  {
   "cell_type": "code",
   "execution_count": 25,
   "id": "finite-morgan",
   "metadata": {},
   "outputs": [
    {
     "data": {
      "text/plain": [
       "'<PROCESS> <invoke> fCount(2)'"
      ]
     },
     "execution_count": 25,
     "metadata": {},
     "output_type": "execute_result"
    }
   ],
   "source": [
    "\"<PROCESS> <invoke> {}\".format(nProcess)"
   ]
  },
  {
   "cell_type": "code",
   "execution_count": 26,
   "id": "provincial-speech",
   "metadata": {},
   "outputs": [],
   "source": [
    "nRecord.append(nProcess); nTime+=1"
   ]
  },
  {
   "cell_type": "code",
   "execution_count": 27,
   "id": "compact-piece",
   "metadata": {},
   "outputs": [
    {
     "data": {
      "text/plain": [
       "\"<STACK> <push> fCount(2) <activation frame(s)> ['__main__', 'fCount(0)', 'fCount(1)', 'fCount(2)'] <time/active> 4\""
      ]
     },
     "execution_count": 27,
     "metadata": {},
     "output_type": "execute_result"
    }
   ],
   "source": [
    "\"<STACK> <push> {} <activation frame(s)> {} <time/active> {}\".format(nProcess,nRecord,nTime)"
   ]
  },
  {
   "cell_type": "markdown",
   "id": "collect-recommendation",
   "metadata": {},
   "source": [
    "![main-call-alpha](https://github.com/SeanOhAileasa/SeanOhAileasa/blob/master/img/cta/recursion/stack/04-1-08.png?raw=true)\n",
    "\n",
    "***(Image) P. Mannion, \"05 Recursive Algorithms Part 1 (Java +Python),\" GMIT, February 2019.***"
   ]
  },
  {
   "cell_type": "code",
   "execution_count": 28,
   "id": "diagnostic-calculation",
   "metadata": {
    "scrolled": true
   },
   "outputs": [
    {
     "data": {
      "text/plain": [
       "'<PROCESS> <invoke> print(2)'"
      ]
     },
     "execution_count": 28,
     "metadata": {},
     "output_type": "execute_result"
    }
   ],
   "source": [
    "\"<PROCESS> <invoke> {}\".format(print.__name__+\"(\"+str(nParameter)+\")\")"
   ]
  },
  {
   "cell_type": "code",
   "execution_count": 29,
   "id": "typical-rachel",
   "metadata": {},
   "outputs": [
    {
     "data": {
      "text/plain": [
       "'<RECURSION> <base case> False'"
      ]
     },
     "execution_count": 29,
     "metadata": {},
     "output_type": "execute_result"
    }
   ],
   "source": [
    "\"<RECURSION> <base case> {}\".format(nParameter<2)"
   ]
  },
  {
   "cell_type": "markdown",
   "id": "material-climate",
   "metadata": {},
   "source": [
    "- recursion stops [1]"
   ]
  },
  {
   "cell_type": "markdown",
   "id": "pending-import",
   "metadata": {},
   "source": [
    "- all activation frames return control to their caller - popped off the stack [1]"
   ]
  },
  {
   "cell_type": "code",
   "execution_count": 30,
   "id": "clinical-arbor",
   "metadata": {},
   "outputs": [
    {
     "data": {
      "text/plain": [
       "\"<STACK> <pop> fCount(2) <activation frame(s)> ['__main__', 'fCount(0)', 'fCount(1)']\""
      ]
     },
     "execution_count": 30,
     "metadata": {},
     "output_type": "execute_result"
    }
   ],
   "source": [
    "\"<STACK> <pop> {} <activation frame(s)> {}\".format(nRecord.pop(),nRecord)"
   ]
  },
  {
   "cell_type": "code",
   "execution_count": 31,
   "id": "timely-tracker",
   "metadata": {},
   "outputs": [
    {
     "data": {
      "text/plain": [
       "\"<STACK> <pop> fCount(1) <activation frame(s)> ['__main__', 'fCount(0)']\""
      ]
     },
     "execution_count": 31,
     "metadata": {},
     "output_type": "execute_result"
    }
   ],
   "source": [
    "\"<STACK> <pop> {} <activation frame(s)> {}\".format(nRecord.pop(),nRecord)"
   ]
  },
  {
   "cell_type": "code",
   "execution_count": 32,
   "id": "headed-potter",
   "metadata": {},
   "outputs": [
    {
     "data": {
      "text/plain": [
       "\"<STACK> <pop> fCount(0) <activation frame(s)> ['__main__']\""
      ]
     },
     "execution_count": 32,
     "metadata": {},
     "output_type": "execute_result"
    }
   ],
   "source": [
    "\"<STACK> <pop> {} <activation frame(s)> {}\".format(nRecord.pop(),nRecord)"
   ]
  },
  {
   "cell_type": "markdown",
   "id": "geological-bargain",
   "metadata": {},
   "source": [
    "- ``main`` stops running then also popped off the stack [1]"
   ]
  },
  {
   "cell_type": "code",
   "execution_count": 33,
   "id": "finished-sessions",
   "metadata": {},
   "outputs": [
    {
     "data": {
      "text/plain": [
       "'<STACK> <pop> __main__ <activation frame(s)> []'"
      ]
     },
     "execution_count": 33,
     "metadata": {},
     "output_type": "execute_result"
    }
   ],
   "source": [
    "\"<STACK> <pop> {} <activation frame(s)> {}\".format(nRecord.pop(),nRecord)"
   ]
  },
  {
   "cell_type": "markdown",
   "id": "confident-hours",
   "metadata": {},
   "source": [
    "![main-call-alpha](https://github.com/SeanOhAileasa/SeanOhAileasa/blob/master/img/cta/recursion/stack/04-1-09.png?raw=true)\n",
    "\n",
    "***(Image) P. Mannion, \"05 Recursive Algorithms Part 1 (Java +Python),\" GMIT, February 2019.***"
   ]
  },
  {
   "cell_type": "code",
   "execution_count": 34,
   "id": "growing-differential",
   "metadata": {},
   "outputs": [],
   "source": [
    "exit()"
   ]
  },
  {
   "cell_type": "markdown",
   "id": "organized-profit",
   "metadata": {},
   "source": [
    "<!-- - refer [Appendix](#appendix-df) to view the full dataset <a id=\"go-back-df\"></a> -->\n",
    "<!-- print(fGetModuleType(___x___),fDocumentation(___x___)) -->\n",
    "***\n",
    "## END"
   ]
  },
  {
   "cell_type": "markdown",
   "id": "identified-roots",
   "metadata": {},
   "source": [
    "< [Table of Contents](#top) | [Abstract](#abstract) | [Introduction](#introduction) | [Solution](#solution) | [References](#references) >\n",
    "<a id=\"conclusion\"></a>\n",
    "***\n",
    "## Conclusion\n",
    "***"
   ]
  },
  {
   "cell_type": "markdown",
   "id": "adaptive-warehouse",
   "metadata": {},
   "source": [
    "- recursion in an alternative to iteration and its important to note that any set of tasks which could be accomplished using a recursive process can also be accomplished by using an iterative process [1]"
   ]
  },
  {
   "cell_type": "markdown",
   "id": "announced-sixth",
   "metadata": {},
   "source": [
    "- recursion is an expensive way to design algorithms given that multiple activation frames will be active for a process at any one point (there is overhead involved with every process call) [1]"
   ]
  },
  {
   "cell_type": "markdown",
   "id": "honest-independence",
   "metadata": {},
   "source": [
    "- analysing ``fCount`` by visualising which process activation frames (records) on the stack are active at any one time demonstrates that even for a very simple process (printing the sequence \"0, 1, 2\" to the console) needed to have three function activation frames on the stack whereas this task could easily be achieved just using an iterative approach (``for`` loop to print out the sequence) [1]"
   ]
  },
  {
   "cell_type": "markdown",
   "id": "entertaining-warrant",
   "metadata": {},
   "source": [
    "- if both statements are true: i) a recursive process can also be accomplished by using iterative process and; ii) recursion is expensive involving additional overhead when compared to an iterative approach then the question is why use recursion (use cases) [1] "
   ]
  },
  {
   "cell_type": "markdown",
   "id": "classical-rebate",
   "metadata": {},
   "source": [
    "- in many cases the extra expense of recursion (extra complexity) in terms of the running time is far outweighed by having a simpler cleaner algorithm which leads to an implementation which is in general easier to code [1] "
   ]
  },
  {
   "cell_type": "markdown",
   "id": "located-cross",
   "metadata": {},
   "source": [
    "- may be happy to make some sacrifices in terms of overhead involved in process calls if the code is clean and more concise (simpler) and easier to understand [1]"
   ]
  },
  {
   "cell_type": "markdown",
   "id": "vital-occupation",
   "metadata": {},
   "source": [
    "- ultimately recursion would be eliminated when the compiler gets down to the level of creating assembly language by implementing the stack [1]"
   ]
  },
  {
   "cell_type": "markdown",
   "id": "automated-excuse",
   "metadata": {},
   "source": [
    "- in general if the recursion tree (recursion process) has a very simple form (a lot of repeated tasks) then the iterative version may in fact be better wheras if having a recursion tree that appears quite bushy (there are a lot of different cases and a lot of different branches and ways that task could go) then recursion is more the natural solution if there are very few duplicate tasks (are similar with different instances of the same problem) [1]"
   ]
  },
  {
   "cell_type": "code",
   "execution_count": 1,
   "id": "transparent-twelve",
   "metadata": {},
   "outputs": [],
   "source": [
    "exit()"
   ]
  },
  {
   "cell_type": "markdown",
   "id": "agreed-enforcement",
   "metadata": {},
   "source": [
    "<!-- print(fGetModuleType(___x___),fDocumentation(___x___)) -->\n",
    "***\n",
    "## END"
   ]
  },
  {
   "cell_type": "markdown",
   "id": "frank-essence",
   "metadata": {},
   "source": [
    "< [Table of Contents](#top) | [Abstract](#abstract) | [Introduction](#introduction) | [Solution](#solution) | [Conclusion](#conclusion) | [References](#references) >\n",
    "<a id=\"references\"></a>\n",
    "***\n",
    "## References\n",
    "***\n",
    "&nbsp;&nbsp;&nbsp;&nbsp;&nbsp;&nbsp;&nbsp;&nbsp;&nbsp;[1] P. Mannion, \"05 Recursive Algorithms Part 1 (Java +Python),\" GMIT, February 2019."
   ]
  },
  {
   "cell_type": "markdown",
   "id": "military-hindu",
   "metadata": {},
   "source": [
    "***\n",
    "## END"
   ]
  },
  {
   "cell_type": "markdown",
   "id": "physical-cleaning",
   "metadata": {},
   "source": [
    "< [Table of Contents](#top) | [Abstract](#abstract) | [Introduction](#introduction) | [Solution](#solution) | [Conclusion](#conclusion) | [References](#references) >\n",
    "<a id=\"appendix\"></a>\n",
    "***\n",
    "## Appendix\n",
    "***"
   ]
  },
  {
   "cell_type": "markdown",
   "id": "employed-estonia",
   "metadata": {},
   "source": [
    "<a id=\"appendix-some-reference\"></a>\n",
    "< [Go Back](#top) >"
   ]
  },
  {
   "cell_type": "markdown",
   "id": "sudden-sponsorship",
   "metadata": {},
   "source": [
    "&#x1F6A7;"
   ]
  },
  {
   "cell_type": "markdown",
   "id": "divine-married",
   "metadata": {},
   "source": [
    "###### Github\n",
    "***"
   ]
  },
  {
   "cell_type": "markdown",
   "id": "considered-giant",
   "metadata": {},
   "source": [
    "```\n",
    "git push -f origin HEAD^:master && git reset HEAD~\n",
    "```"
   ]
  },
  {
   "cell_type": "markdown",
   "id": "jewish-macedonia",
   "metadata": {},
   "source": [
    "###### Functions\n",
    "***"
   ]
  },
  {
   "cell_type": "markdown",
   "id": "inside-angle",
   "metadata": {},
   "source": [
    "```python\n",
    "# %%writefile -a ../src/fubar.py\n",
    "# repository ./fubar-python\n",
    "def f():\n",
    "    \"\"\"\n",
    "\n",
    "Input:\n",
    "Process:\n",
    "Output:\n",
    "\"\"\"\n",
    "    pass\n",
    "# -- END ---\n",
    "```"
   ]
  },
  {
   "cell_type": "markdown",
   "id": "functioning-fluid",
   "metadata": {},
   "source": [
    "```\n",
    "git commit -m \"update repository ./fubar-python - Everything in python is an object.\"\n",
    "```"
   ]
  },
  {
   "cell_type": "markdown",
   "id": "earned-constitution",
   "metadata": {},
   "source": [
    "###### Tables\n",
    "***"
   ]
  },
  {
   "cell_type": "markdown",
   "id": "reflected-disco",
   "metadata": {},
   "source": [
    "|aaa|bbbbbb|ccccccccc|\n",
    "|:------------------------- | :------------------------- | :------------------------- |\n",
    "|aaa|bbbbbb|ccccccccc|"
   ]
  },
  {
   "cell_type": "markdown",
   "id": "boring-assist",
   "metadata": {},
   "source": [
    "***\n",
    "## END"
   ]
  },
  {
   "cell_type": "markdown",
   "id": "unavailable-person",
   "metadata": {},
   "source": [
    "# END JUPYTER NOTEBOOK"
   ]
  }
 ],
 "metadata": {
  "kernelspec": {
   "display_name": "Python 3",
   "language": "python",
   "name": "python3"
  },
  "language_info": {
   "codemirror_mode": {
    "name": "ipython",
    "version": 3
   },
   "file_extension": ".py",
   "mimetype": "text/x-python",
   "name": "python",
   "nbconvert_exporter": "python",
   "pygments_lexer": "ipython3",
   "version": "3.8.3"
  }
 },
 "nbformat": 4,
 "nbformat_minor": 5
}
