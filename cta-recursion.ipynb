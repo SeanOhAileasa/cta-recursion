{
 "cells": [
  {
   "cell_type": "code",
   "execution_count": null,
   "id": "nominated-holocaust",
   "metadata": {},
   "outputs": [
    {
     "data": {
      "text/html": [
       "<script>Jupyter.notebook.kernel.restart()</script>"
      ]
     },
     "metadata": {},
     "output_type": "display_data"
    }
   ],
   "source": [
    "from IPython.core.display import display_html\n",
    "display_html(\"<script>Jupyter.notebook.kernel.restart()</script>\",raw=True)"
   ]
  },
  {
   "cell_type": "code",
   "execution_count": 1,
   "id": "purple-precipitation",
   "metadata": {},
   "outputs": [
    {
     "data": {
      "text/html": [
       "<style>.container { width:100% !important; }</style>"
      ],
      "text/plain": [
       "<IPython.core.display.HTML object>"
      ]
     },
     "metadata": {},
     "output_type": "display_data"
    },
    {
     "data": {
      "text/html": [
       "<style>.container { width:100% !important; }</style>"
      ],
      "text/plain": [
       "<IPython.core.display.HTML object>"
      ]
     },
     "metadata": {},
     "output_type": "display_data"
    }
   ],
   "source": [
    "from sys import path; path.insert(1,\"../src\");\n",
    "import fubar; from importlib import reload; reload(fubar);"
   ]
  },
  {
   "cell_type": "markdown",
   "id": "stupid-anthony",
   "metadata": {},
   "source": [
    "***\n",
    "< [GMIT Data Analytics](https://web.archive.org/web/20201029063153/https://www.gmit.ie/computer-science-and-applied-physics/higher-diploma-science-computing-data-analytics-ict) | [Home](https://github.com/SeanOhAileasa) | [README](https://github.com/SeanOhAileasa/cta-recursion/blob/main/README.md) >\n",
    "\n",
    "[![GMIT](https://github.com/SeanOhAileasa/SeanOhAileasa/blob/master/img/gmit.png?raw=true)](https://web.archive.org/web/20201029063153/https://www.gmit.ie/computer-science-and-applied-physics/higher-diploma-science-computing-data-analytics-ict)\n",
    "\n",
    "## Computational Thinking with Algorithms - Course Material 2021\n",
    "### Topic: [Recursion](https://nbviewer.jupyter.org/github/SeanOhAileasa/cta-recursion/blob/main/cta-recursion.ipynb)\n",
    "\n",
    "***"
   ]
  },
  {
   "cell_type": "markdown",
   "id": "governing-momentum",
   "metadata": {},
   "source": [
    "Course material for the ``Computational Thinking with Algorithms`` module (5 Credits) of the ``Higher Diploma in Science in Computing (Data Analytics) (H.Dip)`` programme (75 Credits) at **Galway-Mayo Institute of Technology (GMIT)**."
   ]
  },
  {
   "cell_type": "code",
   "execution_count": 2,
   "id": "palestinian-vault",
   "metadata": {},
   "outputs": [],
   "source": [
    "exit()"
   ]
  },
  {
   "cell_type": "code",
   "execution_count": 1,
   "id": "raising-handy",
   "metadata": {
    "scrolled": false
   },
   "outputs": [
    {
     "data": {
      "text/html": [
       "<video src=\"./hide/05-Recursive-Algorithms-Part 1-Java +Python-12-02-2019.mp4\" controls  >\n",
       "      Your browser does not support the <code>video</code> element.\n",
       "    </video>"
      ],
      "text/plain": [
       "<IPython.core.display.Video object>"
      ]
     },
     "execution_count": 1,
     "metadata": {},
     "output_type": "execute_result"
    }
   ],
   "source": [
    "from IPython.display import Video; Video(\"./hide/05-Recursive-Algorithms-Part 1-Java +Python-12-02-2019.mp4\")"
   ]
  },
  {
   "cell_type": "markdown",
   "id": "biblical-peeing",
   "metadata": {},
   "source": [
    "<a id=\"top\"></a>\n",
    "***\n",
    "## Table of Contents\n",
    "***\n",
    "\n",
    "## [Abstract](#abstract)\n",
    "\n",
    "\n",
    "## [Introduction](#introduction)\n",
    "\n",
    "* [Trace](#Trace)\n",
    "* [Types](#Types)\n",
    "    * [Linear](#Linear)\n",
    "        * [Tail](#Tail)\n",
    "    * [Binary](#Binary)\n",
    "    * [Exponential](#Exponential)\n",
    "* [Error](#Error)\n",
    "    * [Infinite](#Infinite)\n",
    "    * [Circular](#Circular)\n",
    "    \n",
    "## [Solution](#solution)\n",
    "\n",
    "* [Stack](#Stack)\n",
    "\n",
    "## [Conclusion](#conclusion)"
   ]
  },
  {
   "cell_type": "markdown",
   "id": "velvet-withdrawal",
   "metadata": {},
   "source": [
    "***\n",
    "## END"
   ]
  },
  {
   "cell_type": "markdown",
   "id": "alpine-graham",
   "metadata": {},
   "source": [
    "< [Table of Contents](#top) | [Introduction](#introduction) | [Solution](#solution) | [Conclusion](#conclusion) | [References](#references) >\n",
    "<a id=\"abstract\"></a>\n",
    "***\n",
    "## Abstract\n",
    "***"
   ]
  },
  {
   "cell_type": "markdown",
   "id": "municipal-press",
   "metadata": {},
   "source": [
    "- iteration is a process that allows some sequence of steps or some block of code to be executed repeatedly (for/while loop) - it is very common that iterative approaches are used in algorithms [1]"
   ]
  },
  {
   "cell_type": "markdown",
   "id": "optimum-headline",
   "metadata": {},
   "source": [
    "- recursion is a technique which may be applied to complete tasks which are repetitive in nature - consider how a procedure/function/method (hereafter called **\"process\"**) is normally called in a program - ``main`` calls ``alpha`` (note the arrow denotes the call) [1]"
   ]
  },
  {
   "cell_type": "markdown",
   "id": "tough-venezuela",
   "metadata": {},
   "source": [
    "![main-call-alpha](https://github.com/SeanOhAileasa/SeanOhAileasa/blob/master/img/cta/recursion/abstract/main-call-alpha.png?raw=true)\n",
    "\n",
    "***(Image) P. Mannion, \"05 Recursive Algorithms Part 1 (Java +Python),\" GMIT, February 2019.***"
   ]
  },
  {
   "cell_type": "markdown",
   "id": "representative-server",
   "metadata": {},
   "source": [
    "- recursion is a technique which may be applied to complete tasks which are repetitive in nature - a recursive process is one which calls itself within its body [1]"
   ]
  },
  {
   "cell_type": "markdown",
   "id": "contained-venezuela",
   "metadata": {},
   "source": [
    "- within ``beta`` there is another call to ``beta`` [1]"
   ]
  },
  {
   "cell_type": "markdown",
   "id": "behind-thread",
   "metadata": {},
   "source": [
    "![main-call-alpha](https://github.com/SeanOhAileasa/SeanOhAileasa/blob/master/img/cta/recursion/abstract/beta.png?raw=true)\n",
    "\n",
    "***(Image) P. Mannion, \"05 Recursive Algorithms Part 1 (Java +Python),\" GMIT, February 2019.***"
   ]
  },
  {
   "cell_type": "markdown",
   "id": "satisfactory-winner",
   "metadata": {},
   "source": [
    "- the technique of recursion allows the solving of a problem by breaking it up into smaller instances of the same problem [1]"
   ]
  },
  {
   "cell_type": "markdown",
   "id": "wired-domestic",
   "metadata": {},
   "source": [
    "- semantically powerful way to tackle a programming problem as there are many problems which are more concisely solved by using a recursive approach [1]"
   ]
  },
  {
   "cell_type": "markdown",
   "id": "clean-traveler",
   "metadata": {},
   "source": [
    "- file directory traversal problem - operation of traversing through directories of a file system such as a c drive with a folder called program-files and within another folder called java and within yet another folder called java-development-kit and within yet another folder called binary (javac compiler stored within the binary folder [1]"
   ]
  },
  {
   "cell_type": "markdown",
   "id": "presidential-paris",
   "metadata": {},
   "source": [
    " - to get from the root of the c drive and down through all the directories in turn and search for a specific file is a recursive problelm given movement through a directory and looking at everything in the directory (moving down the next step and so forth) - this problem is naturally recursive [1]"
   ]
  },
  {
   "cell_type": "markdown",
   "id": "relative-electric",
   "metadata": {},
   "source": [
    "- other operations include traversing through a tree of search results [1]"
   ]
  },
  {
   "cell_type": "markdown",
   "id": "instructional-services",
   "metadata": {},
   "source": [
    "- some sorting algorithms are recursive in nature (Merge Sort algorithm) [1]"
   ]
  },
  {
   "cell_type": "markdown",
   "id": "small-music",
   "metadata": {},
   "source": [
    "- so with problems that have these kind of features where they can be broken down into smaller instances of this same problem essentially recursion is very useful because it often leads to cleaner and more concise code and that leads to easier maintainability and it becomes easier to understand once the principles of recursion are understood and how it works [1]"
   ]
  },
  {
   "cell_type": "markdown",
   "id": "shaped-rebound",
   "metadata": {},
   "source": [
    "- recursive processes can quite succinctly do the work of an iterative approach with a lot less code in a lot cleaner manner [1]"
   ]
  },
  {
   "cell_type": "code",
   "execution_count": 1,
   "id": "sexual-rebel",
   "metadata": {},
   "outputs": [],
   "source": [
    "exit()"
   ]
  },
  {
   "cell_type": "markdown",
   "id": "integrated-crawford",
   "metadata": {},
   "source": [
    "<!-- print(fGetModuleType(___x___),fDocumentation(___x___)) -->\n",
    "***\n",
    "## END"
   ]
  },
  {
   "cell_type": "markdown",
   "id": "common-kernel",
   "metadata": {},
   "source": [
    "< [Table of Contents](#top) | [Abstract](#abstract) | [Solution](#solution) | [Conclusion](#conclusion) | [References](#references) >\n",
    "<a id=\"introduction\"></a>\n",
    "***\n",
    "## Introduction\n",
    "***"
   ]
  },
  {
   "cell_type": "markdown",
   "id": "capital-debut",
   "metadata": {},
   "source": [
    "- ``fCount`` passing the value ``0`` - conditional statement checks if ``nParIndex<0`` then call ``fCount`` again passing in the value ``nParIndex+1`` [1]"
   ]
  },
  {
   "cell_type": "markdown",
   "id": "animated-image",
   "metadata": {},
   "source": [
    "- ``fCount`` calls itself within its own body - this is the step where the recursion occurs - the step whereby ``fCount(nParIndex+1)`` is called [1]"
   ]
  },
  {
   "cell_type": "code",
   "execution_count": 1,
   "id": "continued-location",
   "metadata": {},
   "outputs": [
    {
     "name": "stdout",
     "output_type": "stream",
     "text": [
      "# repository ./fubar-python\r\n",
      "def fCount(nParIndex):\r\n",
      "    \"\"\"Recursive process.\r\n",
      "\r\n",
      "Input: nParIndex\r\n",
      "Process: print Input; if Input<2 then call fCount passing Input+1\r\n",
      "Output: sequence 0, 1, 2\r\n",
      "\"\"\"\r\n",
      "    print(nParIndex)\r\n",
      "    if nParIndex<2:\r\n",
      "        fCount(nParIndex+1)\r\n",
      "# -- END ---\r\n"
     ]
    }
   ],
   "source": [
    "%%script bash\n",
    "grep -1 \"def fCount\" ../src/fubar.py -A 10"
   ]
  },
  {
   "cell_type": "code",
   "execution_count": 2,
   "id": "settled-induction",
   "metadata": {},
   "outputs": [],
   "source": [
    "from sys import path; path.insert(1,\"../src\")"
   ]
  },
  {
   "cell_type": "code",
   "execution_count": 3,
   "id": "bridal-philosophy",
   "metadata": {},
   "outputs": [
    {
     "data": {
      "text/html": [
       "<style>.container { width:100% !important; }</style>"
      ],
      "text/plain": [
       "<IPython.core.display.HTML object>"
      ]
     },
     "metadata": {},
     "output_type": "display_data"
    }
   ],
   "source": [
    "from fubar import fCount"
   ]
  },
  {
   "cell_type": "markdown",
   "id": "urban-cassette",
   "metadata": {},
   "source": [
    "- ``main`` calling ``fCount(0)`` - current value of ``nParIndex`` is printed [1]\n",
    "\n",
    "```python\n",
    "print(nParIndex) # 0\n",
    "```"
   ]
  },
  {
   "cell_type": "markdown",
   "id": "personalized-making",
   "metadata": {},
   "source": [
    "- if ``nParIndex<2`` then at this point another copy of ``fCount`` is activated and the value ``1`` is passed in the next call [1] \n",
    "\n",
    "```python\n",
    "if nParIndex<2:\n",
    "    fCount(nParIndex+1) # nParIndex==1\n",
    "```"
   ]
  },
  {
   "cell_type": "markdown",
   "id": "spare-zambia",
   "metadata": {},
   "source": [
    "- ``1st recursive call`` - current value of ``nParIndex`` is printed [1]\n",
    "\n",
    "```python\n",
    "print(nParIndex) # 1\n",
    "```"
   ]
  },
  {
   "cell_type": "markdown",
   "id": "fourth-shield",
   "metadata": {},
   "source": [
    "- if ``nParIndex<2`` then at this point another copy of ``fCount`` is activated and the value ``2`` is passed in the next call [1] \n",
    "\n",
    "```python\n",
    "if nParIndex<2:\n",
    "    fCount(nParIndex+1) # nParIndex==2\n",
    "```"
   ]
  },
  {
   "cell_type": "markdown",
   "id": "proof-mason",
   "metadata": {},
   "source": [
    "- ``2nd recursive call`` - current value of ``nParIndex`` is printed [1]\n",
    "\n",
    "```python\n",
    "print(nParIndex) # 2\n",
    "```"
   ]
  },
  {
   "cell_type": "markdown",
   "id": "dietary-sucking",
   "metadata": {},
   "source": [
    "- conditional statement ``nParIndex<2`` returns ``False`` - does not reach the end of the ``2nd recursive call`` of ``fCount`` therefore returning control to the previous instance of ``fCount`` (via ``1st recursive call``) and then that will return control to the first instance of the ``fCount`` (via ``main``) [1]"
   ]
  },
  {
   "cell_type": "markdown",
   "id": "adopted-softball",
   "metadata": {},
   "source": [
    "- sequence ``0, 1, 2`` is complete [1]"
   ]
  },
  {
   "cell_type": "code",
   "execution_count": 4,
   "id": "champion-buyer",
   "metadata": {},
   "outputs": [
    {
     "name": "stdout",
     "output_type": "stream",
     "text": [
      "0\n",
      "1\n",
      "2\n"
     ]
    }
   ],
   "source": [
    "fCount(0)"
   ]
  },
  {
   "cell_type": "code",
   "execution_count": 5,
   "id": "talented-repeat",
   "metadata": {},
   "outputs": [],
   "source": [
    "exit()"
   ]
  },
  {
   "cell_type": "markdown",
   "id": "second-hormone",
   "metadata": {},
   "source": [
    "< [Table of Contents](#top) | [References](#references) >\n",
    "<a id=\"Trace\"></a>\n",
    "### Trace\n",
    "***"
   ]
  },
  {
   "cell_type": "markdown",
   "id": "answering-quest",
   "metadata": {},
   "source": [
    "- visualising calls to a recursive process via recursion trace - way of tracing the call from the caller all the way down through the nested levels of recursion and then all the way back to the caller again (convention: black arrow will represent a call / green arrow will represent a return with the value returned printed beside the green arrow) [1]"
   ]
  },
  {
   "cell_type": "markdown",
   "id": "accompanied-berry",
   "metadata": {},
   "source": [
    "![main-call-alpha](https://github.com/SeanOhAileasa/SeanOhAileasa/blob/master/img/cta/recursion/stack/04-1-03.png?raw=true)\n",
    "\n",
    "***(Image) P. Mannion, \"05 Recursive Algorithms Part 1 (Java +Python),\" GMIT, February 2019.***"
   ]
  },
  {
   "cell_type": "code",
   "execution_count": 1,
   "id": "appropriate-recycling",
   "metadata": {},
   "outputs": [],
   "source": [
    "exit()"
   ]
  },
  {
   "cell_type": "markdown",
   "id": "rough-legislation",
   "metadata": {},
   "source": [
    "< [Table of Contents](#top) | [References](#references) >\n",
    "<a id=\"Types\"></a>\n",
    "### Types\n",
    "***"
   ]
  },
  {
   "cell_type": "markdown",
   "id": "excited-globe",
   "metadata": {},
   "source": [
    "&#x1F6A7;"
   ]
  },
  {
   "cell_type": "code",
   "execution_count": 1,
   "id": "english-encyclopedia",
   "metadata": {},
   "outputs": [],
   "source": [
    "exit()"
   ]
  },
  {
   "cell_type": "markdown",
   "id": "vanilla-conspiracy",
   "metadata": {},
   "source": [
    "< [Table of Contents](#top) | [References](#references) >\n",
    "<a id=\"Linear\"></a>\n",
    "###### Linear\n",
    "***"
   ]
  },
  {
   "cell_type": "markdown",
   "id": "spoken-warning",
   "metadata": {},
   "source": [
    "- most simple type [1]"
   ]
  },
  {
   "cell_type": "markdown",
   "id": "working-america",
   "metadata": {},
   "source": [
    "- the number of activation frames (records - number of calls in the recursion) grows in a linear manner [1]"
   ]
  },
  {
   "cell_type": "markdown",
   "id": "superior-surfing",
   "metadata": {},
   "source": [
    "- a process that is linearly recursive makes a single call to itself [1]"
   ]
  },
  {
   "cell_type": "code",
   "execution_count": 1,
   "id": "suitable-supervision",
   "metadata": {},
   "outputs": [],
   "source": [
    "exit()"
   ]
  },
  {
   "cell_type": "markdown",
   "id": "buried-interview",
   "metadata": {},
   "source": [
    "< [Table of Contents](#top) | [References](#references) >\n",
    "<a id=\"Tail\"></a>\n",
    "###### Tail\n",
    "***"
   ]
  },
  {
   "cell_type": "markdown",
   "id": "official-increase",
   "metadata": {},
   "source": [
    "- a specific type of linear recursion [1]"
   ]
  },
  {
   "cell_type": "markdown",
   "id": "convertible-albania",
   "metadata": {},
   "source": [
    "- single call to itself and is the very last operation in the process [1]"
   ]
  },
  {
   "cell_type": "markdown",
   "id": "single-textbook",
   "metadata": {},
   "source": [
    "- every time a process is invoked its activation frame (record) will be placed on top of the program stack - this is something to avoid given multiple active stack frames are unnecessary even thought the process has finished its work [1]"
   ]
  },
  {
   "cell_type": "markdown",
   "id": "inappropriate-wichita",
   "metadata": {},
   "source": [
    "- appropriate to use sometimes but can be expensive and inefficient because all these activation frames (records) are still taking up space on the stack even though the process has completed its work (task) right at the end of its body [1]"
   ]
  },
  {
   "cell_type": "markdown",
   "id": "numerous-intake",
   "metadata": {},
   "source": [
    "- should really use tail recursion sparingly and carefully [1]"
   ]
  },
  {
   "cell_type": "markdown",
   "id": "seven-toolbox",
   "metadata": {},
   "source": [
    "- ``fCount`` is an example of linear recursion and also tail recursion because the very last operation within the its body is a recursive call to itself [1]"
   ]
  },
  {
   "cell_type": "code",
   "execution_count": 1,
   "id": "substantial-employee",
   "metadata": {},
   "outputs": [],
   "source": [
    "exit()"
   ]
  },
  {
   "cell_type": "markdown",
   "id": "thick-benjamin",
   "metadata": {},
   "source": [
    "< [Table of Contents](#top) | [References](#references) >\n",
    "<a id=\"Binary\"></a>\n",
    "###### Binary\n",
    "***"
   ]
  },
  {
   "cell_type": "markdown",
   "id": "driven-cathedral",
   "metadata": {},
   "source": [
    "- binary (opposed to linear recursion) is a recursive process making two calls to itself within its body [1]"
   ]
  },
  {
   "cell_type": "markdown",
   "id": "smart-center",
   "metadata": {},
   "source": [
    "- obviously leads to a much larger growth rate getting to different nested levels of recursion when compared to an implementation that only uses linear recursion [1]"
   ]
  },
  {
   "cell_type": "code",
   "execution_count": 1,
   "id": "entire-floating",
   "metadata": {},
   "outputs": [],
   "source": [
    "exit()"
   ]
  },
  {
   "cell_type": "markdown",
   "id": "embedded-bankruptcy",
   "metadata": {},
   "source": [
    "< [Table of Contents](#top) | [References](#references) >\n",
    "<a id=\"Exponential\"></a>\n",
    "###### Exponential\n",
    "***"
   ]
  },
  {
   "cell_type": "markdown",
   "id": "vocal-peoples",
   "metadata": {},
   "source": [
    "- process that makes more than two recursive calls within its body [1] "
   ]
  },
  {
   "cell_type": "markdown",
   "id": "suburban-median",
   "metadata": {},
   "source": [
    "- want to try to avoid binary/exponential recursion as much as possible given that just a few nested levels of recursion will end up with exponential growth in the number of process activation frames (becomes inefficient) [1] "
   ]
  },
  {
   "cell_type": "code",
   "execution_count": 1,
   "id": "stuck-sending",
   "metadata": {},
   "outputs": [],
   "source": [
    "exit()"
   ]
  },
  {
   "cell_type": "markdown",
   "id": "settled-killing",
   "metadata": {},
   "source": [
    "< [Table of Contents](#top) | [References](#references) >\n",
    "<a id=\"Error\"></a>\n",
    "### Error\n",
    "***"
   ]
  },
  {
   "cell_type": "markdown",
   "id": "guided-enough",
   "metadata": {},
   "source": [
    "- some common problems (errors) which crop up when designing/implementing recursive implementations (algorithms) include: i) infinite and; circular [1]"
   ]
  },
  {
   "cell_type": "code",
   "execution_count": 1,
   "id": "religious-prediction",
   "metadata": {},
   "outputs": [],
   "source": [
    "exit()"
   ]
  },
  {
   "cell_type": "markdown",
   "id": "satisfied-clear",
   "metadata": {},
   "source": [
    "< [Table of Contents](#top) | [References](#references) >\n",
    "<a id=\"Infinite\"></a>\n",
    "###### Infinite\n",
    "***"
   ]
  },
  {
   "cell_type": "markdown",
   "id": "earned-nitrogen",
   "metadata": {},
   "source": [
    "- recursive process that does not have a base case [1]"
   ]
  },
  {
   "cell_type": "code",
   "execution_count": 1,
   "id": "continental-blank",
   "metadata": {},
   "outputs": [
    {
     "name": "stdout",
     "output_type": "stream",
     "text": [
      "# repository ./fubar-python\r\n",
      "def fInfinite(nParInteger):\r\n",
      "    \"\"\"Recursive process without a base case.\r\n",
      "\r\n",
      "Input: nParInteger\r\n",
      "Process: Input-1\r\n",
      "Output: never stops making recursive calls regardless of Input\r\n",
      "\"\"\"\r\n",
      "    fInfinite(nParInteger-1)\r\n",
      "# -- END ---\r\n"
     ]
    }
   ],
   "source": [
    "%%script bash\n",
    "grep -1 \"def fInfinite\" ../src/fubar.py -A 8"
   ]
  },
  {
   "cell_type": "markdown",
   "id": "competitive-generation",
   "metadata": {},
   "source": [
    "- ``fInfinite`` passing ``n`` and within its body calling ``fInfinite`` with parameter ``nParInteger-1`` [1]"
   ]
  },
  {
   "cell_type": "code",
   "execution_count": 2,
   "id": "specialized-campbell",
   "metadata": {},
   "outputs": [],
   "source": [
    "n=1"
   ]
  },
  {
   "cell_type": "markdown",
   "id": "western-introduction",
   "metadata": {},
   "source": [
    "- next call ``infinite(0)`` and next call ``infinite(-1)`` and so on such that the process would never stop making recursive calls [1]"
   ]
  },
  {
   "cell_type": "code",
   "execution_count": 3,
   "id": "operating-grave",
   "metadata": {},
   "outputs": [],
   "source": [
    "from sys import path; path.insert(1,\"../src\")"
   ]
  },
  {
   "cell_type": "code",
   "execution_count": 4,
   "id": "representative-palace",
   "metadata": {},
   "outputs": [
    {
     "data": {
      "text/html": [
       "<style>.container { width:100% !important; }</style>"
      ],
      "text/plain": [
       "<IPython.core.display.HTML object>"
      ]
     },
     "metadata": {},
     "output_type": "display_data"
    }
   ],
   "source": [
    "from fubar import fInfinite"
   ]
  },
  {
   "cell_type": "markdown",
   "id": "assigned-respect",
   "metadata": {},
   "source": [
    "- the value the input parameter does not matter - ``fInfinite`` will keep making recursive calls to itself [1]"
   ]
  },
  {
   "cell_type": "markdown",
   "id": "binding-pickup",
   "metadata": {},
   "source": [
    "- implementing an iterative design paradigm and not having conditions set up in the right way such as a ``while`` loop with a condition that never becomes ``False`` therefore never exits is an infinite loop [1]"
   ]
  },
  {
   "cell_type": "markdown",
   "id": "collected-nudist",
   "metadata": {},
   "source": [
    "- implementing a recursive design paradigm and experiencing infinite recursion is similar in a way but a little more informative (noticeable) when it goes wrong than experiencing an infinite loop [1]"
   ]
  },
  {
   "cell_type": "markdown",
   "id": "racial-transparency",
   "metadata": {},
   "source": [
    "- in terms of the activation frames (records) of recursive calls being kept on the stack - the implemented in Java will experience a ``StackOverflowError`` eventually and how long this takes to reach would depend on how much memory is available to the Java Virtual Machine and by extension how much memory is available on the computer but in a nutshell that process would keep making recursive calls to itself and would keep adding activation frames (records) to the stack until the  ``StackOverflowError`` occurs (recursive calls having taken up all the available memory in the JVM) [1]"
   ]
  },
  {
   "cell_type": "code",
   "execution_count": 5,
   "id": "medical-monday",
   "metadata": {},
   "outputs": [],
   "source": [
    "from sys import getrecursionlimit"
   ]
  },
  {
   "cell_type": "code",
   "execution_count": 6,
   "id": "aquatic-church",
   "metadata": {},
   "outputs": [
    {
     "name": "stdout",
     "output_type": "stream",
     "text": [
      "maximum recursion depth (3000) exceeded\n"
     ]
    }
   ],
   "source": [
    "try:\n",
    "    fInfinite(n)\n",
    "except RecursionError:\n",
    "    print(\"maximum recursion depth ({}) exceeded\".format(getrecursionlimit()))"
   ]
  },
  {
   "cell_type": "markdown",
   "id": "social-investor",
   "metadata": {},
   "source": [
    "- to protect against this need a base case [1]"
   ]
  },
  {
   "cell_type": "markdown",
   "id": "dominican-contract",
   "metadata": {},
   "source": [
    "- a base case very simply is a case or input parameters for the recursive process which can be solved without recursion [1]"
   ]
  },
  {
   "cell_type": "markdown",
   "id": "defensive-medication",
   "metadata": {},
   "source": [
    "- ``fCount`` increments the value of the input value ``nParIndex`` then the next call would call ``nParIndex+1`` and so on having a condition ``if nParIndex<2`` such that when ``nParIndex=2`` or greater then ``2`` is the base case for that particular algorithm [1]"
   ]
  },
  {
   "cell_type": "code",
   "execution_count": 7,
   "id": "bacterial-devices",
   "metadata": {},
   "outputs": [],
   "source": [
    "exit()"
   ]
  },
  {
   "cell_type": "markdown",
   "id": "traditional-sleeping",
   "metadata": {},
   "source": [
    "< [Table of Contents](#top) | [References](#references) >\n",
    "<a id=\"Circular\"></a>\n",
    "###### Circular\n",
    "***"
   ]
  },
  {
   "cell_type": "markdown",
   "id": "familiar-nomination",
   "metadata": {},
   "source": [
    "- specific form of infinite recursion whereby recursive calls stop making progress towards the base case or not make progress towards a case which can actually be solved without recursion [1]"
   ]
  },
  {
   "cell_type": "code",
   "execution_count": 1,
   "id": "virgin-kenya",
   "metadata": {},
   "outputs": [
    {
     "name": "stdout",
     "output_type": "stream",
     "text": [
      "# repository ./cta-recursion\r\n",
      "def fCircular(nParInteger):\r\n",
      "    \"\"\"Recursive process not making progress toward a base case.\r\n",
      "\r\n",
      "Input: nParInteger\r\n",
      "Process: if Input==1 then call fCircular passing Input+1;\r\n",
      "    otherwise make call to fCircular passing Input-1\r\n",
      "Output: keeps going back and forth when Input==1\r\n",
      "\"\"\"\r\n",
      "    if nParInteger==1:\r\n",
      "        fCircular(nParInteger+1)\r\n",
      "    fCircular(nParInteger-1)\r\n",
      "# -- END ---\r\n"
     ]
    }
   ],
   "source": [
    "%%script bash\n",
    "grep -1 \"def fCircular\" ../src/fubar.py -A 11"
   ]
  },
  {
   "cell_type": "markdown",
   "id": "composite-north",
   "metadata": {},
   "source": [
    "- ``fCircular`` passing ``n`` and within its body calling ``fCircular`` with parameter ``nParInteger+1`` if ``nParInteger==1`` otherwise calling ``fCircular`` with parameter ``nParInteger-1`` [1]"
   ]
  },
  {
   "cell_type": "code",
   "execution_count": 2,
   "id": "partial-junior",
   "metadata": {},
   "outputs": [],
   "source": [
    "n=1"
   ]
  },
  {
   "cell_type": "code",
   "execution_count": 3,
   "id": "south-discipline",
   "metadata": {},
   "outputs": [],
   "source": [
    "from sys import path; path.insert(1,\"../src/\")"
   ]
  },
  {
   "cell_type": "code",
   "execution_count": 4,
   "id": "running-tiffany",
   "metadata": {},
   "outputs": [
    {
     "data": {
      "text/html": [
       "<style>.container { width:100% !important; }</style>"
      ],
      "text/plain": [
       "<IPython.core.display.HTML object>"
      ]
     },
     "metadata": {},
     "output_type": "display_data"
    }
   ],
   "source": [
    "from fubar import fCircular"
   ]
  },
  {
   "cell_type": "markdown",
   "id": "governing-african",
   "metadata": {},
   "source": [
    "- next call ``fCircular(2)`` and next call ``fCircular(1)`` and so on such that the process would keep going back and forth [1]"
   ]
  },
  {
   "cell_type": "markdown",
   "id": "dental-federation",
   "metadata": {},
   "source": [
    "- similar to ``fInfinite`` the process would keep making recursive calls to itself until the memory available ran out or until a ``StackOverflowError`` occurs because multiple activation frames (records) are added [1]"
   ]
  },
  {
   "cell_type": "markdown",
   "id": "computational-purple",
   "metadata": {},
   "source": [
    "- a new activation frame (record) is added with every recursive call but none of the actual recursive calls would ever return (taking up all available memory) [1]"
   ]
  },
  {
   "cell_type": "code",
   "execution_count": 5,
   "id": "excessive-harvey",
   "metadata": {},
   "outputs": [
    {
     "name": "stdout",
     "output_type": "stream",
     "text": [
      "maximum recursion depth exceeded in comparison\n"
     ]
    }
   ],
   "source": [
    "try:\n",
    "    fCircular(n)\n",
    "except RecursionError:\n",
    "    print(\"maximum recursion depth exceeded in comparison\")"
   ]
  },
  {
   "cell_type": "markdown",
   "id": "aboriginal-kitty",
   "metadata": {},
   "source": [
    "- like infinite recursion circular recursion is something to watch out for when designing and implementing recursive algorithms [1]"
   ]
  },
  {
   "cell_type": "code",
   "execution_count": 6,
   "id": "differential-ceramic",
   "metadata": {},
   "outputs": [],
   "source": [
    "exit()"
   ]
  },
  {
   "cell_type": "markdown",
   "id": "built-press",
   "metadata": {},
   "source": [
    "<!-- print(fGetModuleType(___x___),fDocumentation(___x___)) -->\n",
    "***\n",
    "## END"
   ]
  },
  {
   "cell_type": "markdown",
   "id": "saved-costa",
   "metadata": {},
   "source": [
    "< [Table of Contents](#top) | [Abstract](#abstract) | [Introduction](#introduction) | [Conclusion](#conclusion) | [References](#references) >\n",
    "<a id=\"solution\"></a>\n",
    "***\n",
    "## Solution\n",
    "***\n",
    "\n",
    "<!--\n",
    "so how do we avoid such problems but we need to have some rules that were going to consider when were implementing our recursive algorithms \n",
    "- and there are four basic rules that we have for recursive algorithms rule number one is that we must have a base case so a recursive algorithm must always have a base case which can be solved without recursion and we saw in the example with the fCount function/method that the base case there was in fact if the value of fCount reached two that would be solved with out recursion so any call to the fCount function/method with a value of two or above can be solved without recursion that means wed have a base case and function/methods without a base case would of course result in infinite recursion when theyre running so its very important to consider a base case or a simple instance of the problem which can be solved without recursion rule number two is that with every recursive call we must make progress towards that base case our base cases we could have more than one base case but we have to make progress towards the base case in each recursive call so for cases that are to be resolved solved recursively the next call must be a case that makes progress towards the base case function/methods that do not follow this rule ie they do not make progress towards the base case would result in circular recursion when theyre wrong like in the example on the previous slide the third rule when designing recursive algorithms is called the design rule and the design rule has to assume that all the recursive calls which we make will work what do we mean by that? well really we mean that if were at a higher level in recursion we assume that the next recursive call that we make will carry out his task as expected and will return so we have to assume that any recursive call that were going to make will follow basically the previous two rules that it will make progress towards the base case and that it will actually reach that base case eventually and that eventually all the nested levels of recursion will return one by one and that those will work as expected the final rule for recursive algorithms and this rule relates to efficiency or efficient use of computational resources this is called the compound interest rule and the compound interest rule says that we should never duplicate work by solving the same instance of a problem in separate recursive calls so we should structure our recursive algorithm in such a way that we are not actually repeating the same work or the same call over and over again in separate recursive instances because thats not a good use of computation resources and if we find in fact that we are i guess duplicating a lot of the same types of calls are same problem instances then in that case we should probably look at an iterative approach or an iterative implementation to solve our problem instead of using recursion so taking all of that together as a whole all the issues weve talked about so far in relation to recursive algorithms how would we actually go about designing and implementing recursive algorithm? well the very first and most fundamental step which we must take is to just think about the task which you wish to accomplish and we try to identify any recurring patterns or any patterns that wed see again so basically we look out for similar operations that must be conducted for example the trevor traversing through nested directories on a file system problem thats a problem that naturally lends itself to recursion\n",
    "\n",
    "or to a recursive solution so that process of looking through every file in the directory and see if we want to search for a file and then going into the directory below it or etc that is a fundamentally recursive process so we want to maybe divide that problem up using these recurring operations so the idea of maybe looking at every file in a folder and then moving on to the next four folder below you know that would be the most fundamental recurring operation that happens when were traversing through directories in a file system so after weve broken our larger problem up into the smallest i guess instance that we can the smallest recording instance and then we need to identify those cases which we know could be solved without recursion so that could be a single base case or you could have multiple base cases and in the example of traversing through directories on a file system that would be the deepest nested directory on the file system for example would be the recursive case because no more recursive calls would happen below that are nested deeper within so once weve divided the problem up we need to identify those cases which could be solved without recursion and so a good or well designed recursive algorithm would not end in a multitude of special cases rather the goal for us is to identify just one simple base case are just a very few very simple base cases that could be solved without recursion and those will actually act as a stop or prevent infinite recursion then we need to design our algorithm in such a way that will invoke a new copy of the function/method with each recursive step and will modify the input parameters so each recursive call would have like a different initialisation conditions are a different input and each recursive stack will then actually resemble the original larger problem and then finally with each recursive step or each recursive call we want to ensure that were going to make progress towards the base case our base cases with each successive call taking that all information that that how one would divide a problem up and begin to think about how to solve it in a recursive fashion so just to recap quickly on the material we covered today the main takeaway concept here is that recursion allows us to solve some problem by breaking it up into smaller instances of the same problem and therefore a recursive function/method is a function/method which calls itself within its own function/method body so we may want to use recursion versus an iterative approach because it allows for cleaner code and intuitively some problems may be more easily solved by taking a recursive approach so it quite often leads to cleaner code that is more maintainable and easier to understand we also examined some of the main design rules for recursive algorithms and we illustrate the importance of a base case in recursion where we said that a base case is a case which can be solved without recursion so it is an input instance for the algorithm or for the function/method which may be solved without making a recursive call so in the next lecture were going to consider some example problems which may be solved using recursion\n",
    "-->"
   ]
  },
  {
   "cell_type": "markdown",
   "id": "suited-tuner",
   "metadata": {},
   "source": [
    "< [Table of Contents](#top) | [References](#references) >\n",
    "<a id=\"Stack\"></a>\n",
    "### Stack\n",
    "***"
   ]
  },
  {
   "cell_type": "markdown",
   "id": "intensive-assault",
   "metadata": {},
   "source": [
    "- program stack operates like a container of trays in a cafeteria: i) add a tray on the top and/or; ii) remove a tray off the top [1]"
   ]
  },
  {
   "cell_type": "markdown",
   "id": "dominant-paint",
   "metadata": {},
   "source": [
    "- stack operations: i) ``push`` pushes something onto the stack (always placed on the top of the stack) and ii)``pop`` pops something off the top of the stack (last item added to the top will be popped off when pop is called) [1]"
   ]
  },
  {
   "cell_type": "markdown",
   "id": "overall-closure",
   "metadata": {},
   "source": [
    "- each time a process is invoked (``push``) its activation frame (record) is placed on top of the stack - the activation frame is just a record of: i) the process called; ii) parameters passed and; iii) its flow of control it is in [1]"
   ]
  },
  {
   "cell_type": "markdown",
   "id": "forced-genome",
   "metadata": {},
   "source": [
    "- when a process returns/exits (``pop``) its activation frame (record) is taken off the stack [1]"
   ]
  },
  {
   "cell_type": "markdown",
   "id": "biblical-timeline",
   "metadata": {},
   "source": [
    "- the stack is way to visualise which process activation frames (records) are active at any one time [1]"
   ]
  },
  {
   "cell_type": "code",
   "execution_count": 1,
   "id": "adjacent-commercial",
   "metadata": {},
   "outputs": [],
   "source": [
    "nProcess=None"
   ]
  },
  {
   "cell_type": "code",
   "execution_count": 2,
   "id": "earlier-boutique",
   "metadata": {},
   "outputs": [
    {
     "data": {
      "text/plain": [
       "'<PROCESS> <invoke> None'"
      ]
     },
     "execution_count": 2,
     "metadata": {},
     "output_type": "execute_result"
    }
   ],
   "source": [
    "\"<PROCESS> <invoke> {}\".format(nProcess)"
   ]
  },
  {
   "cell_type": "code",
   "execution_count": 3,
   "id": "early-series",
   "metadata": {},
   "outputs": [],
   "source": [
    "nRecord=[]; nRecord.append(\"Empty Stack\"); nTime=0"
   ]
  },
  {
   "cell_type": "code",
   "execution_count": 4,
   "id": "possible-logging",
   "metadata": {},
   "outputs": [
    {
     "data": {
      "text/plain": [
       "'<STACK> <activation frame(s)> Empty Stack <time/active> 0'"
      ]
     },
     "execution_count": 4,
     "metadata": {},
     "output_type": "execute_result"
    }
   ],
   "source": [
    "\"<STACK> <activation frame(s)> {} <time/active> {}\".format(nRecord[0],nTime)"
   ]
  },
  {
   "cell_type": "markdown",
   "id": "atomic-vegetarian",
   "metadata": {},
   "source": [
    "![main-call-alpha](https://github.com/SeanOhAileasa/SeanOhAileasa/blob/master/img/cta/recursion/stack/04-1-04.png?raw=true)\n",
    "\n",
    "***(Image) P. Mannion, \"05 Recursive Algorithms Part 1 (Java +Python),\" GMIT, February 2019.***"
   ]
  },
  {
   "cell_type": "code",
   "execution_count": 5,
   "id": "unauthorized-uzbekistan",
   "metadata": {},
   "outputs": [],
   "source": [
    "nRecord=[]; nProcess=__name__"
   ]
  },
  {
   "cell_type": "code",
   "execution_count": 6,
   "id": "acute-bridge",
   "metadata": {},
   "outputs": [
    {
     "data": {
      "text/plain": [
       "'<PROCESS> <invoke> __main__'"
      ]
     },
     "execution_count": 6,
     "metadata": {},
     "output_type": "execute_result"
    }
   ],
   "source": [
    "\"<PROCESS> <invoke> {}\".format(nProcess)"
   ]
  },
  {
   "cell_type": "code",
   "execution_count": 7,
   "id": "catholic-wrong",
   "metadata": {},
   "outputs": [],
   "source": [
    "nRecord.append(nProcess); nTime+=1"
   ]
  },
  {
   "cell_type": "code",
   "execution_count": 8,
   "id": "reported-fortune",
   "metadata": {},
   "outputs": [
    {
     "data": {
      "text/plain": [
       "'<STACK> <push> __main__ <activation frame(s)> __main__ <time/active> 1'"
      ]
     },
     "execution_count": 8,
     "metadata": {},
     "output_type": "execute_result"
    }
   ],
   "source": [
    "\"<STACK> <push> {} <activation frame(s)> {} <time/active> {}\".format(nProcess,nRecord[0],nTime)"
   ]
  },
  {
   "cell_type": "markdown",
   "id": "regional-jacket",
   "metadata": {},
   "source": [
    "![main-call-alpha](https://github.com/SeanOhAileasa/SeanOhAileasa/blob/master/img/cta/recursion/stack/04-1-05.png?raw=true)\n",
    "\n",
    "***(Image) P. Mannion, \"05 Recursive Algorithms Part 1 (Java +Python),\" GMIT, February 2019.***"
   ]
  },
  {
   "cell_type": "code",
   "execution_count": 9,
   "id": "functional-overview",
   "metadata": {},
   "outputs": [
    {
     "name": "stdout",
     "output_type": "stream",
     "text": [
      "# repository ./fubar-python\r\n",
      "def fCount(nParIndex):\r\n",
      "    \"\"\"Recursive process.\r\n",
      "\r\n",
      "Input: nParIndex\r\n",
      "Process: print Input; if Input<2 then call fCount passing Input+1\r\n",
      "Output: sequence 0, 1, 2\r\n",
      "\"\"\"\r\n",
      "    print(nParIndex)\r\n",
      "    if nParIndex<2:\r\n",
      "        fCount(nParIndex+1)\r\n",
      "# -- END ---\r\n"
     ]
    }
   ],
   "source": [
    "%%script bash\n",
    "grep -1 \"def fCount\" ../src/fubar.py -A 10"
   ]
  },
  {
   "cell_type": "code",
   "execution_count": 10,
   "id": "juvenile-basketball",
   "metadata": {},
   "outputs": [],
   "source": [
    "from sys import path; path.insert(1,\"../src\")"
   ]
  },
  {
   "cell_type": "code",
   "execution_count": 11,
   "id": "least-presentation",
   "metadata": {},
   "outputs": [
    {
     "data": {
      "text/html": [
       "<style>.container { width:100% !important; }</style>"
      ],
      "text/plain": [
       "<IPython.core.display.HTML object>"
      ]
     },
     "metadata": {},
     "output_type": "display_data"
    }
   ],
   "source": [
    "from fubar import fCount"
   ]
  },
  {
   "cell_type": "code",
   "execution_count": 12,
   "id": "inclusive-ensemble",
   "metadata": {},
   "outputs": [],
   "source": [
    "nArgument=0; nParameter=nArgument; nProcess=fCount.__name__+\"(\"+str(nParameter)+\")\""
   ]
  },
  {
   "cell_type": "code",
   "execution_count": 13,
   "id": "protected-coating",
   "metadata": {},
   "outputs": [
    {
     "data": {
      "text/plain": [
       "'__main__ <PROCESS> <invoke> fCount(0)'"
      ]
     },
     "execution_count": 13,
     "metadata": {},
     "output_type": "execute_result"
    }
   ],
   "source": [
    "\"{} <PROCESS> <invoke> {}\".format(__name__,nProcess)"
   ]
  },
  {
   "cell_type": "code",
   "execution_count": 14,
   "id": "liable-horizon",
   "metadata": {},
   "outputs": [],
   "source": [
    "nRecord.append(nProcess); nTime+=1"
   ]
  },
  {
   "cell_type": "code",
   "execution_count": 15,
   "id": "enhanced-bulgaria",
   "metadata": {},
   "outputs": [
    {
     "data": {
      "text/plain": [
       "\"<STACK> <push> fCount(0) <activation frame(s)> ['__main__', 'fCount(0)'] <time/active> 2\""
      ]
     },
     "execution_count": 15,
     "metadata": {},
     "output_type": "execute_result"
    }
   ],
   "source": [
    "\"<STACK> <push> {} <activation frame(s)> {} <time/active> {}\".format(nProcess,nRecord,nTime)"
   ]
  },
  {
   "cell_type": "markdown",
   "id": "sonic-excerpt",
   "metadata": {},
   "source": [
    "![main-call-alpha](https://github.com/SeanOhAileasa/SeanOhAileasa/blob/master/img/cta/recursion/stack/04-1-06.png?raw=true)\n",
    "\n",
    "***(Image) P. Mannion, \"05 Recursive Algorithms Part 1 (Java +Python),\" GMIT, February 2019.***"
   ]
  },
  {
   "cell_type": "code",
   "execution_count": 16,
   "id": "vulnerable-mobility",
   "metadata": {},
   "outputs": [
    {
     "data": {
      "text/plain": [
       "'<PROCESS> <invoke> print(0)'"
      ]
     },
     "execution_count": 16,
     "metadata": {},
     "output_type": "execute_result"
    }
   ],
   "source": [
    "\"<PROCESS> <invoke> {}\".format(print.__name__+\"(\"+str(nParameter)+\")\")"
   ]
  },
  {
   "cell_type": "code",
   "execution_count": 17,
   "id": "treated-casting",
   "metadata": {},
   "outputs": [
    {
     "data": {
      "text/plain": [
       "'<RECURSION> <base case> True'"
      ]
     },
     "execution_count": 17,
     "metadata": {},
     "output_type": "execute_result"
    }
   ],
   "source": [
    "\"<RECURSION> <base case> {}\".format(nParameter<2)"
   ]
  },
  {
   "cell_type": "code",
   "execution_count": 18,
   "id": "verified-football",
   "metadata": {},
   "outputs": [],
   "source": [
    "nParameter+=1; nProcess=fCount.__name__+\"(\"+str(nParameter)+\")\""
   ]
  },
  {
   "cell_type": "code",
   "execution_count": 19,
   "id": "hearing-economics",
   "metadata": {},
   "outputs": [
    {
     "data": {
      "text/plain": [
       "'<PROCESS> <invoke> fCount(1)'"
      ]
     },
     "execution_count": 19,
     "metadata": {},
     "output_type": "execute_result"
    }
   ],
   "source": [
    "\"<PROCESS> <invoke> {}\".format(nProcess)"
   ]
  },
  {
   "cell_type": "code",
   "execution_count": 20,
   "id": "assured-spine",
   "metadata": {},
   "outputs": [],
   "source": [
    "nRecord.append(nProcess); nTime+=1"
   ]
  },
  {
   "cell_type": "code",
   "execution_count": 21,
   "id": "fiscal-today",
   "metadata": {},
   "outputs": [
    {
     "data": {
      "text/plain": [
       "\"<STACK> <push> fCount(1) <activation frame(s)> ['__main__', 'fCount(0)', 'fCount(1)'] <time/active> 3\""
      ]
     },
     "execution_count": 21,
     "metadata": {},
     "output_type": "execute_result"
    }
   ],
   "source": [
    "\"<STACK> <push> {} <activation frame(s)> {} <time/active> {}\".format(nProcess,nRecord,nTime)"
   ]
  },
  {
   "cell_type": "markdown",
   "id": "champion-violin",
   "metadata": {},
   "source": [
    "![main-call-alpha](https://github.com/SeanOhAileasa/SeanOhAileasa/blob/master/img/cta/recursion/stack/04-1-07.png?raw=true)\n",
    "\n",
    "***(Image) P. Mannion, \"05 Recursive Algorithms Part 1 (Java +Python),\" GMIT, February 2019.***"
   ]
  },
  {
   "cell_type": "code",
   "execution_count": 22,
   "id": "western-gambling",
   "metadata": {},
   "outputs": [
    {
     "data": {
      "text/plain": [
       "'<PROCESS> <invoke> print(1)'"
      ]
     },
     "execution_count": 22,
     "metadata": {},
     "output_type": "execute_result"
    }
   ],
   "source": [
    "\"<PROCESS> <invoke> {}\".format(print.__name__+\"(\"+str(nParameter)+\")\")"
   ]
  },
  {
   "cell_type": "code",
   "execution_count": 23,
   "id": "turkish-village",
   "metadata": {},
   "outputs": [
    {
     "data": {
      "text/plain": [
       "'<RECURSION> <base case> True'"
      ]
     },
     "execution_count": 23,
     "metadata": {},
     "output_type": "execute_result"
    }
   ],
   "source": [
    "\"<RECURSION> <base case> {}\".format(nParameter<2)"
   ]
  },
  {
   "cell_type": "code",
   "execution_count": 24,
   "id": "extensive-genesis",
   "metadata": {},
   "outputs": [],
   "source": [
    "nParameter+=1; nProcess=fCount.__name__+\"(\"+str(nParameter)+\")\""
   ]
  },
  {
   "cell_type": "code",
   "execution_count": 25,
   "id": "following-worst",
   "metadata": {},
   "outputs": [
    {
     "data": {
      "text/plain": [
       "'<PROCESS> <invoke> fCount(2)'"
      ]
     },
     "execution_count": 25,
     "metadata": {},
     "output_type": "execute_result"
    }
   ],
   "source": [
    "\"<PROCESS> <invoke> {}\".format(nProcess)"
   ]
  },
  {
   "cell_type": "code",
   "execution_count": 26,
   "id": "changed-adaptation",
   "metadata": {},
   "outputs": [],
   "source": [
    "nRecord.append(nProcess); nTime+=1"
   ]
  },
  {
   "cell_type": "code",
   "execution_count": 27,
   "id": "found-danger",
   "metadata": {},
   "outputs": [
    {
     "data": {
      "text/plain": [
       "\"<STACK> <push> fCount(2) <activation frame(s)> ['__main__', 'fCount(0)', 'fCount(1)', 'fCount(2)'] <time/active> 4\""
      ]
     },
     "execution_count": 27,
     "metadata": {},
     "output_type": "execute_result"
    }
   ],
   "source": [
    "\"<STACK> <push> {} <activation frame(s)> {} <time/active> {}\".format(nProcess,nRecord,nTime)"
   ]
  },
  {
   "cell_type": "markdown",
   "id": "automatic-harvey",
   "metadata": {},
   "source": [
    "![main-call-alpha](https://github.com/SeanOhAileasa/SeanOhAileasa/blob/master/img/cta/recursion/stack/04-1-08.png?raw=true)\n",
    "\n",
    "***(Image) P. Mannion, \"05 Recursive Algorithms Part 1 (Java +Python),\" GMIT, February 2019.***"
   ]
  },
  {
   "cell_type": "code",
   "execution_count": 28,
   "id": "broken-attempt",
   "metadata": {
    "scrolled": true
   },
   "outputs": [
    {
     "data": {
      "text/plain": [
       "'<PROCESS> <invoke> print(2)'"
      ]
     },
     "execution_count": 28,
     "metadata": {},
     "output_type": "execute_result"
    }
   ],
   "source": [
    "\"<PROCESS> <invoke> {}\".format(print.__name__+\"(\"+str(nParameter)+\")\")"
   ]
  },
  {
   "cell_type": "code",
   "execution_count": 29,
   "id": "handy-recipe",
   "metadata": {},
   "outputs": [
    {
     "data": {
      "text/plain": [
       "'<RECURSION> <base case> False'"
      ]
     },
     "execution_count": 29,
     "metadata": {},
     "output_type": "execute_result"
    }
   ],
   "source": [
    "\"<RECURSION> <base case> {}\".format(nParameter<2)"
   ]
  },
  {
   "cell_type": "markdown",
   "id": "accredited-queens",
   "metadata": {},
   "source": [
    "- recursion stops [1]"
   ]
  },
  {
   "cell_type": "markdown",
   "id": "further-substitute",
   "metadata": {},
   "source": [
    "- all activation frames return control to their caller - popped off the stack [1]"
   ]
  },
  {
   "cell_type": "code",
   "execution_count": 30,
   "id": "adjustable-albany",
   "metadata": {},
   "outputs": [
    {
     "data": {
      "text/plain": [
       "\"<STACK> <pop> fCount(2) <activation frame(s)> ['__main__', 'fCount(0)', 'fCount(1)']\""
      ]
     },
     "execution_count": 30,
     "metadata": {},
     "output_type": "execute_result"
    }
   ],
   "source": [
    "\"<STACK> <pop> {} <activation frame(s)> {}\".format(nRecord.pop(),nRecord)"
   ]
  },
  {
   "cell_type": "code",
   "execution_count": 31,
   "id": "favorite-wagon",
   "metadata": {},
   "outputs": [
    {
     "data": {
      "text/plain": [
       "\"<STACK> <pop> fCount(1) <activation frame(s)> ['__main__', 'fCount(0)']\""
      ]
     },
     "execution_count": 31,
     "metadata": {},
     "output_type": "execute_result"
    }
   ],
   "source": [
    "\"<STACK> <pop> {} <activation frame(s)> {}\".format(nRecord.pop(),nRecord)"
   ]
  },
  {
   "cell_type": "code",
   "execution_count": 32,
   "id": "earned-mileage",
   "metadata": {},
   "outputs": [
    {
     "data": {
      "text/plain": [
       "\"<STACK> <pop> fCount(0) <activation frame(s)> ['__main__']\""
      ]
     },
     "execution_count": 32,
     "metadata": {},
     "output_type": "execute_result"
    }
   ],
   "source": [
    "\"<STACK> <pop> {} <activation frame(s)> {}\".format(nRecord.pop(),nRecord)"
   ]
  },
  {
   "cell_type": "markdown",
   "id": "stunning-girlfriend",
   "metadata": {},
   "source": [
    "- ``main`` stops running then also popped off the stack [1]"
   ]
  },
  {
   "cell_type": "code",
   "execution_count": 33,
   "id": "auburn-disclosure",
   "metadata": {},
   "outputs": [
    {
     "data": {
      "text/plain": [
       "'<STACK> <pop> __main__ <activation frame(s)> []'"
      ]
     },
     "execution_count": 33,
     "metadata": {},
     "output_type": "execute_result"
    }
   ],
   "source": [
    "\"<STACK> <pop> {} <activation frame(s)> {}\".format(nRecord.pop(),nRecord)"
   ]
  },
  {
   "cell_type": "markdown",
   "id": "israeli-thomas",
   "metadata": {},
   "source": [
    "![main-call-alpha](https://github.com/SeanOhAileasa/SeanOhAileasa/blob/master/img/cta/recursion/stack/04-1-09.png?raw=true)\n",
    "\n",
    "***(Image) P. Mannion, \"05 Recursive Algorithms Part 1 (Java +Python),\" GMIT, February 2019.***"
   ]
  },
  {
   "cell_type": "code",
   "execution_count": 34,
   "id": "infinite-nothing",
   "metadata": {},
   "outputs": [],
   "source": [
    "exit()"
   ]
  },
  {
   "cell_type": "markdown",
   "id": "elegant-portland",
   "metadata": {},
   "source": [
    "<!-- - refer [Appendix](#appendix-df) to view the full dataset <a id=\"go-back-df\"></a> -->\n",
    "<!-- print(fGetModuleType(___x___),fDocumentation(___x___)) -->\n",
    "***\n",
    "## END"
   ]
  },
  {
   "cell_type": "markdown",
   "id": "reflected-reflection",
   "metadata": {},
   "source": [
    "< [Table of Contents](#top) | [Abstract](#abstract) | [Introduction](#introduction) | [Solution](#solution) | [References](#references) >\n",
    "<a id=\"conclusion\"></a>\n",
    "***\n",
    "## Conclusion\n",
    "***"
   ]
  },
  {
   "cell_type": "markdown",
   "id": "stretch-investigator",
   "metadata": {},
   "source": [
    "- recursion in an alternative to iteration and its important to note that any set of tasks which could be accomplished using a recursive process can also be accomplished by using an iterative process [1]"
   ]
  },
  {
   "cell_type": "markdown",
   "id": "possible-speech",
   "metadata": {},
   "source": [
    "- recursion is an expensive way to design algorithms given that multiple activation frames will be active for a process at any one point (there is overhead involved with every process call) [1]"
   ]
  },
  {
   "cell_type": "markdown",
   "id": "verified-scheduling",
   "metadata": {},
   "source": [
    "- analysing ``fCount`` by visualising which process activation frames (records) on the stack are active at any one time demonstrates that even for a very simple process (printing the sequence \"0, 1, 2\" to the console) needed to have three function activation frames on the stack whereas this task could easily be achieved just using an iterative approach (``for`` loop to print out the sequence) [1]"
   ]
  },
  {
   "cell_type": "markdown",
   "id": "dressed-spider",
   "metadata": {},
   "source": [
    "- if both statements are true: i) a recursive process can also be accomplished by using iterative process and; ii) recursion is expensive involving additional overhead when compared to an iterative approach then the question is why use recursion (use cases) [1] "
   ]
  },
  {
   "cell_type": "markdown",
   "id": "prerequisite-camcorder",
   "metadata": {},
   "source": [
    "- in many cases the extra expense of recursion (extra complexity) in terms of the running time is far outweighed by having a simpler cleaner algorithm which leads to an implementation which is in general easier to code [1] "
   ]
  },
  {
   "cell_type": "markdown",
   "id": "spoken-anime",
   "metadata": {},
   "source": [
    "- may be happy to make some sacrifices in terms of overhead involved in process calls if the code is clean and more concise (simpler) and easier to understand [1]"
   ]
  },
  {
   "cell_type": "markdown",
   "id": "radio-slide",
   "metadata": {},
   "source": [
    "- ultimately recursion would be eliminated when the compiler gets down to the level of creating assembly language by implementing the stack [1]"
   ]
  },
  {
   "cell_type": "markdown",
   "id": "union-database",
   "metadata": {},
   "source": [
    "- in general if the recursion tree (recursion process) has a very simple form (a lot of repeated tasks) then the iterative version may in fact be better wheras if having a recursion tree that appears quite bushy (there are a lot of different cases and a lot of different branches and ways that task could go) then recursion is more the natural solution if there are very few duplicate tasks (are similar with different instances of the same problem) [1]"
   ]
  },
  {
   "cell_type": "code",
   "execution_count": 1,
   "id": "comparative-expert",
   "metadata": {},
   "outputs": [],
   "source": [
    "exit()"
   ]
  },
  {
   "cell_type": "markdown",
   "id": "elementary-master",
   "metadata": {},
   "source": [
    "<!-- print(fGetModuleType(___x___),fDocumentation(___x___)) -->\n",
    "***\n",
    "## END"
   ]
  },
  {
   "cell_type": "markdown",
   "id": "found-ridge",
   "metadata": {},
   "source": [
    "< [Table of Contents](#top) | [Abstract](#abstract) | [Introduction](#introduction) | [Solution](#solution) | [Conclusion](#conclusion) | [References](#references) >\n",
    "<a id=\"references\"></a>\n",
    "***\n",
    "## References\n",
    "***\n",
    "&nbsp;&nbsp;&nbsp;&nbsp;&nbsp;&nbsp;&nbsp;&nbsp;&nbsp;[1] P. Mannion, \"05 Recursive Algorithms Part 1 (Java +Python),\" GMIT, February 2019."
   ]
  },
  {
   "cell_type": "markdown",
   "id": "human-genre",
   "metadata": {},
   "source": [
    "***\n",
    "## END"
   ]
  },
  {
   "cell_type": "markdown",
   "id": "understood-stage",
   "metadata": {},
   "source": [
    "< [Table of Contents](#top) | [Abstract](#abstract) | [Introduction](#introduction) | [Solution](#solution) | [Conclusion](#conclusion) | [References](#references) >\n",
    "<a id=\"appendix\"></a>\n",
    "***\n",
    "## Appendix\n",
    "***"
   ]
  },
  {
   "cell_type": "markdown",
   "id": "incorrect-satin",
   "metadata": {},
   "source": [
    "<a id=\"appendix-some-reference\"></a>\n",
    "< [Go Back](#top) >"
   ]
  },
  {
   "cell_type": "markdown",
   "id": "raised-vintage",
   "metadata": {},
   "source": [
    "&#x1F6A7;"
   ]
  },
  {
   "cell_type": "markdown",
   "id": "greater-hardwood",
   "metadata": {},
   "source": [
    "###### Github\n",
    "***"
   ]
  },
  {
   "cell_type": "markdown",
   "id": "foster-guitar",
   "metadata": {},
   "source": [
    "```\n",
    "git push -f origin HEAD^:master && git reset HEAD~\n",
    "```"
   ]
  },
  {
   "cell_type": "markdown",
   "id": "sixth-fleece",
   "metadata": {},
   "source": [
    "###### Functions\n",
    "***"
   ]
  },
  {
   "cell_type": "markdown",
   "id": "baking-disposal",
   "metadata": {},
   "source": [
    "```python\n",
    "# %%writefile -a ../src/fubar.py\n",
    "# repository ./fubar-python\n",
    "def f():\n",
    "    \"\"\"\n",
    "\n",
    "Input:\n",
    "Process:\n",
    "Output:\n",
    "\"\"\"\n",
    "    pass\n",
    "# -- END ---\n",
    "```"
   ]
  },
  {
   "cell_type": "markdown",
   "id": "postal-comedy",
   "metadata": {},
   "source": [
    "```\n",
    "git commit -m \"update repository ./fubar-python - Everything in python is an object.\"\n",
    "```"
   ]
  },
  {
   "cell_type": "markdown",
   "id": "adaptive-edwards",
   "metadata": {},
   "source": [
    "###### Tables\n",
    "***"
   ]
  },
  {
   "cell_type": "markdown",
   "id": "reserved-welding",
   "metadata": {},
   "source": [
    "|aaa|bbbbbb|ccccccccc|\n",
    "|:------------------------- | :------------------------- | :------------------------- |\n",
    "|aaa|bbbbbb|ccccccccc|"
   ]
  },
  {
   "cell_type": "markdown",
   "id": "appreciated-mattress",
   "metadata": {},
   "source": [
    "***\n",
    "## END"
   ]
  },
  {
   "cell_type": "markdown",
   "id": "fantastic-spain",
   "metadata": {},
   "source": [
    "# END JUPYTER NOTEBOOK"
   ]
  }
 ],
 "metadata": {
  "kernelspec": {
   "display_name": "Python 3",
   "language": "python",
   "name": "python3"
  },
  "language_info": {
   "codemirror_mode": {
    "name": "ipython",
    "version": 3
   },
   "file_extension": ".py",
   "mimetype": "text/x-python",
   "name": "python",
   "nbconvert_exporter": "python",
   "pygments_lexer": "ipython3",
   "version": "3.8.3"
  }
 },
 "nbformat": 4,
 "nbformat_minor": 5
}
